{
 "cells": [
  {
   "cell_type": "code",
   "execution_count": 144,
   "id": "07158011",
   "metadata": {},
   "outputs": [],
   "source": [
    "import pandas as pd"
   ]
  },
  {
   "cell_type": "markdown",
   "id": "af10f3be",
   "metadata": {},
   "source": [
    "# 1. Reading scraped data"
   ]
  },
  {
   "cell_type": "code",
   "execution_count": 171,
   "id": "415fcdc2",
   "metadata": {},
   "outputs": [
    {
     "data": {
      "text/html": [
       "<div>\n",
       "<style scoped>\n",
       "    .dataframe tbody tr th:only-of-type {\n",
       "        vertical-align: middle;\n",
       "    }\n",
       "\n",
       "    .dataframe tbody tr th {\n",
       "        vertical-align: top;\n",
       "    }\n",
       "\n",
       "    .dataframe thead th {\n",
       "        text-align: right;\n",
       "    }\n",
       "</style>\n",
       "<table border=\"1\" class=\"dataframe\">\n",
       "  <thead>\n",
       "    <tr style=\"text-align: right;\">\n",
       "      <th></th>\n",
       "      <th>product_name</th>\n",
       "      <th>brand_name</th>\n",
       "      <th>price</th>\n",
       "      <th>sold</th>\n",
       "      <th>prod_url</th>\n",
       "      <th>customer_name</th>\n",
       "      <th>purchase_date</th>\n",
       "      <th>customers_city</th>\n",
       "      <th>rating</th>\n",
       "      <th>comment_head</th>\n",
       "      <th>comment</th>\n",
       "    </tr>\n",
       "  </thead>\n",
       "  <tbody>\n",
       "    <tr>\n",
       "      <th>51230</th>\n",
       "      <td>Whirlpool 570 L Frost Free Side by Side Invert...</td>\n",
       "      <td>Whirlpool</td>\n",
       "      <td>72990.0</td>\n",
       "      <td>903.0</td>\n",
       "      <td>https://www.flipkart.com/whirlpool-570-l-frost...</td>\n",
       "      <td>Pruthvi Teja</td>\n",
       "      <td>Mar, 2021</td>\n",
       "      <td>Amalapuram</td>\n",
       "      <td>5.0</td>\n",
       "      <td>Super!</td>\n",
       "      <td>Best in class refrigerator &amp; Thanks to whirlpo...</td>\n",
       "    </tr>\n",
       "    <tr>\n",
       "      <th>51231</th>\n",
       "      <td>Whirlpool 570 L Frost Free Side by Side Invert...</td>\n",
       "      <td>Whirlpool</td>\n",
       "      <td>72990.0</td>\n",
       "      <td>903.0</td>\n",
       "      <td>https://www.flipkart.com/whirlpool-570-l-frost...</td>\n",
       "      <td>Praveen Kumar  Singh</td>\n",
       "      <td>Jan, 2021</td>\n",
       "      <td>Purnia</td>\n",
       "      <td>4.0</td>\n",
       "      <td>Wonderful</td>\n",
       "      <td>A Nice refrigerator delivered without any flaw...</td>\n",
       "    </tr>\n",
       "    <tr>\n",
       "      <th>51232</th>\n",
       "      <td>Whirlpool 570 L Frost Free Side by Side Invert...</td>\n",
       "      <td>Whirlpool</td>\n",
       "      <td>72990.0</td>\n",
       "      <td>903.0</td>\n",
       "      <td>https://www.flipkart.com/whirlpool-570-l-frost...</td>\n",
       "      <td>Samrat Mallick</td>\n",
       "      <td>Dec, 2020</td>\n",
       "      <td>Burdwan</td>\n",
       "      <td>5.0</td>\n",
       "      <td>Perfect product!</td>\n",
       "      <td>Nice product.</td>\n",
       "    </tr>\n",
       "    <tr>\n",
       "      <th>51233</th>\n",
       "      <td>Whirlpool 570 L Frost Free Side by Side Invert...</td>\n",
       "      <td>Whirlpool</td>\n",
       "      <td>72990.0</td>\n",
       "      <td>903.0</td>\n",
       "      <td>https://www.flipkart.com/whirlpool-570-l-frost...</td>\n",
       "      <td>anand kumar</td>\n",
       "      <td>Oct, 2020</td>\n",
       "      <td>Bengaluru</td>\n",
       "      <td>5.0</td>\n",
       "      <td>Great product</td>\n",
       "      <td>Excellent refrigerator</td>\n",
       "    </tr>\n",
       "    <tr>\n",
       "      <th>51234</th>\n",
       "      <td>Whirlpool 570 L Frost Free Side by Side Invert...</td>\n",
       "      <td>Whirlpool</td>\n",
       "      <td>72990.0</td>\n",
       "      <td>903.0</td>\n",
       "      <td>https://www.flipkart.com/whirlpool-570-l-frost...</td>\n",
       "      <td>Ramandeep kaur</td>\n",
       "      <td>Aug, 2020</td>\n",
       "      <td>Patiala</td>\n",
       "      <td>5.0</td>\n",
       "      <td>Highly recommended</td>\n",
       "      <td>Nice product .capacity is good .must buy</td>\n",
       "    </tr>\n",
       "  </tbody>\n",
       "</table>\n",
       "</div>"
      ],
      "text/plain": [
       "                                            product_name brand_name    price  \\\n",
       "51230  Whirlpool 570 L Frost Free Side by Side Invert...  Whirlpool  72990.0   \n",
       "51231  Whirlpool 570 L Frost Free Side by Side Invert...  Whirlpool  72990.0   \n",
       "51232  Whirlpool 570 L Frost Free Side by Side Invert...  Whirlpool  72990.0   \n",
       "51233  Whirlpool 570 L Frost Free Side by Side Invert...  Whirlpool  72990.0   \n",
       "51234  Whirlpool 570 L Frost Free Side by Side Invert...  Whirlpool  72990.0   \n",
       "\n",
       "        sold                                           prod_url  \\\n",
       "51230  903.0  https://www.flipkart.com/whirlpool-570-l-frost...   \n",
       "51231  903.0  https://www.flipkart.com/whirlpool-570-l-frost...   \n",
       "51232  903.0  https://www.flipkart.com/whirlpool-570-l-frost...   \n",
       "51233  903.0  https://www.flipkart.com/whirlpool-570-l-frost...   \n",
       "51234  903.0  https://www.flipkart.com/whirlpool-570-l-frost...   \n",
       "\n",
       "              customer_name purchase_date customers_city  rating  \\\n",
       "51230          Pruthvi Teja     Mar, 2021     Amalapuram     5.0   \n",
       "51231  Praveen Kumar  Singh     Jan, 2021         Purnia     4.0   \n",
       "51232        Samrat Mallick     Dec, 2020        Burdwan     5.0   \n",
       "51233           anand kumar     Oct, 2020      Bengaluru     5.0   \n",
       "51234       Ramandeep kaur      Aug, 2020        Patiala     5.0   \n",
       "\n",
       "             comment_head                                            comment  \n",
       "51230              Super!  Best in class refrigerator & Thanks to whirlpo...  \n",
       "51231           Wonderful  A Nice refrigerator delivered without any flaw...  \n",
       "51232    Perfect product!                                      Nice product.  \n",
       "51233       Great product                             Excellent refrigerator  \n",
       "51234  Highly recommended           Nice product .capacity is good .must buy  "
      ]
     },
     "execution_count": 171,
     "metadata": {},
     "output_type": "execute_result"
    }
   ],
   "source": [
    "df = pd.read_csv(r\"D:\\flipkart reviews\\scraped data\\reviews.csv\")\n",
    "df.tail(5)"
   ]
  },
  {
   "cell_type": "code",
   "execution_count": 200,
   "id": "15bc60d4",
   "metadata": {},
   "outputs": [
    {
     "data": {
      "text/plain": [
       "array(['BOSCH 263 L Frost Free Double Door Top Mount 3 Star Convertible Refrigerator ',\n",
       "       'CANDY 170 L Direct Cool Single Door 2 Star Refrigerator ',\n",
       "       'CANDY 195 L Direct Cool Single Door 3 Star Refrigerator ',\n",
       "       'CANDY 258 L Frost Free Double Door 2 Star Convertible Refrigerator ',\n",
       "       'Godrej 185 L Direct Cool Single Door 2 Star Refrigerator ',\n",
       "       'Godrej 185 L Direct Cool Single Door 3 Star Refrigerator ',\n",
       "       'Godrej 185 L Direct Cool Single Door 4 Star Refrigerator ',\n",
       "       'Godrej 190 L Direct Cool Single Door 5 Star Refrigerator  with Base Drawer and Intelligent Inverter Compressor ',\n",
       "       'Godrej 190 L Direct Cool Single Door 5 Star Refrigerator ',\n",
       "       'Godrej 192 L Direct Cool Single Door 2 Star Refrigerator ',\n",
       "       'Godrej 225 L Direct Cool Single Door 3 Star Refrigerator with Base Drawer  with Intelligent Inverter Compressor ',\n",
       "       'Godrej 236 L Frost Free Double Door 2 Star Refrigerator ',\n",
       "       'Godrej 240 L Direct Cool Single Door 4 Star Refrigerator with Base Drawer ',\n",
       "       'Godrej 244 L Frost Free Double Door 3 Star Convertible Refrigerator ',\n",
       "       'Godrej 265 L Frost Free Double Door 3 Star Convertible Refrigerator ',\n",
       "       'Godrej 30 L Qube Personal Cooling Solution ',\n",
       "       'Godrej 564 L Frost Free Side by Side Refrigerator ',\n",
       "       'Godrej 99 L Direct Cool Single Door 2 Star Refrigerator ',\n",
       "       'Haier 170 L Direct Cool Single Door 2 Star Refrigerator ',\n",
       "       'Haier 181 L Direct Cool Single Door 2 Star Refrigerator ',\n",
       "       'Haier 182 L Direct Cool Single Door 2 Star Refrigerator ',\n",
       "       'Haier 190 L Direct Cool Single Door 2 Star Refrigerator ',\n",
       "       'Haier 192 L Direct Cool Single Door 3 Star Refrigerator ',\n",
       "       'Haier 192 L Direct Cool Single Door 3 Star Refrigerator with Base Drawer ',\n",
       "       'Haier 195 L Direct Cool Single Door 4 Star Refrigerator ',\n",
       "       'Haier 195 L Direct Cool Single Door 5 Star Refrigerator ',\n",
       "       'Haier 195 L Direct Cool Single Door 5 Star Refrigerator with Base Drawer ',\n",
       "       'Haier 242 L Direct Cool Single Door 3 Star Refrigerator ',\n",
       "       'Haier 256 L Frost Free Double Door 3 Star Convertible Refrigerator ',\n",
       "       'Haier 256 L Frost Free Double Door Bottom Mount 2 Star Convertible Refrigerator ',\n",
       "       'Haier 256 l Frost Free Double Door Bottom Mount 3 Star Convertible Refrigerator ',\n",
       "       'Haier 276 L Frost Free Double Door 3 Star Convertible Refrigerator ',\n",
       "       'Haier 278 L Frost Free Double Door 3 Star Convertible Refrigerator ',\n",
       "       'Haier 346 L Frost Free Double Door 3 Star Convertible Refrigerator ',\n",
       "       'Haier 460 L Frost Free Double Door 4 Star Convertible Refrigerator ',\n",
       "       'Haier 53 L Direct Cool Single Door 2 Star Refrigerator ',\n",
       "       'Haier 570 L Frost Free Side by Side Refrigerator ',\n",
       "       'Haier 630 L Frost Free Side by Side Convertible Refrigerator ',\n",
       "       'Hisense 507 L Frost Free French Door Bottom Mount Inverter Technology Star Convertible Refrigerator with Base Drawer ',\n",
       "       'Hitachi 565 L Frost Free Double Door 3 Star Refrigerator ',\n",
       "       'Kelvinator 190 L Direct Cool Single Door 2 Star Refrigerator ',\n",
       "       'LG 190 L Direct Cool Single Door 2 Star Refrigerator ',\n",
       "       'LG 190 L Direct Cool Single Door 3 Star Refrigerator ',\n",
       "       'LG 190 L Direct Cool Single Door 3 Star Refrigerator with Base Drawer ',\n",
       "       'LG 190 L Direct Cool Single Door 4 Star Refrigerator ',\n",
       "       'LG 190 L Direct Cool Single Door 4 Star Refrigerator with Base Drawer ',\n",
       "       'LG 190 L Direct Cool Single Door 5 Star Refrigerator with Base Drawer  with Smart Inverter Compressor ',\n",
       "       'LG 215 L Direct Cool Single Door 3 Star Refrigerator  with Fast Ice Making ',\n",
       "       'LG 215 L Direct Cool Single Door 3 Star Refrigerator with Base Drawer  with Fast Ice Making ',\n",
       "       'LG 215 L Direct Cool Single Door 4 Star Refrigerator ',\n",
       "       \"LG 215 L Direct Cool Single Door 5 Star Refrigerator  with Smart Inverter With Smart Connect , Moist 'N' Fresh \",\n",
       "       'LG 235 L Direct Cool Single Door 4 Star Refrigerator with Base Drawer ',\n",
       "       'LG 235 L Direct Cool Single Door 5 Star Refrigerator with Base Drawer ',\n",
       "       'LG 260 L Frost Free Double Door 2 Star Convertible Refrigerator  with Convertible Refrigerator ',\n",
       "       'LG 260 L Frost Free Double Door 2 Star Refrigerator ',\n",
       "       'LG 260 L Frost Free Double Door 3 Star Refrigerator ',\n",
       "       'LG 260 L Frost Free Double Door Top Mount 2 Star Refrigerator ',\n",
       "       'LG 260 L Frost Free Double Door Top Mount 3 Star Refrigerator  with Smart Inverter ',\n",
       "       'LG 270 L Direct Cool Single Door 3 Star Refrigerator ',\n",
       "       'LG 360 L Frost Free Double Door 3 Star Convertible Refrigerator  with Smart Inverter Technology & Wi-Fi , Door Cooling+ ',\n",
       "       'LG 516 L Frost Free Double Door 2 Star Refrigerator ',\n",
       "       'LG 547 L Frost Free Double Door 3 Star Refrigerator  with with Door Cooling and Smart ThinQ(WiFi Enabled) ',\n",
       "       'LG 630 L Frost Free Double Door 3 Star Refrigerator ',\n",
       "       'LG 675 L Frost Free Side by Side Refrigerator  with with Door Cooling and Smart ThinQ(WiFi Enabled) ',\n",
       "       'LG 679 L Frost Free Side by Side Refrigerator  with With Multi Air Flow ',\n",
       "       'Liebherr 265 L Frost Free Double Door Top Mount 3 Star Refrigerator ',\n",
       "       'Liebherr 472 L Frost Free Double Door Top Mount 2 Star Refrigerator ',\n",
       "       'Lloyd 200 L Direct Cool Single Door 4 Star Refrigerator with Base Drawer ',\n",
       "       'MarQ by Flipkart 190 L Direct Cool Single Door 3 Star Refrigerator ',\n",
       "       'MarQ by Flipkart 560 L Frost Free Side by Side Refrigerator  with Water Dispenser ',\n",
       "       'MarQ by Flipkart 563 L Frost Free Side by Side Refrigerator ',\n",
       "       'Midea 45 L Direct Cool Single Door 2 Star Refrigerator ',\n",
       "       'Midea 482 L Frost Free Side by Side Refrigerator ',\n",
       "       'Midea 544 L Frost Free French Door Bottom Mount Refrigerator ',\n",
       "       'Midea 591 L Frost Free Side by Side Refrigerator ',\n",
       "       'Midea 95 L Direct Cool Single Door 1 Star Refrigerator ',\n",
       "       'MOTOROLA 338 L Frost Free Double Door 3 Star Convertible Refrigerator ',\n",
       "       'MOTOROLA 507 L Frost Free Multi-Door Convertible Refrigerator ',\n",
       "       'Motorola 533 L Smart Wifi Enabled Frost Free Multi-Door Refrigerator ',\n",
       "       'ONIDA 190 L Direct Cool Single Door 3 Star Refrigerator ',\n",
       "       'Panasonic 296 L Frost Free Double Door 2 Star Refrigerator ',\n",
       "       'Panasonic 309 L Frost Free Double Door 3 Star Refrigerator ',\n",
       "       'realme TechLife 280 L Frost Free Double Door 3 Star Refrigerator ',\n",
       "       'realme TechLife 308 L Frost Free Double Door 3 Star Refrigerator ',\n",
       "       'realme TechLife 338 L Frost Free Double Door 3 Star Refrigerator ',\n",
       "       'SAMSUNG 192 L Direct Cool Single Door 1 Star Refrigerator ',\n",
       "       'SAMSUNG 192 L Direct Cool Single Door 2 Star Refrigerator ',\n",
       "       'SAMSUNG 192 L Direct Cool Single Door 2 Star Refrigerator with Base Drawer ',\n",
       "       'SAMSUNG 192 L Direct Cool Single Door 3 Star Refrigerator with Base Drawer ',\n",
       "       'SAMSUNG 192 L Direct Cool Single Door 4 Star Refrigerator  with Digi Touch Cool, Curd Maestro ',\n",
       "       'SAMSUNG 198 L Direct Cool Single Door 3 Star Refrigerator ',\n",
       "       'SAMSUNG 198 L Direct Cool Single Door 4 Star Refrigerator ',\n",
       "       'SAMSUNG 198 L Direct Cool Single Door 4 Star Refrigerator with Base Drawer ',\n",
       "       'SAMSUNG 198 L Direct Cool Single Door 5 Star Refrigerator with Base Drawer ',\n",
       "       'SAMSUNG 220 L Direct Cool Single Door 4 Star Refrigerator  with Curd Maestro ',\n",
       "       'SAMSUNG 220 L Direct Cool Single Door 4 Star Refrigerator  with Digi Touch Cool, Curd Maestro ',\n",
       "       'SAMSUNG 225 L Direct Cool Single Door 4 Star Refrigerator ',\n",
       "       'SAMSUNG 225 L Direct Cool Single Door 5 Star Refrigerator with Base Drawer ',\n",
       "       'SAMSUNG 230 L Direct Cool Single Door 3 Star Refrigerator ',\n",
       "       'SAMSUNG 244 L Frost Free Double Door 3 Star Refrigerator  with Curd Maestro ',\n",
       "       'SAMSUNG 253 l Frost Free Double Door 1 Star Refrigerator ',\n",
       "       'SAMSUNG 253 L Frost Free Double Door 2 Star Convertible Refrigerator ',\n",
       "       'SAMSUNG 253 L Frost Free Double Door 2 Star Refrigerator ',\n",
       "       'SAMSUNG 253 L Frost Free Double Door 2 Star Refrigerator with Base Drawer ',\n",
       "       'SAMSUNG 253 L Frost Free Double Door 3 Star Refrigerator ',\n",
       "       'SAMSUNG 255 L Direct Cool Single Door 3 Star Refrigerator with Base Drawer ',\n",
       "       'SAMSUNG 275 L Frost Free Double Door 3 Star Refrigerator ',\n",
       "       'SAMSUNG 314 l Frost Free Double Door 2 Star Convertible Refrigerator  with with Curd Maestro ',\n",
       "       'SAMSUNG 324 L Frost Free Double Door 2 Star Convertible Refrigerator ',\n",
       "       'SAMSUNG 336 L Frost Free Double Door 2 Star Refrigerator  with Curd Maestro ',\n",
       "       'SAMSUNG 345 L Frost Free Double Door 3 Star Convertible Refrigerator ',\n",
       "       'SAMSUNG 394 L Frost Free Double Door 2 Star Refrigerator ',\n",
       "       'Whirlpool 190 L Direct Cool Single Door 2 Star Refrigerator ',\n",
       "       'Whirlpool 190 L Direct Cool Single Door 2 Star Refrigerator with Base Drawer ',\n",
       "       'Whirlpool 190 L Direct Cool Single Door 3 Star Refrigerator ',\n",
       "       'Whirlpool 190 L Direct Cool Single Door 4 Star Refrigerator  with Intellisense Inverter Compressor ',\n",
       "       'Whirlpool 190 L Direct Cool Single Door 4 Star Refrigerator ',\n",
       "       'Whirlpool 190 L Direct Cool Single Door 4 Star Refrigerator with Base Drawer  with Intellisense Inverter Compressor ',\n",
       "       'Whirlpool 190 L Frost Free Single Door 3 Star Refrigerator ',\n",
       "       'Whirlpool 200 L Direct Cool Single Door 3 Star Refrigerator ',\n",
       "       'Whirlpool 200 L Direct Cool Single Door 4 Star Refrigerator with Base Drawer ',\n",
       "       'Whirlpool 215 L Direct Cool Single Door 3 Star Refrigerator ',\n",
       "       'Whirlpool 215 L Direct Cool Single Door 5 Star Refrigerator ',\n",
       "       'Whirlpool 215 L Direct Cool Single Door 5 Star Refrigerator with Base Drawer ',\n",
       "       'Whirlpool 240 L Frost Free Triple Door Refrigerator ',\n",
       "       'Whirlpool 245 L Frost Free Double Door 2 Star Refrigerator ',\n",
       "       'Whirlpool 260 L Frost Free Triple Door Refrigerator ',\n",
       "       'Whirlpool 265 L Frost Free Double Door 2 Star Convertible Refrigerator ',\n",
       "       'Whirlpool 265 L Frost Free Double Door 2 Star Refrigerator  with Glass Door ',\n",
       "       'Whirlpool 265 L Frost Free Double Door 2 Star Refrigerator ',\n",
       "       'Whirlpool 265 L Frost Free Double Door 3 Star Convertible Refrigerator ',\n",
       "       'Whirlpool 280 L Direct Cool Single Door 3 Star Refrigerator  with Auto Defrost ',\n",
       "       'Whirlpool 292 L Frost Free Double Door 2 Star Refrigerator  with Glass Door ',\n",
       "       'Whirlpool 292 L Frost Free Double Door 3 Star Convertible Refrigerator ',\n",
       "       'Whirlpool 300 L Frost Free Triple Door Refrigerator ',\n",
       "       'Whirlpool 330 L Frost Free Triple Door Refrigerator ',\n",
       "       'Whirlpool 340 L Frost Free Double Door 3 Star Convertible Refrigerator ',\n",
       "       'Whirlpool 440 L Frost Free Double Door 3 Star Convertible Refrigerator ',\n",
       "       'Whirlpool 570 L Frost Free Side by Side Inverter Technology Star Refrigerator '],\n",
       "      dtype=object)"
      ]
     },
     "execution_count": 200,
     "metadata": {},
     "output_type": "execute_result"
    }
   ],
   "source": [
    "df['product_name'].unique()"
   ]
  },
  {
   "cell_type": "code",
   "execution_count": 172,
   "id": "6f47fb90",
   "metadata": {},
   "outputs": [
    {
     "name": "stdout",
     "output_type": "stream",
     "text": [
      "<class 'pandas.core.frame.DataFrame'>\n",
      "RangeIndex: 51235 entries, 0 to 51234\n",
      "Data columns (total 11 columns):\n",
      " #   Column          Non-Null Count  Dtype  \n",
      "---  ------          --------------  -----  \n",
      " 0   product_name    51155 non-null  object \n",
      " 1   brand_name      51155 non-null  object \n",
      " 2   price           51155 non-null  float64\n",
      " 3   sold            51155 non-null  float64\n",
      " 4   prod_url        51155 non-null  object \n",
      " 5   customer_name   51118 non-null  object \n",
      " 6   purchase_date   51155 non-null  object \n",
      " 7   customers_city  51155 non-null  object \n",
      " 8   rating          51155 non-null  float64\n",
      " 9   comment_head    51155 non-null  object \n",
      " 10  comment         51150 non-null  object \n",
      "dtypes: float64(3), object(8)\n",
      "memory usage: 4.3+ MB\n"
     ]
    }
   ],
   "source": [
    "df.info()"
   ]
  },
  {
   "cell_type": "code",
   "execution_count": 173,
   "id": "6696017d",
   "metadata": {},
   "outputs": [
    {
     "data": {
      "text/plain": [
       "51235"
      ]
     },
     "execution_count": 173,
     "metadata": {},
     "output_type": "execute_result"
    }
   ],
   "source": [
    "len(df)"
   ]
  },
  {
   "cell_type": "markdown",
   "id": "2d7c7eb6",
   "metadata": {},
   "source": [
    "# 2. Removing null values"
   ]
  },
  {
   "cell_type": "code",
   "execution_count": 174,
   "id": "42676548",
   "metadata": {},
   "outputs": [
    {
     "data": {
      "text/plain": [
       "product_name       80\n",
       "brand_name         80\n",
       "price              80\n",
       "sold               80\n",
       "prod_url           80\n",
       "customer_name     117\n",
       "purchase_date      80\n",
       "customers_city     80\n",
       "rating             80\n",
       "comment_head       80\n",
       "comment            85\n",
       "dtype: int64"
      ]
     },
     "execution_count": 174,
     "metadata": {},
     "output_type": "execute_result"
    }
   ],
   "source": [
    "df.isna().sum()"
   ]
  },
  {
   "cell_type": "code",
   "execution_count": 175,
   "id": "6ded9960",
   "metadata": {},
   "outputs": [],
   "source": [
    "df.dropna(inplace=True, axis=0)"
   ]
  },
  {
   "cell_type": "code",
   "execution_count": 176,
   "id": "cd214601",
   "metadata": {},
   "outputs": [
    {
     "data": {
      "text/plain": [
       "product_name      0\n",
       "brand_name        0\n",
       "price             0\n",
       "sold              0\n",
       "prod_url          0\n",
       "customer_name     0\n",
       "purchase_date     0\n",
       "customers_city    0\n",
       "rating            0\n",
       "comment_head      0\n",
       "comment           0\n",
       "dtype: int64"
      ]
     },
     "execution_count": 176,
     "metadata": {},
     "output_type": "execute_result"
    }
   ],
   "source": [
    "df.isna().sum()"
   ]
  },
  {
   "cell_type": "code",
   "execution_count": 177,
   "id": "f622e7f8",
   "metadata": {},
   "outputs": [
    {
     "data": {
      "text/plain": [
       "51113"
      ]
     },
     "execution_count": 177,
     "metadata": {},
     "output_type": "execute_result"
    }
   ],
   "source": [
    "len(df)"
   ]
  },
  {
   "cell_type": "markdown",
   "id": "05ca18fc",
   "metadata": {},
   "source": [
    "### 122 rows removed"
   ]
  },
  {
   "cell_type": "markdown",
   "id": "c3655a89",
   "metadata": {},
   "source": [
    "# 3. correcting data types"
   ]
  },
  {
   "cell_type": "code",
   "execution_count": 178,
   "id": "162f569e",
   "metadata": {},
   "outputs": [
    {
     "data": {
      "text/plain": [
       "product_name       object\n",
       "brand_name         object\n",
       "price             float64\n",
       "sold              float64\n",
       "prod_url           object\n",
       "customer_name      object\n",
       "purchase_date      object\n",
       "customers_city     object\n",
       "rating            float64\n",
       "comment_head       object\n",
       "comment            object\n",
       "dtype: object"
      ]
     },
     "execution_count": 178,
     "metadata": {},
     "output_type": "execute_result"
    }
   ],
   "source": [
    "df.dtypes"
   ]
  },
  {
   "cell_type": "code",
   "execution_count": 179,
   "id": "2ced11a2",
   "metadata": {},
   "outputs": [],
   "source": [
    "convert= {'sold':int, 'rating':int}\n",
    "df = df.astype(convert)"
   ]
  },
  {
   "cell_type": "code",
   "execution_count": 180,
   "id": "35b89bba",
   "metadata": {},
   "outputs": [
    {
     "data": {
      "text/plain": [
       "product_name       object\n",
       "brand_name         object\n",
       "price             float64\n",
       "sold                int32\n",
       "prod_url           object\n",
       "customer_name      object\n",
       "purchase_date      object\n",
       "customers_city     object\n",
       "rating              int32\n",
       "comment_head       object\n",
       "comment            object\n",
       "dtype: object"
      ]
     },
     "execution_count": 180,
     "metadata": {},
     "output_type": "execute_result"
    }
   ],
   "source": [
    "df.dtypes"
   ]
  },
  {
   "cell_type": "markdown",
   "id": "c69aa2d7",
   "metadata": {},
   "source": [
    "# 4. Correcting date format"
   ]
  },
  {
   "cell_type": "code",
   "execution_count": 181,
   "id": "12517223",
   "metadata": {},
   "outputs": [
    {
     "data": {
      "text/plain": [
       "array(['1 month ago', '2 months ago', '3 months ago', '4 months ago',\n",
       "       '5 months ago', '6 months ago', '7 months ago', '1 day ago',\n",
       "       '2 days ago', '3 days ago', '8 days ago', '9 days ago',\n",
       "       '13 days ago', '19 days ago', '20 days ago', '21 days ago',\n",
       "       '22 days ago', '23 days ago', '25 days ago', '26 days ago',\n",
       "       '28 days ago', '8 months ago', '9 months ago', '10 months ago',\n",
       "       '11 months ago', 'Jan, 2022', 'Dec, 2021', 'Nov, 2021',\n",
       "       'Oct, 2021', 'Sep, 2021', 'Aug, 2021', 'Jul, 2021', 'Jun, 2021',\n",
       "       'May, 2021', 'Apr, 2021', 'Mar, 2021', '12 days ago',\n",
       "       '27 days ago', '4 days ago', '5 days ago', '7 days ago',\n",
       "       '14 days ago', '18 days ago', '24 days ago', '30 days ago',\n",
       "       '6 days ago', '10 days ago', '11 days ago', '15 days ago',\n",
       "       '17 days ago', '29 days ago', 'Feb, 2021', 'Jan, 2021',\n",
       "       'Dec, 2020', 'Nov, 2020', 'Oct, 2020', 'Sep, 2020', 'Aug, 2020',\n",
       "       'Jul, 2020', 'Jun, 2020', 'Today', 'Mar, 2020', 'Jan, 2020',\n",
       "       'Dec, 2019', 'Nov, 2019', 'Nov, 2018', 'Oct, 2018', 'Sep, 2018',\n",
       "       'Aug, 2018', 'Jul, 2018', 'May, 2018', 'Apr, 2018', '16 days ago',\n",
       "       'May, 2020', 'Feb, 2020', 'Oct, 2019', 'Sep, 2019', 'Jul, 2019',\n",
       "       'Aug, 2019', 'Jun, 2019', 'May, 2019', 'Apr, 2019', 'Mar, 2019',\n",
       "       'Feb, 2019', 'Jan, 2019', 'Dec, 2018', 'Jun, 2018', 'Mar, 2018',\n",
       "       'Sep, 2017', 'May, 2017', 'Jan, 2017', 'Apr, 2020', 'Feb, 2018',\n",
       "       'Jan, 2018', 'Dec, 2017', 'Nov, 2017', 'Apr, 2017', 'Mar, 2017',\n",
       "       'Feb, 2017', 'Nov, 2016', 'Oct, 2016', 'Sep, 2016', 'Aug, 2016',\n",
       "       'Jul, 2016', 'Jun, 2016', 'May, 2016', 'Oct, 2017', 'Aug, 2017',\n",
       "       'Jul, 2017', 'Dec, 2016', 'Jun, 2017', 'Apr, 2016', 'Mar, 2016'],\n",
       "      dtype=object)"
      ]
     },
     "execution_count": 181,
     "metadata": {},
     "output_type": "execute_result"
    }
   ],
   "source": [
    "df['purchase_date'].unique()"
   ]
  },
  {
   "cell_type": "markdown",
   "id": "b3aa7797",
   "metadata": {},
   "source": [
    "## 4.1 Get_prev_date() function will take values like '1 day ago', '2 days ago' and will return actual month name with year"
   ]
  },
  {
   "cell_type": "code",
   "execution_count": 182,
   "id": "62a74e5e",
   "metadata": {},
   "outputs": [],
   "source": [
    "import datetime\n",
    "from dateutil import relativedelta\n",
    "import calendar"
   ]
  },
  {
   "cell_type": "code",
   "execution_count": 183,
   "id": "4599ba54",
   "metadata": {},
   "outputs": [
    {
     "name": "stdout",
     "output_type": "stream",
     "text": [
      "Jan, 2023\n"
     ]
    }
   ],
   "source": [
    "# Using datetime module to find current month and year\n",
    "now = datetime.datetime.now()\n",
    "month = now.strftime(\"%b\")\n",
    "year = now.strftime(\"%Y\")\n",
    "print(f\"{month}, {year}\")"
   ]
  },
  {
   "cell_type": "code",
   "execution_count": 184,
   "id": "be0c7fc9",
   "metadata": {},
   "outputs": [],
   "source": [
    "def get_prev_date(value):\n",
    "    if (\"days\" in value or \"day\" in value):\n",
    "        return f\"{month}, {year}\"\n",
    "    else:\n",
    "        return value"
   ]
  },
  {
   "cell_type": "markdown",
   "id": "6a7a3e28",
   "metadata": {},
   "source": [
    "### eg:-"
   ]
  },
  {
   "cell_type": "code",
   "execution_count": 185,
   "id": "57c8f0db",
   "metadata": {
    "scrolled": true
   },
   "outputs": [
    {
     "data": {
      "text/plain": [
       "'Jan, 2023'"
      ]
     },
     "execution_count": 185,
     "metadata": {},
     "output_type": "execute_result"
    }
   ],
   "source": [
    "get_prev_date('30 days ago')"
   ]
  },
  {
   "cell_type": "markdown",
   "id": "416e57a2",
   "metadata": {},
   "source": [
    "### Lets apply get_prev_date() to 'purchase_date' column"
   ]
  },
  {
   "cell_type": "code",
   "execution_count": 186,
   "id": "b64dfcab",
   "metadata": {},
   "outputs": [],
   "source": [
    "df['purchase_date'] = df['purchase_date'].apply(get_prev_date)"
   ]
  },
  {
   "cell_type": "code",
   "execution_count": 187,
   "id": "ca6b8667",
   "metadata": {},
   "outputs": [
    {
     "data": {
      "text/plain": [
       "array(['1 month ago', '2 months ago', '3 months ago', '4 months ago',\n",
       "       '5 months ago', '6 months ago', '7 months ago', 'Jan, 2023',\n",
       "       '8 months ago', '9 months ago', '10 months ago', '11 months ago',\n",
       "       'Jan, 2022', 'Dec, 2021', 'Nov, 2021', 'Oct, 2021', 'Sep, 2021',\n",
       "       'Aug, 2021', 'Jul, 2021', 'Jun, 2021', 'May, 2021', 'Apr, 2021',\n",
       "       'Mar, 2021', 'Feb, 2021', 'Jan, 2021', 'Dec, 2020', 'Nov, 2020',\n",
       "       'Oct, 2020', 'Sep, 2020', 'Aug, 2020', 'Jul, 2020', 'Jun, 2020',\n",
       "       'Mar, 2020', 'Jan, 2020', 'Dec, 2019', 'Nov, 2019', 'Nov, 2018',\n",
       "       'Oct, 2018', 'Sep, 2018', 'Aug, 2018', 'Jul, 2018', 'May, 2018',\n",
       "       'Apr, 2018', 'May, 2020', 'Feb, 2020', 'Oct, 2019', 'Sep, 2019',\n",
       "       'Jul, 2019', 'Aug, 2019', 'Jun, 2019', 'May, 2019', 'Apr, 2019',\n",
       "       'Mar, 2019', 'Feb, 2019', 'Jan, 2019', 'Dec, 2018', 'Jun, 2018',\n",
       "       'Mar, 2018', 'Sep, 2017', 'May, 2017', 'Jan, 2017', 'Apr, 2020',\n",
       "       'Feb, 2018', 'Jan, 2018', 'Dec, 2017', 'Nov, 2017', 'Apr, 2017',\n",
       "       'Mar, 2017', 'Feb, 2017', 'Nov, 2016', 'Oct, 2016', 'Sep, 2016',\n",
       "       'Aug, 2016', 'Jul, 2016', 'Jun, 2016', 'May, 2016', 'Oct, 2017',\n",
       "       'Aug, 2017', 'Jul, 2017', 'Dec, 2016', 'Jun, 2017', 'Apr, 2016',\n",
       "       'Mar, 2016'], dtype=object)"
      ]
     },
     "execution_count": 187,
     "metadata": {},
     "output_type": "execute_result"
    }
   ],
   "source": [
    "df['purchase_date'].unique()"
   ]
  },
  {
   "cell_type": "markdown",
   "id": "f95ff0cc",
   "metadata": {},
   "source": [
    "### As we can see here, we have converted '1 day ago', '2 days ago' to 'Jan, 2023'."
   ]
  },
  {
   "cell_type": "markdown",
   "id": "a9d677df",
   "metadata": {},
   "source": [
    "## 4.2 Get_prev_month() function will take values like '1 month ago', '2 months ago' and will return actual month name with year"
   ]
  },
  {
   "cell_type": "code",
   "execution_count": 188,
   "id": "67e2586c",
   "metadata": {},
   "outputs": [],
   "source": [
    "def get_prev_month(value):\n",
    "    if (\"month\" in value or \"months\" in value):\n",
    "        n = int(value[0])\n",
    "        # Get the current date and extract the year and month\n",
    "        now = datetime.datetime.now()\n",
    "        month = now.month\n",
    "        year = now.year\n",
    "        # Decrement the month by n and handle the case where it becomes zero or negative\n",
    "        month -= n\n",
    "        while month <= 0:\n",
    "            year -= 1\n",
    "            month += 12\n",
    "        # Return the name of the month and the year\n",
    "        return f\"{datetime.date(year, month, 1).strftime('%b')}, {year}\"\n",
    "    else:\n",
    "        return value"
   ]
  },
  {
   "cell_type": "markdown",
   "id": "1c965037",
   "metadata": {},
   "source": [
    "### Lets apply get_prev_month() to 'purchase_date' column"
   ]
  },
  {
   "cell_type": "code",
   "execution_count": 189,
   "id": "524e9537",
   "metadata": {},
   "outputs": [],
   "source": [
    "df['purchase_date'] = df['purchase_date'].apply(get_prev_month)"
   ]
  },
  {
   "cell_type": "code",
   "execution_count": 190,
   "id": "e23448c8",
   "metadata": {
    "scrolled": true
   },
   "outputs": [
    {
     "data": {
      "text/plain": [
       "array(['Dec, 2022', 'Nov, 2022', 'Oct, 2022', 'Sep, 2022', 'Aug, 2022',\n",
       "       'Jul, 2022', 'Jun, 2022', 'Jan, 2023', 'May, 2022', 'Apr, 2022',\n",
       "       'Jan, 2022', 'Dec, 2021', 'Nov, 2021', 'Oct, 2021', 'Sep, 2021',\n",
       "       'Aug, 2021', 'Jul, 2021', 'Jun, 2021', 'May, 2021', 'Apr, 2021',\n",
       "       'Mar, 2021', 'Feb, 2021', 'Jan, 2021', 'Dec, 2020', 'Nov, 2020',\n",
       "       'Oct, 2020', 'Sep, 2020', 'Aug, 2020', 'Jul, 2020', 'Jun, 2020',\n",
       "       'Mar, 2020', 'Jan, 2020', 'Dec, 2019', 'Nov, 2019', 'Nov, 2018',\n",
       "       'Oct, 2018', 'Sep, 2018', 'Aug, 2018', 'Jul, 2018', 'May, 2018',\n",
       "       'Apr, 2018', 'May, 2020', 'Feb, 2020', 'Oct, 2019', 'Sep, 2019',\n",
       "       'Jul, 2019', 'Aug, 2019', 'Jun, 2019', 'May, 2019', 'Apr, 2019',\n",
       "       'Mar, 2019', 'Feb, 2019', 'Jan, 2019', 'Dec, 2018', 'Jun, 2018',\n",
       "       'Mar, 2018', 'Sep, 2017', 'May, 2017', 'Jan, 2017', 'Apr, 2020',\n",
       "       'Feb, 2018', 'Jan, 2018', 'Dec, 2017', 'Nov, 2017', 'Apr, 2017',\n",
       "       'Mar, 2017', 'Feb, 2017', 'Nov, 2016', 'Oct, 2016', 'Sep, 2016',\n",
       "       'Aug, 2016', 'Jul, 2016', 'Jun, 2016', 'May, 2016', 'Oct, 2017',\n",
       "       'Aug, 2017', 'Jul, 2017', 'Dec, 2016', 'Jun, 2017', 'Apr, 2016',\n",
       "       'Mar, 2016'], dtype=object)"
      ]
     },
     "execution_count": 190,
     "metadata": {},
     "output_type": "execute_result"
    }
   ],
   "source": [
    "df['purchase_date'].unique()"
   ]
  },
  {
   "cell_type": "markdown",
   "id": "16bf5b9f",
   "metadata": {},
   "source": [
    "### As we can see our 'purchase_date' column is cleaned and it only have month, year"
   ]
  },
  {
   "cell_type": "markdown",
   "id": "365360ec",
   "metadata": {},
   "source": [
    "## 4.3 Replacing ', ' with '-'"
   ]
  },
  {
   "cell_type": "code",
   "execution_count": 191,
   "id": "dd466bc0",
   "metadata": {},
   "outputs": [],
   "source": [
    "def remove_comma(value):\n",
    "    value = value.replace(', ' , \"-\")\n",
    "    return value"
   ]
  },
  {
   "cell_type": "code",
   "execution_count": 192,
   "id": "277d0792",
   "metadata": {},
   "outputs": [],
   "source": [
    "df['purchase_date'] = df['purchase_date'].apply(remove_comma)"
   ]
  },
  {
   "cell_type": "code",
   "execution_count": 193,
   "id": "e116205b",
   "metadata": {},
   "outputs": [
    {
     "data": {
      "text/plain": [
       "array(['Dec-2022', 'Nov-2022', 'Oct-2022', 'Sep-2022', 'Aug-2022',\n",
       "       'Jul-2022', 'Jun-2022', 'Jan-2023', 'May-2022', 'Apr-2022',\n",
       "       'Jan-2022', 'Dec-2021', 'Nov-2021', 'Oct-2021', 'Sep-2021',\n",
       "       'Aug-2021', 'Jul-2021', 'Jun-2021', 'May-2021', 'Apr-2021',\n",
       "       'Mar-2021', 'Feb-2021', 'Jan-2021', 'Dec-2020', 'Nov-2020',\n",
       "       'Oct-2020', 'Sep-2020', 'Aug-2020', 'Jul-2020', 'Jun-2020',\n",
       "       'Mar-2020', 'Jan-2020', 'Dec-2019', 'Nov-2019', 'Nov-2018',\n",
       "       'Oct-2018', 'Sep-2018', 'Aug-2018', 'Jul-2018', 'May-2018',\n",
       "       'Apr-2018', 'May-2020', 'Feb-2020', 'Oct-2019', 'Sep-2019',\n",
       "       'Jul-2019', 'Aug-2019', 'Jun-2019', 'May-2019', 'Apr-2019',\n",
       "       'Mar-2019', 'Feb-2019', 'Jan-2019', 'Dec-2018', 'Jun-2018',\n",
       "       'Mar-2018', 'Sep-2017', 'May-2017', 'Jan-2017', 'Apr-2020',\n",
       "       'Feb-2018', 'Jan-2018', 'Dec-2017', 'Nov-2017', 'Apr-2017',\n",
       "       'Mar-2017', 'Feb-2017', 'Nov-2016', 'Oct-2016', 'Sep-2016',\n",
       "       'Aug-2016', 'Jul-2016', 'Jun-2016', 'May-2016', 'Oct-2017',\n",
       "       'Aug-2017', 'Jul-2017', 'Dec-2016', 'Jun-2017', 'Apr-2016',\n",
       "       'Mar-2016'], dtype=object)"
      ]
     },
     "execution_count": 193,
     "metadata": {},
     "output_type": "execute_result"
    }
   ],
   "source": [
    "df['purchase_date'].unique()"
   ]
  },
  {
   "cell_type": "markdown",
   "id": "adc0b7c0",
   "metadata": {},
   "source": [
    "## 4.4 lets convert data type of 'purchase_date' which is object, into 'datetime'"
   ]
  },
  {
   "cell_type": "code",
   "execution_count": 194,
   "id": "3a02efb2",
   "metadata": {},
   "outputs": [],
   "source": [
    "df['purchase_date'] = pd.to_datetime(df['purchase_date'])"
   ]
  },
  {
   "cell_type": "code",
   "execution_count": 195,
   "id": "bfce6954",
   "metadata": {},
   "outputs": [
    {
     "name": "stdout",
     "output_type": "stream",
     "text": [
      "<class 'pandas.core.frame.DataFrame'>\n",
      "Int64Index: 51113 entries, 0 to 51234\n",
      "Data columns (total 11 columns):\n",
      " #   Column          Non-Null Count  Dtype         \n",
      "---  ------          --------------  -----         \n",
      " 0   product_name    51113 non-null  object        \n",
      " 1   brand_name      51113 non-null  object        \n",
      " 2   price           51113 non-null  float64       \n",
      " 3   sold            51113 non-null  int32         \n",
      " 4   prod_url        51113 non-null  object        \n",
      " 5   customer_name   51113 non-null  object        \n",
      " 6   purchase_date   51113 non-null  datetime64[ns]\n",
      " 7   customers_city  51113 non-null  object        \n",
      " 8   rating          51113 non-null  int32         \n",
      " 9   comment_head    51113 non-null  object        \n",
      " 10  comment         51113 non-null  object        \n",
      "dtypes: datetime64[ns](1), float64(1), int32(2), object(7)\n",
      "memory usage: 4.3+ MB\n"
     ]
    }
   ],
   "source": [
    "df.info()"
   ]
  },
  {
   "cell_type": "code",
   "execution_count": 196,
   "id": "e81dfc16",
   "metadata": {},
   "outputs": [
    {
     "data": {
      "text/plain": [
       "0       2022-12-01\n",
       "1       2022-12-01\n",
       "2       2022-12-01\n",
       "3       2022-12-01\n",
       "4       2022-12-01\n",
       "           ...    \n",
       "51230   2021-03-01\n",
       "51231   2021-01-01\n",
       "51232   2020-12-01\n",
       "51233   2020-10-01\n",
       "51234   2020-08-01\n",
       "Name: purchase_date, Length: 51113, dtype: datetime64[ns]"
      ]
     },
     "execution_count": 196,
     "metadata": {},
     "output_type": "execute_result"
    }
   ],
   "source": [
    "df['purchase_date']"
   ]
  },
  {
   "cell_type": "markdown",
   "id": "d8335f6b",
   "metadata": {},
   "source": [
    "## 4.5 Extracting month and year from 'purchase_date' and adding them to new columns"
   ]
  },
  {
   "cell_type": "code",
   "execution_count": 197,
   "id": "6b2d4861",
   "metadata": {},
   "outputs": [],
   "source": [
    "df['purchase_month'] = df['purchase_date'].dt.month"
   ]
  },
  {
   "cell_type": "code",
   "execution_count": 198,
   "id": "4ea52a95",
   "metadata": {},
   "outputs": [],
   "source": [
    "df['purchase_year'] = df['purchase_date'].dt.year"
   ]
  },
  {
   "cell_type": "code",
   "execution_count": 199,
   "id": "205389c0",
   "metadata": {},
   "outputs": [
    {
     "data": {
      "text/html": [
       "<div>\n",
       "<style scoped>\n",
       "    .dataframe tbody tr th:only-of-type {\n",
       "        vertical-align: middle;\n",
       "    }\n",
       "\n",
       "    .dataframe tbody tr th {\n",
       "        vertical-align: top;\n",
       "    }\n",
       "\n",
       "    .dataframe thead th {\n",
       "        text-align: right;\n",
       "    }\n",
       "</style>\n",
       "<table border=\"1\" class=\"dataframe\">\n",
       "  <thead>\n",
       "    <tr style=\"text-align: right;\">\n",
       "      <th></th>\n",
       "      <th>product_name</th>\n",
       "      <th>brand_name</th>\n",
       "      <th>price</th>\n",
       "      <th>sold</th>\n",
       "      <th>prod_url</th>\n",
       "      <th>customer_name</th>\n",
       "      <th>purchase_date</th>\n",
       "      <th>customers_city</th>\n",
       "      <th>rating</th>\n",
       "      <th>comment_head</th>\n",
       "      <th>comment</th>\n",
       "      <th>purchase_month</th>\n",
       "      <th>purchase_year</th>\n",
       "    </tr>\n",
       "  </thead>\n",
       "  <tbody>\n",
       "    <tr>\n",
       "      <th>0</th>\n",
       "      <td>BOSCH 263 L Frost Free Double Door Top Mount 3...</td>\n",
       "      <td>BOSCH</td>\n",
       "      <td>28990.0</td>\n",
       "      <td>150</td>\n",
       "      <td>https://www.flipkart.com/bosch-263-l-frost-fre...</td>\n",
       "      <td>Flipkart Customer</td>\n",
       "      <td>2022-12-01</td>\n",
       "      <td>Bengaluru</td>\n",
       "      <td>5</td>\n",
       "      <td>Fabulous!</td>\n",
       "      <td>Super product</td>\n",
       "      <td>12</td>\n",
       "      <td>2022</td>\n",
       "    </tr>\n",
       "    <tr>\n",
       "      <th>1</th>\n",
       "      <td>BOSCH 263 L Frost Free Double Door Top Mount 3...</td>\n",
       "      <td>BOSCH</td>\n",
       "      <td>28990.0</td>\n",
       "      <td>150</td>\n",
       "      <td>https://www.flipkart.com/bosch-263-l-frost-fre...</td>\n",
       "      <td>vikas  araspure</td>\n",
       "      <td>2022-12-01</td>\n",
       "      <td>Kamptee</td>\n",
       "      <td>5</td>\n",
       "      <td>Terrific</td>\n",
       "      <td>Excellent</td>\n",
       "      <td>12</td>\n",
       "      <td>2022</td>\n",
       "    </tr>\n",
       "    <tr>\n",
       "      <th>2</th>\n",
       "      <td>BOSCH 263 L Frost Free Double Door Top Mount 3...</td>\n",
       "      <td>BOSCH</td>\n",
       "      <td>28990.0</td>\n",
       "      <td>150</td>\n",
       "      <td>https://www.flipkart.com/bosch-263-l-frost-fre...</td>\n",
       "      <td>Jahnavi  Sonti</td>\n",
       "      <td>2022-12-01</td>\n",
       "      <td>West Godavari District</td>\n",
       "      <td>5</td>\n",
       "      <td>Mind-blowing purchase</td>\n",
       "      <td>Very good instalation good behaviour all doubt...</td>\n",
       "      <td>12</td>\n",
       "      <td>2022</td>\n",
       "    </tr>\n",
       "    <tr>\n",
       "      <th>3</th>\n",
       "      <td>BOSCH 263 L Frost Free Double Door Top Mount 3...</td>\n",
       "      <td>BOSCH</td>\n",
       "      <td>28990.0</td>\n",
       "      <td>150</td>\n",
       "      <td>https://www.flipkart.com/bosch-263-l-frost-fre...</td>\n",
       "      <td>Vineet Kakkar</td>\n",
       "      <td>2022-12-01</td>\n",
       "      <td>Gautam Buddha Nagar District</td>\n",
       "      <td>5</td>\n",
       "      <td>Best in the market!</td>\n",
       "      <td>Nice product value for money</td>\n",
       "      <td>12</td>\n",
       "      <td>2022</td>\n",
       "    </tr>\n",
       "    <tr>\n",
       "      <th>4</th>\n",
       "      <td>BOSCH 263 L Frost Free Double Door Top Mount 3...</td>\n",
       "      <td>BOSCH</td>\n",
       "      <td>28990.0</td>\n",
       "      <td>150</td>\n",
       "      <td>https://www.flipkart.com/bosch-263-l-frost-fre...</td>\n",
       "      <td>Osmita Das</td>\n",
       "      <td>2022-12-01</td>\n",
       "      <td>Kolkata</td>\n",
       "      <td>5</td>\n",
       "      <td>Fabulous!</td>\n",
       "      <td>Just awesome 👌</td>\n",
       "      <td>12</td>\n",
       "      <td>2022</td>\n",
       "    </tr>\n",
       "  </tbody>\n",
       "</table>\n",
       "</div>"
      ],
      "text/plain": [
       "                                        product_name brand_name    price  \\\n",
       "0  BOSCH 263 L Frost Free Double Door Top Mount 3...      BOSCH  28990.0   \n",
       "1  BOSCH 263 L Frost Free Double Door Top Mount 3...      BOSCH  28990.0   \n",
       "2  BOSCH 263 L Frost Free Double Door Top Mount 3...      BOSCH  28990.0   \n",
       "3  BOSCH 263 L Frost Free Double Door Top Mount 3...      BOSCH  28990.0   \n",
       "4  BOSCH 263 L Frost Free Double Door Top Mount 3...      BOSCH  28990.0   \n",
       "\n",
       "   sold                                           prod_url      customer_name  \\\n",
       "0   150  https://www.flipkart.com/bosch-263-l-frost-fre...  Flipkart Customer   \n",
       "1   150  https://www.flipkart.com/bosch-263-l-frost-fre...    vikas  araspure   \n",
       "2   150  https://www.flipkart.com/bosch-263-l-frost-fre...     Jahnavi  Sonti   \n",
       "3   150  https://www.flipkart.com/bosch-263-l-frost-fre...      Vineet Kakkar   \n",
       "4   150  https://www.flipkart.com/bosch-263-l-frost-fre...         Osmita Das   \n",
       "\n",
       "  purchase_date                customers_city  rating           comment_head  \\\n",
       "0    2022-12-01                     Bengaluru       5              Fabulous!   \n",
       "1    2022-12-01                       Kamptee       5               Terrific   \n",
       "2    2022-12-01        West Godavari District       5  Mind-blowing purchase   \n",
       "3    2022-12-01  Gautam Buddha Nagar District       5    Best in the market!   \n",
       "4    2022-12-01                       Kolkata       5              Fabulous!   \n",
       "\n",
       "                                             comment  purchase_month  \\\n",
       "0                                      Super product              12   \n",
       "1                                          Excellent              12   \n",
       "2  Very good instalation good behaviour all doubt...              12   \n",
       "3                       Nice product value for money              12   \n",
       "4                                     Just awesome 👌              12   \n",
       "\n",
       "   purchase_year  \n",
       "0           2022  \n",
       "1           2022  \n",
       "2           2022  \n",
       "3           2022  \n",
       "4           2022  "
      ]
     },
     "execution_count": 199,
     "metadata": {},
     "output_type": "execute_result"
    }
   ],
   "source": [
    "df.head()"
   ]
  },
  {
   "cell_type": "code",
   "execution_count": 202,
   "id": "4148ed9d",
   "metadata": {},
   "outputs": [
    {
     "data": {
      "text/plain": [
       "product_name              object\n",
       "brand_name                object\n",
       "price                    float64\n",
       "sold                       int32\n",
       "prod_url                  object\n",
       "customer_name             object\n",
       "purchase_date     datetime64[ns]\n",
       "customers_city            object\n",
       "rating                     int32\n",
       "comment_head              object\n",
       "comment                   object\n",
       "purchase_month             int64\n",
       "purchase_year              int64\n",
       "dtype: object"
      ]
     },
     "execution_count": 202,
     "metadata": {},
     "output_type": "execute_result"
    }
   ],
   "source": [
    "df.dtypes"
   ]
  },
  {
   "cell_type": "code",
   "execution_count": null,
   "id": "cf25a854",
   "metadata": {},
   "outputs": [],
   "source": []
  }
 ],
 "metadata": {
  "kernelspec": {
   "display_name": "Python 3 (ipykernel)",
   "language": "python",
   "name": "python3"
  },
  "language_info": {
   "codemirror_mode": {
    "name": "ipython",
    "version": 3
   },
   "file_extension": ".py",
   "mimetype": "text/x-python",
   "name": "python",
   "nbconvert_exporter": "python",
   "pygments_lexer": "ipython3",
   "version": "3.9.7"
  }
 },
 "nbformat": 4,
 "nbformat_minor": 5
}
