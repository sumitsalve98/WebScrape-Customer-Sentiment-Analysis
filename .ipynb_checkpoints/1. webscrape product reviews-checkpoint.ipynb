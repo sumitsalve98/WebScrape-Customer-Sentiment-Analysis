{
 "cells": [
  {
   "cell_type": "markdown",
   "id": "2ab9fea4",
   "metadata": {},
   "source": [
    "# Importing libraries"
   ]
  },
  {
   "cell_type": "code",
   "execution_count": 1,
   "id": "8bf70e2f",
   "metadata": {},
   "outputs": [],
   "source": [
    "import math\n",
    "import requests\n",
    "from bs4 import BeautifulSoup\n",
    "import pandas as pd\n",
    "import time\n",
    "import urllib.request\n",
    "import os\n",
    "import numpy as np\n",
    "import mysql.connector as connection\n",
    "from sqlalchemy import create_engine"
   ]
  },
  {
   "cell_type": "markdown",
   "id": "79021382",
   "metadata": {},
   "source": [
    "# Create required Directory if not exist"
   ]
  },
  {
   "cell_type": "code",
   "execution_count": 2,
   "id": "5d8cf2d2",
   "metadata": {},
   "outputs": [],
   "source": [
    "if not os.path.exists(r\"D:\\flipkart reviews\\images\"):\n",
    "    os.makedirs(r\"D:\\flipkart reviews\\images\")\n",
    "if not os.path.exists(r\"D:\\flipkart reviews\\reviews\"):\n",
    "    os.makedirs(r\"D:\\flipkart reviews\\reviews\")\n",
    "if not os.path.exists(r\"D:\\flipkart reviews\\product_urls\"):\n",
    "    os.makedirs(r\"D:\\flipkart reviews\\product_urls\")\n",
    "if not os.path.exists(r\"D:\\flipkart reviews\\all csv combine\"):\n",
    "    os.makedirs(r\"D:\\flipkart reviews\\all csv combine\")"
   ]
  },
  {
   "cell_type": "markdown",
   "id": "116b03ce",
   "metadata": {},
   "source": [
    "# create_csv() Function will create empty csv file for each product\n",
    "# csv will be created at \"D:\\flipkart reviews\""
   ]
  },
  {
   "cell_type": "code",
   "execution_count": 3,
   "id": "40c24a04",
   "metadata": {},
   "outputs": [],
   "source": [
    "def create_csv(file_name):\n",
    "    df = pd.DataFrame(columns=[\n",
    "        'prod_id',\n",
    "        'product_name',\n",
    "        'brand_name',\n",
    "        'category',\n",
    "        'price',\n",
    "        'sold',\n",
    "        'prod_url',\n",
    "        'customer_name',\n",
    "        'purchase_date',\n",
    "        'customers_city',\n",
    "        'rating',\n",
    "        'comment_head',\n",
    "        'comment'\n",
    "    ])\n",
    "    location = r'D:\\flipkart reviews\\reviews\\{file}.csv'.format(file = file_name)\n",
    "    df.to_csv(location , mode=\"w+\", index=False)\n",
    "    return location"
   ]
  },
  {
   "cell_type": "markdown",
   "id": "bfb494c2",
   "metadata": {},
   "source": [
    "# scrape_products function will scrape all the product URLs from given range of pages and will save them into csv file named as searched product."
   ]
  },
  {
   "cell_type": "code",
   "execution_count": 4,
   "id": "0d9b2345",
   "metadata": {},
   "outputs": [],
   "source": [
    "def scrape_urls(url):\n",
    "    list_of_url = []\n",
    "    for prod_page in range(1, last_page+1):\n",
    "        URL3 = f\"{url}&page={prod_page}\"\n",
    "        headers = {'User-Agent': \"Mozilla/5.0 (Windows NT 10.0; Win64; x64) AppleWebKit/537.36 (KHTML, like Gecko) Chrome/42.0.2311.135 Safari/537.36 Edge/12.246\"}\n",
    "        # Make a GET request to the URL\n",
    "        response = requests.get(url=URL3, headers=headers)\n",
    "        # Parse the HTML of the page\n",
    "        soup = BeautifulSoup(response.content, 'html.parser')\n",
    "        # Scraping main boxes of reviews\n",
    "        products = soup.findAll('div', {'class': \"_1AtVbE col-12-12\"})\n",
    "        products_on_one_page = [\"https://www.flipkart.com\" + product.div.div.a['href'] for product in products[2:24]]\n",
    "        list_of_url.extend(products_on_one_page)\n",
    "        print(f\"{search} urls are scraped for page no {prod_page}\")\n",
    "    response.close()\n",
    "    All_urls = list(set(list_of_url))\n",
    "    url_data = {\"prod_links\":All_urls}\n",
    "    df_urls = pd.DataFrame(url_data)\n",
    "    url_location = r'D:\\flipkart reviews\\product_urls\\{file}.csv'.format(file = search)\n",
    "    df_urls.to_csv(url_location , mode='w+', index=False)"
   ]
  },
  {
   "cell_type": "markdown",
   "id": "1d18a119",
   "metadata": {},
   "source": [
    "# Remove_char() function will remove unwanted characters"
   ]
  },
  {
   "cell_type": "code",
   "execution_count": 5,
   "id": "921897f9",
   "metadata": {},
   "outputs": [],
   "source": [
    "def remove_char(string):\n",
    "    unwanted_char = ['\\\\' , '/' , ':' , '*' , '?' , '\"' , '<' , '>' , '|']\n",
    "    new_string = ''\n",
    "    for i in string:\n",
    "        if i in unwanted_char:\n",
    "            new_string += ' '\n",
    "        else:\n",
    "            new_string += i\n",
    "    new_string = new_string.replace('  ', ' ').replace('   ', ' ').strip()\n",
    "    return new_string"
   ]
  },
  {
   "cell_type": "markdown",
   "id": "adac953e",
   "metadata": {},
   "source": [
    "# 1. \"get_reviews()\" function will Go through each URL which is scraped by \"scrape_products()\" function.\n",
    "# 3. It will scrape image and product information\n",
    "# 2. It will scrape all the product reviews information.\n",
    "# 3. All this information will be saved in csv and folder in \"D\" Drive"
   ]
  },
  {
   "cell_type": "code",
   "execution_count": 1,
   "id": "5471ce34",
   "metadata": {},
   "outputs": [],
   "source": [
    "def get_reviews(url_list,search):\n",
    "    for Id ,url in enumerate(url_list):\n",
    "        # Going to product Reviews section \n",
    "        URL1 = url.replace('/p/', '/product-reviews/') + '&sortOrder=MOST_RECENT'\n",
    "        # Here the user agent is for Edge browser on windows 10.\n",
    "        headers = {'User-Agent': \"Mozilla/5.0 (Windows NT 10.0; Win64; x64) AppleWebKit/537.36 (KHTML, like Gecko) Chrome/42.0.2311.135 Safari/537.36 Edge/12.246\"}\n",
    "        # Make a GET request to the URL\n",
    "        response = requests.get(url=URL1, headers=headers)\n",
    "        # Parse the HTML of the page\n",
    "        soup = BeautifulSoup(response.content, 'html.parser')\n",
    "        \n",
    "        try:\n",
    "            # Scraping name, brand name, price, image and qnt sold before entering into customers comments\n",
    "            prodid = str(search[:5].strip().replace(\" \",\"\")) + str(Id)\n",
    "            prod_name = str(soup.find('div', {'class': \"_2s4DIt _1CDdy2\"}).text.replace(\"Reviews\", \"\").strip())\n",
    "            prod_file_name = remove_char(prod_name)\n",
    "            image = soup.find(\"img\", {'class': \"_396cs4\"})\n",
    "            image_src = image['src']\n",
    "            image_location = r'D:\\flipkart reviews\\images\\{image}.jpg'.format(image = prod_file_name)\n",
    "            urllib.request.urlretrieve(image_src, image_location)\n",
    "            brnd_name = str(prod_name).split()[0]\n",
    "            prod_price = int(str(soup.find('div', {'class': \"_30jeq3\"}).text).replace(',' , '')[1:])\n",
    "            total_reviews = int(str(soup.find('span', {'class': \"_2_R_DZ\"}).text).split()[3].replace(',',''))\n",
    "            total_pages_of_reviews = math.ceil(total_reviews / 10)\n",
    "        except AttributeError:\n",
    "            prodid = np.nan\n",
    "            prod_name = np.nan\n",
    "            brnd_name = np.nan\n",
    "            prod_price = np.nan\n",
    "            qnt_sold = np.nan\n",
    "            total_reviews = 0\n",
    "            total_pages_of_reviews = 1\n",
    "            \n",
    "        \n",
    "        # calling create_csv function\n",
    "        location = create_csv(prod_file_name)\n",
    "        \n",
    "        \n",
    "        # Itering through each page of review\n",
    "        N = 0\n",
    "        for page in range(1, total_pages_of_reviews+1):\n",
    "            # sleeping in-between each 300 pages to go easy on flipkart\n",
    "            if page in [300,600,900]:\n",
    "                response.close()\n",
    "                print(\"waiting for 1 minute after every 300 requests, to avoid error from flipkart\")\n",
    "                time.sleep(60)\n",
    "            else:\n",
    "                pass\n",
    "                \n",
    "            \n",
    "            URL2 = url.replace('/p/', '/product-reviews/') + '&sortOrder=MOST_RECENT' + f\"&page={page}\"\n",
    "            # Here the user agent is for Edge browser on windows 10.\n",
    "            headers = {'User-Agent': \"Mozilla/5.0 (Windows NT 10.0; Win64; x64) AppleWebKit/537.36 (KHTML, like Gecko) Chrome/42.0.2311.135 Safari/537.36 Edge/12.246\"}\n",
    "            # Make a GET request to the URL\n",
    "            response = requests.get(url=URL2, headers=headers)\n",
    "            # Parse the HTML of the page\n",
    "            soup = BeautifulSoup(response.content, 'html.parser')\n",
    "            \n",
    "            # Scraping main boxes of reviews\n",
    "            reviews = soup.find_all('div', {'class': \"_27M-vq\"})\n",
    "            \n",
    "            try:\n",
    "                \n",
    "                # Scraping required data\n",
    "                prod_id = [prodid for review in reviews]\n",
    "                product_name = [prod_name for review in reviews]\n",
    "                brand_name = [brnd_name for review in reviews]\n",
    "                category = [search for review in reviews]\n",
    "                price = [prod_price for review in reviews]\n",
    "                sold = [1 for review in reviews]\n",
    "                prod_url = [url for review in reviews]\n",
    "                customer_name = [review.div.div.find('p', {'class': '_2sc7ZR _2V5EHH'}).text for review in reviews]\n",
    "                purchase_date = [review.div.div.find_all('p', {'class': '_2sc7ZR'})[1].text for review in reviews]\n",
    "                customers_city = [review.div.div.find('p', {'class': '_2mcZGG'}).text.replace(\"Certified Buyer, \", \"\") for review in reviews]\n",
    "                rating = [review.div.div.div.div.text for review in reviews]\n",
    "                comment_head = [review.div.div.div.p.text for review in reviews]\n",
    "                comment = [review.div.div.find('div', {'class': ''}).div.text for review in reviews]\n",
    "                \n",
    "            except AttributeError:\n",
    "                prod_id = [np.nan for review in reviews]\n",
    "                product_name = [np.nan for review in reviews]\n",
    "                brand_name = [np.nan for review in reviews]\n",
    "                category = [np.nan for review in reviews]\n",
    "                price = [np.nan for review in reviews]\n",
    "                sold = [np.nan for review in reviews]\n",
    "                prod_url = [np.nan for review in reviews]\n",
    "                customer_name = [np.nan for review in reviews]\n",
    "                purchase_date = [np.nan for review in reviews]\n",
    "                customers_city = [np.nan for review in reviews]\n",
    "                rating = [np.nan for review in reviews]\n",
    "                comment_head = [np.nan for review in reviews]\n",
    "                comment = [np.nan for review in reviews]\n",
    "            \n",
    "\n",
    "            # After scraping through the all pages i found that there are some empty pages with no reviews thats why,\n",
    "            if len(reviews) == 0:\n",
    "                pass\n",
    "            else:\n",
    "                data = {\n",
    "                    \"prod_id\":prod_id,\n",
    "                    \"product_name\": product_name,\n",
    "                    \"brand_name\": brand_name,\n",
    "                    \"category\": category,\n",
    "                    \"price\": price,\n",
    "                    \"sold\" : sold,\n",
    "                    \"prod_url\":prod_url,\n",
    "                    \"customer_name\": customer_name,\n",
    "                    \"purchase_date\": purchase_date,\n",
    "                    \"customers_city\": customers_city,\n",
    "                    \"rating\": rating,\n",
    "                    \"comment_head\": comment_head,\n",
    "                    \"comment\": comment\n",
    "                }\n",
    "\n",
    "                df = pd.DataFrame(data)\n",
    "                df.to_csv(location , mode='a', index=False, header=False)\n",
    "                N += len(rating)\n",
    "        response.close()            \n",
    "    print(f\"product category: {search} | products scraped: {Id} | status: successful\")"
   ]
  },
  {
   "cell_type": "markdown",
   "id": "755d0c2c",
   "metadata": {},
   "source": [
    "# Defining Base Flipkart URL"
   ]
  },
  {
   "cell_type": "code",
   "execution_count": 7,
   "id": "67d61a0a",
   "metadata": {},
   "outputs": [],
   "source": [
    "base_url = \"https://www.flipkart.com/search?q=\""
   ]
  },
  {
   "cell_type": "markdown",
   "id": "e1d37570",
   "metadata": {},
   "source": [
    "# How many pages of do you want to scrape? Enter here."
   ]
  },
  {
   "cell_type": "code",
   "execution_count": 8,
   "id": "2b4721d5",
   "metadata": {},
   "outputs": [],
   "source": [
    "last_page = 20"
   ]
  },
  {
   "cell_type": "markdown",
   "id": "f5c2adaa",
   "metadata": {},
   "source": [
    "# Calling function scrape_products() and passing our search url"
   ]
  },
  {
   "cell_type": "markdown",
   "id": "651be0c2",
   "metadata": {},
   "source": [
    "### Scraping All Refrigerators product urls"
   ]
  },
  {
   "cell_type": "code",
   "execution_count": 20,
   "id": "319e88f7",
   "metadata": {
    "scrolled": true
   },
   "outputs": [
    {
     "name": "stdout",
     "output_type": "stream",
     "text": [
      "refrigerator urls are scraped for page no 1\n",
      "refrigerator urls are scraped for page no 2\n",
      "refrigerator urls are scraped for page no 3\n",
      "refrigerator urls are scraped for page no 4\n",
      "refrigerator urls are scraped for page no 5\n",
      "refrigerator urls are scraped for page no 6\n",
      "refrigerator urls are scraped for page no 7\n",
      "refrigerator urls are scraped for page no 8\n",
      "refrigerator urls are scraped for page no 9\n",
      "refrigerator urls are scraped for page no 10\n",
      "refrigerator urls are scraped for page no 11\n",
      "refrigerator urls are scraped for page no 12\n",
      "refrigerator urls are scraped for page no 13\n",
      "refrigerator urls are scraped for page no 14\n",
      "refrigerator urls are scraped for page no 15\n",
      "refrigerator urls are scraped for page no 16\n",
      "refrigerator urls are scraped for page no 17\n",
      "refrigerator urls are scraped for page no 18\n",
      "refrigerator urls are scraped for page no 19\n",
      "refrigerator urls are scraped for page no 20\n"
     ]
    }
   ],
   "source": [
    "search = \"refrigerator\"\n",
    "url = base_url + search\n",
    "scrape_urls(url)"
   ]
  },
  {
   "cell_type": "markdown",
   "id": "eade079d",
   "metadata": {},
   "source": [
    "### Scraping All \"washing machines\" product urls"
   ]
  },
  {
   "cell_type": "code",
   "execution_count": 21,
   "id": "00f3afc9",
   "metadata": {},
   "outputs": [
    {
     "name": "stdout",
     "output_type": "stream",
     "text": [
      "washing machine urls are scraped for page no 1\n",
      "washing machine urls are scraped for page no 2\n",
      "washing machine urls are scraped for page no 3\n",
      "washing machine urls are scraped for page no 4\n",
      "washing machine urls are scraped for page no 5\n",
      "washing machine urls are scraped for page no 6\n",
      "washing machine urls are scraped for page no 7\n",
      "washing machine urls are scraped for page no 8\n",
      "washing machine urls are scraped for page no 9\n",
      "washing machine urls are scraped for page no 10\n",
      "washing machine urls are scraped for page no 11\n",
      "washing machine urls are scraped for page no 12\n",
      "washing machine urls are scraped for page no 13\n",
      "washing machine urls are scraped for page no 14\n",
      "washing machine urls are scraped for page no 15\n",
      "washing machine urls are scraped for page no 16\n",
      "washing machine urls are scraped for page no 17\n",
      "washing machine urls are scraped for page no 18\n",
      "washing machine urls are scraped for page no 19\n",
      "washing machine urls are scraped for page no 20\n"
     ]
    }
   ],
   "source": [
    "search = \"washing machine\"\n",
    "url = base_url + search\n",
    "scrape_urls(url)"
   ]
  },
  {
   "cell_type": "markdown",
   "id": "eeded5cb",
   "metadata": {},
   "source": [
    "### Scraping All \"air conditioner\" product urls"
   ]
  },
  {
   "cell_type": "code",
   "execution_count": 22,
   "id": "6e892fae",
   "metadata": {},
   "outputs": [
    {
     "name": "stdout",
     "output_type": "stream",
     "text": [
      "air conditioner urls are scraped for page no 1\n",
      "air conditioner urls are scraped for page no 2\n",
      "air conditioner urls are scraped for page no 3\n",
      "air conditioner urls are scraped for page no 4\n",
      "air conditioner urls are scraped for page no 5\n",
      "air conditioner urls are scraped for page no 6\n",
      "air conditioner urls are scraped for page no 7\n",
      "air conditioner urls are scraped for page no 8\n",
      "air conditioner urls are scraped for page no 9\n",
      "air conditioner urls are scraped for page no 10\n",
      "air conditioner urls are scraped for page no 11\n",
      "air conditioner urls are scraped for page no 12\n",
      "air conditioner urls are scraped for page no 13\n",
      "air conditioner urls are scraped for page no 14\n",
      "air conditioner urls are scraped for page no 15\n",
      "air conditioner urls are scraped for page no 16\n",
      "air conditioner urls are scraped for page no 17\n",
      "air conditioner urls are scraped for page no 18\n",
      "air conditioner urls are scraped for page no 19\n",
      "air conditioner urls are scraped for page no 20\n"
     ]
    }
   ],
   "source": [
    "search = \"air conditioner\"\n",
    "url = base_url + search\n",
    "scrape_urls(url)"
   ]
  },
  {
   "cell_type": "markdown",
   "id": "aaf5342f",
   "metadata": {},
   "source": [
    "### Scraping All \"water purifier\" product urls"
   ]
  },
  {
   "cell_type": "code",
   "execution_count": 23,
   "id": "b1df249a",
   "metadata": {},
   "outputs": [
    {
     "name": "stdout",
     "output_type": "stream",
     "text": [
      "water purifier urls are scraped for page no 1\n",
      "water purifier urls are scraped for page no 2\n",
      "water purifier urls are scraped for page no 3\n",
      "water purifier urls are scraped for page no 4\n",
      "water purifier urls are scraped for page no 5\n",
      "water purifier urls are scraped for page no 6\n",
      "water purifier urls are scraped for page no 7\n",
      "water purifier urls are scraped for page no 8\n",
      "water purifier urls are scraped for page no 9\n",
      "water purifier urls are scraped for page no 10\n",
      "water purifier urls are scraped for page no 11\n",
      "water purifier urls are scraped for page no 12\n",
      "water purifier urls are scraped for page no 13\n",
      "water purifier urls are scraped for page no 14\n",
      "water purifier urls are scraped for page no 15\n",
      "water purifier urls are scraped for page no 16\n",
      "water purifier urls are scraped for page no 17\n",
      "water purifier urls are scraped for page no 18\n",
      "water purifier urls are scraped for page no 19\n",
      "water purifier urls are scraped for page no 20\n"
     ]
    }
   ],
   "source": [
    "search = \"water purifier\"\n",
    "url = base_url + search\n",
    "scrape_urls(url)"
   ]
  },
  {
   "cell_type": "markdown",
   "id": "d2edd610",
   "metadata": {},
   "source": [
    "### Scraping All \"television\" product urls"
   ]
  },
  {
   "cell_type": "code",
   "execution_count": 24,
   "id": "4f890714",
   "metadata": {},
   "outputs": [
    {
     "name": "stdout",
     "output_type": "stream",
     "text": [
      "television urls are scraped for page no 1\n",
      "television urls are scraped for page no 2\n",
      "television urls are scraped for page no 3\n",
      "television urls are scraped for page no 4\n",
      "television urls are scraped for page no 5\n",
      "television urls are scraped for page no 6\n",
      "television urls are scraped for page no 7\n",
      "television urls are scraped for page no 8\n",
      "television urls are scraped for page no 9\n",
      "television urls are scraped for page no 10\n",
      "television urls are scraped for page no 11\n",
      "television urls are scraped for page no 12\n",
      "television urls are scraped for page no 13\n",
      "television urls are scraped for page no 14\n",
      "television urls are scraped for page no 15\n",
      "television urls are scraped for page no 16\n",
      "television urls are scraped for page no 17\n",
      "television urls are scraped for page no 18\n",
      "television urls are scraped for page no 19\n",
      "television urls are scraped for page no 20\n"
     ]
    }
   ],
   "source": [
    "search = \"television\"\n",
    "url = base_url + search\n",
    "scrape_urls(url)"
   ]
  },
  {
   "cell_type": "markdown",
   "id": "6ced345a",
   "metadata": {},
   "source": [
    "### Scraping All \"laptop\" product urls"
   ]
  },
  {
   "cell_type": "code",
   "execution_count": 25,
   "id": "7da046e1",
   "metadata": {},
   "outputs": [
    {
     "name": "stdout",
     "output_type": "stream",
     "text": [
      "laptop urls are scraped for page no 1\n",
      "laptop urls are scraped for page no 2\n",
      "laptop urls are scraped for page no 3\n",
      "laptop urls are scraped for page no 4\n",
      "laptop urls are scraped for page no 5\n",
      "laptop urls are scraped for page no 6\n",
      "laptop urls are scraped for page no 7\n",
      "laptop urls are scraped for page no 8\n",
      "laptop urls are scraped for page no 9\n",
      "laptop urls are scraped for page no 10\n",
      "laptop urls are scraped for page no 11\n",
      "laptop urls are scraped for page no 12\n",
      "laptop urls are scraped for page no 13\n",
      "laptop urls are scraped for page no 14\n",
      "laptop urls are scraped for page no 15\n",
      "laptop urls are scraped for page no 16\n",
      "laptop urls are scraped for page no 17\n",
      "laptop urls are scraped for page no 18\n",
      "laptop urls are scraped for page no 19\n",
      "laptop urls are scraped for page no 20\n"
     ]
    }
   ],
   "source": [
    "search = \"laptop\"\n",
    "url = base_url + search\n",
    "scrape_urls(url)"
   ]
  },
  {
   "cell_type": "markdown",
   "id": "fda8fda4",
   "metadata": {},
   "source": [
    "### Scraping All \"smartphone\" product urls"
   ]
  },
  {
   "cell_type": "code",
   "execution_count": 26,
   "id": "b1919d61",
   "metadata": {},
   "outputs": [
    {
     "name": "stdout",
     "output_type": "stream",
     "text": [
      "smartphone urls are scraped for page no 1\n",
      "smartphone urls are scraped for page no 2\n",
      "smartphone urls are scraped for page no 3\n",
      "smartphone urls are scraped for page no 4\n",
      "smartphone urls are scraped for page no 5\n",
      "smartphone urls are scraped for page no 6\n",
      "smartphone urls are scraped for page no 7\n",
      "smartphone urls are scraped for page no 8\n",
      "smartphone urls are scraped for page no 9\n",
      "smartphone urls are scraped for page no 10\n",
      "smartphone urls are scraped for page no 11\n",
      "smartphone urls are scraped for page no 12\n",
      "smartphone urls are scraped for page no 13\n",
      "smartphone urls are scraped for page no 14\n",
      "smartphone urls are scraped for page no 15\n",
      "smartphone urls are scraped for page no 16\n",
      "smartphone urls are scraped for page no 17\n",
      "smartphone urls are scraped for page no 18\n",
      "smartphone urls are scraped for page no 19\n",
      "smartphone urls are scraped for page no 20\n"
     ]
    }
   ],
   "source": [
    "search = \"smartphone\"\n",
    "url = base_url + search\n",
    "scrape_urls(url)"
   ]
  },
  {
   "cell_type": "markdown",
   "id": "85577373",
   "metadata": {},
   "source": [
    "# We got all the products urls with respect to their category and they are stored in csv files at location \"D:\\flipkart reviews\\product_urls\""
   ]
  },
  {
   "cell_type": "code",
   "execution_count": 122,
   "id": "b44d10ab",
   "metadata": {},
   "outputs": [
    {
     "data": {
      "text/plain": [
       "['air conditioner.csv',\n",
       " 'laptop.csv',\n",
       " 'refrigerator.csv',\n",
       " 'smartphone.csv',\n",
       " 'television.csv',\n",
       " 'washing machine.csv',\n",
       " 'water purifier.csv']"
      ]
     },
     "execution_count": 122,
     "metadata": {},
     "output_type": "execute_result"
    }
   ],
   "source": [
    "path = r\"D:\\flipkart reviews\\product_urls\"\n",
    "files = os.listdir(path)\n",
    "files"
   ]
  },
  {
   "cell_type": "markdown",
   "id": "868d4911",
   "metadata": {},
   "source": [
    "# Scraping product data from urls in \"air conditioner.csv\""
   ]
  },
  {
   "cell_type": "code",
   "execution_count": 123,
   "id": "7038be05",
   "metadata": {},
   "outputs": [
    {
     "data": {
      "text/html": [
       "<div>\n",
       "<style scoped>\n",
       "    .dataframe tbody tr th:only-of-type {\n",
       "        vertical-align: middle;\n",
       "    }\n",
       "\n",
       "    .dataframe tbody tr th {\n",
       "        vertical-align: top;\n",
       "    }\n",
       "\n",
       "    .dataframe thead th {\n",
       "        text-align: right;\n",
       "    }\n",
       "</style>\n",
       "<table border=\"1\" class=\"dataframe\">\n",
       "  <thead>\n",
       "    <tr style=\"text-align: right;\">\n",
       "      <th></th>\n",
       "      <th>prod_links</th>\n",
       "    </tr>\n",
       "  </thead>\n",
       "  <tbody>\n",
       "    <tr>\n",
       "      <th>0</th>\n",
       "      <td>https://www.flipkart.com/blue-star-1-5-ton-3-w...</td>\n",
       "    </tr>\n",
       "    <tr>\n",
       "      <th>1</th>\n",
       "      <td>https://www.flipkart.com/panasonic-1-ton-5-sta...</td>\n",
       "    </tr>\n",
       "    <tr>\n",
       "      <th>2</th>\n",
       "      <td>https://www.flipkart.com/onida-1-5-ton-3-star-...</td>\n",
       "    </tr>\n",
       "    <tr>\n",
       "      <th>3</th>\n",
       "      <td>https://www.flipkart.com/samsung-1-5-ton-5-sta...</td>\n",
       "    </tr>\n",
       "    <tr>\n",
       "      <th>4</th>\n",
       "      <td>https://www.flipkart.com/daikin-1-8-ton-3-star...</td>\n",
       "    </tr>\n",
       "  </tbody>\n",
       "</table>\n",
       "</div>"
      ],
      "text/plain": [
       "                                          prod_links\n",
       "0  https://www.flipkart.com/blue-star-1-5-ton-3-w...\n",
       "1  https://www.flipkart.com/panasonic-1-ton-5-sta...\n",
       "2  https://www.flipkart.com/onida-1-5-ton-3-star-...\n",
       "3  https://www.flipkart.com/samsung-1-5-ton-5-sta...\n",
       "4  https://www.flipkart.com/daikin-1-8-ton-3-star..."
      ]
     },
     "execution_count": 123,
     "metadata": {},
     "output_type": "execute_result"
    }
   ],
   "source": [
    "df = pd.read_csv(r\"D:\\flipkart reviews\\product_urls\\air conditioner.csv\")\n",
    "df.head()"
   ]
  },
  {
   "cell_type": "code",
   "execution_count": 37,
   "id": "cad75e63",
   "metadata": {
    "scrolled": true
   },
   "outputs": [
    {
     "name": "stdout",
     "output_type": "stream",
     "text": [
      "product category: air conditioner | products scraped:439 | status: successful\n"
     ]
    }
   ],
   "source": [
    "air_conditioner_list = list(df['prod_links'])\n",
    "get_reviews(air_conditioner_list , \"air conditioner\")"
   ]
  },
  {
   "cell_type": "markdown",
   "id": "9f91734a",
   "metadata": {},
   "source": [
    "# Scraping product data from urls in \"laptop.csv\""
   ]
  },
  {
   "cell_type": "code",
   "execution_count": 9,
   "id": "76b75ec4",
   "metadata": {},
   "outputs": [
    {
     "data": {
      "text/html": [
       "<div>\n",
       "<style scoped>\n",
       "    .dataframe tbody tr th:only-of-type {\n",
       "        vertical-align: middle;\n",
       "    }\n",
       "\n",
       "    .dataframe tbody tr th {\n",
       "        vertical-align: top;\n",
       "    }\n",
       "\n",
       "    .dataframe thead th {\n",
       "        text-align: right;\n",
       "    }\n",
       "</style>\n",
       "<table border=\"1\" class=\"dataframe\">\n",
       "  <thead>\n",
       "    <tr style=\"text-align: right;\">\n",
       "      <th></th>\n",
       "      <th>prod_links</th>\n",
       "    </tr>\n",
       "  </thead>\n",
       "  <tbody>\n",
       "    <tr>\n",
       "      <th>0</th>\n",
       "      <td>https://www.flipkart.com/dell-vostro-ryzen-5-h...</td>\n",
       "    </tr>\n",
       "    <tr>\n",
       "      <th>1</th>\n",
       "      <td>https://www.flipkart.com/asus-chromebook-flip-...</td>\n",
       "    </tr>\n",
       "    <tr>\n",
       "      <th>2</th>\n",
       "      <td>https://www.flipkart.com/lenovo-ideapad-slim-5...</td>\n",
       "    </tr>\n",
       "    <tr>\n",
       "      <th>3</th>\n",
       "      <td>https://www.flipkart.com/asus-tuf-gaming-a15-r...</td>\n",
       "    </tr>\n",
       "    <tr>\n",
       "      <th>4</th>\n",
       "      <td>https://www.flipkart.com/dell-ryzen-3-quad-cor...</td>\n",
       "    </tr>\n",
       "  </tbody>\n",
       "</table>\n",
       "</div>"
      ],
      "text/plain": [
       "                                          prod_links\n",
       "0  https://www.flipkart.com/dell-vostro-ryzen-5-h...\n",
       "1  https://www.flipkart.com/asus-chromebook-flip-...\n",
       "2  https://www.flipkart.com/lenovo-ideapad-slim-5...\n",
       "3  https://www.flipkart.com/asus-tuf-gaming-a15-r...\n",
       "4  https://www.flipkart.com/dell-ryzen-3-quad-cor..."
      ]
     },
     "execution_count": 9,
     "metadata": {},
     "output_type": "execute_result"
    }
   ],
   "source": [
    "df = pd.read_csv(r\"D:\\flipkart reviews\\product_urls\\laptop.csv\")\n",
    "df.head()"
   ]
  },
  {
   "cell_type": "code",
   "execution_count": null,
   "id": "8b105fe1",
   "metadata": {},
   "outputs": [
    {
     "name": "stdout",
     "output_type": "stream",
     "text": [
      "product category: laptop | products scraped: 0 | status: successful\n"
     ]
    }
   ],
   "source": [
    "laptop_list = list(df['prod_links'])\n",
    "get_reviews(laptop_list , \"laptop\")"
   ]
  },
  {
   "cell_type": "code",
   "execution_count": null,
   "id": "f3f989f4",
   "metadata": {},
   "outputs": [],
   "source": []
  },
  {
   "cell_type": "code",
   "execution_count": null,
   "id": "ee185825",
   "metadata": {},
   "outputs": [],
   "source": []
  },
  {
   "cell_type": "code",
   "execution_count": null,
   "id": "cec9a2e2",
   "metadata": {},
   "outputs": [],
   "source": []
  },
  {
   "cell_type": "code",
   "execution_count": null,
   "id": "a130547f",
   "metadata": {},
   "outputs": [],
   "source": []
  },
  {
   "cell_type": "markdown",
   "id": "29c18ac4",
   "metadata": {},
   "source": [
    "# After repeating code for each category like \"Refrigerator\", \"Air conditioner\", \"Smartphone\"... Lets See What files we got!"
   ]
  },
  {
   "cell_type": "code",
   "execution_count": 20,
   "id": "584b238c",
   "metadata": {},
   "outputs": [],
   "source": [
    "path = r\"D:\\flipkart reviews\\reviews\""
   ]
  },
  {
   "cell_type": "code",
   "execution_count": 21,
   "id": "10bff9e3",
   "metadata": {},
   "outputs": [
    {
     "data": {
      "text/plain": [
       "['BOSCH 263 L Frost Free Double Door Top Mount 3 Star Convertible Refrigerator .csv',\n",
       " 'BOSCH 636 L Frost Free Side by Side Refrigerator .csv',\n",
       " 'CANDY 170 L Direct Cool Single Door 2 Star Refrigerator .csv',\n",
       " 'CANDY 195 L Direct Cool Single Door 3 Star Refrigerator .csv',\n",
       " 'CANDY 258 L Frost Free Double Door 2 Star Convertible Refrigerator .csv',\n",
       " 'Godrej 185 L Direct Cool Single Door 2 Star Refrigerator .csv',\n",
       " 'Godrej 185 L Direct Cool Single Door 3 Star Refrigerator .csv',\n",
       " 'Godrej 185 L Direct Cool Single Door 4 Star Refrigerator .csv',\n",
       " 'Godrej 190 L Direct Cool Single Door 5 Star Refrigerator  with Base Drawer and Intelligent Inverter Compressor .csv',\n",
       " 'Godrej 190 L Direct Cool Single Door 5 Star Refrigerator .csv',\n",
       " 'Godrej 192 L Direct Cool Single Door 2 Star Refrigerator .csv',\n",
       " 'Godrej 225 L Direct Cool Single Door 3 Star Refrigerator with Base Drawer  with Intelligent Inverter Compressor .csv',\n",
       " 'Godrej 236 L Frost Free Double Door 2 Star Refrigerator .csv',\n",
       " 'Godrej 240 L Direct Cool Single Door 4 Star Refrigerator with Base Drawer .csv',\n",
       " 'Godrej 244 L Frost Free Double Door 3 Star Convertible Refrigerator .csv',\n",
       " 'Godrej 265 L Frost Free Double Door 3 Star Convertible Refrigerator .csv',\n",
       " 'Godrej 30 L Qube Personal Cooling Solution .csv',\n",
       " 'Godrej 564 L Frost Free Side by Side Refrigerator .csv',\n",
       " 'Godrej 99 L Direct Cool Single Door 2 Star Refrigerator .csv',\n",
       " 'Haier 170 L Direct Cool Single Door 2 Star Refrigerator .csv',\n",
       " 'Haier 181 L Direct Cool Single Door 2 Star Refrigerator .csv',\n",
       " 'Haier 182 L Direct Cool Single Door 2 Star Refrigerator .csv',\n",
       " 'Haier 190 L Direct Cool Single Door 2 Star Refrigerator .csv',\n",
       " 'Haier 190 L Direct Cool Single Door 2 Star Refrigerator with Base Drawer .csv',\n",
       " 'Haier 192 L Direct Cool Single Door 3 Star Refrigerator .csv',\n",
       " 'Haier 192 L Direct Cool Single Door 3 Star Refrigerator with Base Drawer .csv',\n",
       " 'Haier 195 L Direct Cool Single Door 4 Star Refrigerator .csv',\n",
       " 'Haier 195 L Direct Cool Single Door 5 Star Refrigerator .csv',\n",
       " 'Haier 195 L Direct Cool Single Door 5 Star Refrigerator with Base Drawer .csv',\n",
       " 'Haier 242 L Direct Cool Single Door 3 Star Refrigerator .csv',\n",
       " 'Haier 256 L Frost Free Double Door 3 Star Convertible Refrigerator .csv',\n",
       " 'Haier 256 L Frost Free Double Door Bottom Mount 2 Star Convertible Refrigerator .csv',\n",
       " 'Haier 256 l Frost Free Double Door Bottom Mount 3 Star Convertible Refrigerator .csv',\n",
       " 'Haier 256 L Frost Free Double Door Bottom Mount 3 Star Refrigerator .csv',\n",
       " 'Haier 258 L Frost Free Double Door 3 Star Convertible Refrigerator .csv',\n",
       " 'Haier 276 L Frost Free Double Door 3 Star Convertible Refrigerator .csv',\n",
       " 'Haier 276 L Frost Free Double Door Bottom Mount 3 Star Convertible Refrigerator .csv',\n",
       " 'Haier 278 L Frost Free Double Door 3 Star Convertible Refrigerator .csv',\n",
       " 'Haier 346 L Frost Free Double Door 3 Star Convertible Refrigerator .csv',\n",
       " 'Haier 376 L Frost Free Double Door Bottom Mount 3 Star Refrigerator .csv',\n",
       " 'Haier 460 L Frost Free Double Door 4 Star Convertible Refrigerator .csv',\n",
       " 'Haier 53 L Direct Cool Single Door 2 Star Refrigerator .csv',\n",
       " 'Haier 570 L Frost Free Side by Side Refrigerator .csv',\n",
       " 'Haier 628 L Frost Free Side by Side Refrigerator .csv',\n",
       " 'Haier 630 L Frost Free Side by Side Convertible Refrigerator .csv',\n",
       " 'Hisense 507 L Frost Free French Door Bottom Mount Inverter Technology Star Convertible Refrigerator with Base Drawer .csv',\n",
       " 'Hitachi 403 L Frost Free Double Door 2 Star Refrigerator .csv',\n",
       " 'Hitachi 565 L Frost Free Double Door 3 Star Refrigerator .csv',\n",
       " 'Kelvinator 190 L Direct Cool Single Door 2 Star Refrigerator .csv',\n",
       " 'LG 190 L Direct Cool Single Door 2 Star Refrigerator .csv',\n",
       " 'LG 190 L Direct Cool Single Door 2 Star Refrigerator with Base Drawer .csv',\n",
       " 'LG 190 L Direct Cool Single Door 3 Star Refrigerator .csv',\n",
       " 'LG 190 L Direct Cool Single Door 3 Star Refrigerator with Base Drawer  with Fast Ice Making .csv',\n",
       " 'LG 190 L Direct Cool Single Door 3 Star Refrigerator with Base Drawer .csv',\n",
       " 'LG 190 L Direct Cool Single Door 4 Star Refrigerator .csv',\n",
       " 'LG 190 L Direct Cool Single Door 4 Star Refrigerator with Base Drawer .csv',\n",
       " 'LG 190 L Direct Cool Single Door 5 Star Refrigerator with Base Drawer  with Smart Inverter Compressor .csv',\n",
       " 'LG 204 L Direct Cool Single Door 4 Star Refrigerator with Base Drawer  with External Mi-Com .csv',\n",
       " 'LG 204 L Direct Cool Single Door 5 Star Refrigerator with Base Drawer .csv',\n",
       " 'LG 215 L Direct Cool Single Door 3 Star Refrigerator  with Fast Ice Making .csv',\n",
       " 'LG 215 L Direct Cool Single Door 3 Star Refrigerator .csv',\n",
       " 'LG 215 L Direct Cool Single Door 3 Star Refrigerator with Base Drawer  with Fast Ice Making .csv',\n",
       " 'LG 215 L Direct Cool Single Door 4 Star Refrigerator .csv',\n",
       " \"LG 215 L Direct Cool Single Door 5 Star Refrigerator  with Smart Inverter With Smart Connect , Moist 'N' Fresh .csv\",\n",
       " 'LG 235 L Direct Cool Single Door 4 Star Refrigerator with Base Drawer .csv',\n",
       " 'LG 235 L Direct Cool Single Door 5 Star Refrigerator with Base Drawer .csv',\n",
       " 'LG 260 L Direct Cool Double Door 3 Star Convertible Refrigerator .csv',\n",
       " 'LG 260 L Frost Free Double Door 2 Star Convertible Refrigerator  with Convertible Refrigerator .csv',\n",
       " 'LG 260 L Frost Free Double Door 2 Star Convertible Refrigerator .csv',\n",
       " 'LG 260 L Frost Free Double Door 2 Star Convertible Refrigerator with Base Drawer .csv',\n",
       " 'LG 260 L Frost Free Double Door 2 Star Refrigerator .csv',\n",
       " 'LG 260 L Frost Free Double Door 3 Star Convertible Refrigerator .csv',\n",
       " 'LG 260 L Frost Free Double Door 3 Star Refrigerator .csv',\n",
       " 'LG 260 L Frost Free Double Door Top Mount 2 Star Refrigerator .csv',\n",
       " 'LG 260 L Frost Free Double Door Top Mount 3 Star Convertible Refrigerator .csv',\n",
       " 'LG 260 L Frost Free Double Door Top Mount 3 Star Refrigerator  with Smart Inverter .csv',\n",
       " 'LG 270 L Direct Cool Single Door 3 Star Refrigerator .csv',\n",
       " 'LG 360 L Frost Free Double Door 3 Star Convertible Refrigerator  with Smart Inverter Technology & Wi-Fi , Door Cooling+ .csv',\n",
       " 'LG 360 L Frost Free Double Door 3 Star Convertible Refrigerator .csv',\n",
       " 'LG 471 L Frost Free Double Door 3 Star Convertible Refrigerator .csv',\n",
       " 'LG 516 L Frost Free Double Door 2 Star Refrigerator .csv',\n",
       " 'LG 547 L Frost Free Double Door 3 Star Refrigerator  with with Door Cooling and Smart ThinQ(WiFi Enabled) .csv',\n",
       " 'LG 630 L Frost Free Double Door 3 Star Refrigerator .csv',\n",
       " 'LG 675 L Frost Free Side by Side Refrigerator  with with Door Cooling and Smart ThinQ(WiFi Enabled) .csv',\n",
       " 'LG 679 L Frost Free Side by Side Refrigerator  with With Multi Air Flow .csv',\n",
       " 'LG 687 L Frost Free Side by Side Refrigerator  with with Smart ThinQ(WiFi Enabled) .csv',\n",
       " 'LG 694 L Frost Free Side by Side Refrigerator  with Smart Inverter DoorCooling+, Hygiene Fresh+, Express Freeze .csv',\n",
       " 'Liebherr 265 L Frost Free Double Door Top Mount 3 Star Refrigerator .csv',\n",
       " 'Liebherr 472 L Frost Free Double Door Top Mount 2 Star Refrigerator .csv',\n",
       " 'Lloyd 200 L Direct Cool Single Door 4 Star Refrigerator with Base Drawer .csv',\n",
       " 'MarQ by Flipkart 190 L Direct Cool Single Door 3 Star Refrigerator .csv',\n",
       " 'MarQ by Flipkart 560 L Frost Free Side by Side Refrigerator  with Water Dispenser .csv',\n",
       " 'MarQ by Flipkart 563 L Frost Free Side by Side Refrigerator .csv',\n",
       " 'Midea 45 L Direct Cool Single Door 2 Star Refrigerator .csv',\n",
       " 'Midea 482 L Frost Free Side by Side Refrigerator .csv',\n",
       " 'Midea 544 L Frost Free French Door Bottom Mount Refrigerator .csv',\n",
       " 'Midea 591 L Frost Free Side by Side Refrigerator .csv',\n",
       " 'Midea 95 L Direct Cool Single Door 1 Star Refrigerator .csv',\n",
       " 'MOTOROLA 338 L Frost Free Double Door 3 Star Convertible Refrigerator .csv',\n",
       " 'MOTOROLA 507 L Frost Free Multi-Door Convertible Refrigerator .csv',\n",
       " 'Motorola 533 L Smart Wifi Enabled Frost Free Multi-Door Refrigerator .csv',\n",
       " 'nan.csv',\n",
       " 'ONIDA 190 L Direct Cool Single Door 3 Star Refrigerator .csv',\n",
       " 'Panasonic 296 L Frost Free Double Door 2 Star Refrigerator .csv',\n",
       " 'Panasonic 309 L Frost Free Double Door 3 Star Refrigerator .csv',\n",
       " 'realme TechLife 280 L Frost Free Double Door 3 Star Refrigerator .csv',\n",
       " 'realme TechLife 308 L Frost Free Double Door 3 Star Refrigerator .csv',\n",
       " 'realme TechLife 338 L Frost Free Double Door 3 Star Refrigerator .csv',\n",
       " 'SAMSUNG 192 L Direct Cool Single Door 1 Star Refrigerator .csv',\n",
       " 'SAMSUNG 192 L Direct Cool Single Door 2 Star Refrigerator .csv',\n",
       " 'SAMSUNG 192 L Direct Cool Single Door 2 Star Refrigerator with Base Drawer .csv',\n",
       " 'SAMSUNG 192 L Direct Cool Single Door 3 Star Refrigerator with Base Drawer .csv',\n",
       " 'SAMSUNG 192 L Direct Cool Single Door 4 Star Refrigerator  with Digi Touch Cool, Curd Maestro .csv',\n",
       " 'SAMSUNG 198 L Direct Cool Single Door 3 Star Refrigerator .csv',\n",
       " 'SAMSUNG 198 L Direct Cool Single Door 4 Star Refrigerator .csv',\n",
       " 'SAMSUNG 198 L Direct Cool Single Door 4 Star Refrigerator with Base Drawer .csv',\n",
       " 'SAMSUNG 198 L Direct Cool Single Door 5 Star Refrigerator with Base Drawer .csv',\n",
       " 'SAMSUNG 220 L Direct Cool Single Door 4 Star Refrigerator  with Curd Maestro .csv',\n",
       " 'SAMSUNG 220 L Direct Cool Single Door 4 Star Refrigerator  with Digi Touch Cool, Curd Maestro .csv',\n",
       " 'SAMSUNG 225 L Direct Cool Single Door 4 Star Refrigerator .csv',\n",
       " 'SAMSUNG 225 L Direct Cool Single Door 5 Star Refrigerator with Base Drawer .csv',\n",
       " 'SAMSUNG 230 L Direct Cool Single Door 3 Star Refrigerator .csv',\n",
       " 'SAMSUNG 244 L Frost Free Double Door 3 Star Refrigerator  with Curd Maestro .csv',\n",
       " 'SAMSUNG 253 l Frost Free Double Door 1 Star Refrigerator .csv',\n",
       " 'SAMSUNG 253 L Frost Free Double Door 2 Star Convertible Refrigerator .csv',\n",
       " 'SAMSUNG 253 L Frost Free Double Door 2 Star Refrigerator .csv',\n",
       " 'SAMSUNG 253 L Frost Free Double Door 2 Star Refrigerator with Base Drawer .csv',\n",
       " 'SAMSUNG 253 L Frost Free Double Door 3 Star Refrigerator .csv',\n",
       " 'SAMSUNG 255 L Direct Cool Single Door 3 Star Refrigerator with Base Drawer .csv',\n",
       " 'SAMSUNG 275 L Frost Free Double Door 3 Star Refrigerator .csv',\n",
       " 'SAMSUNG 314 l Frost Free Double Door 2 Star Convertible Refrigerator  with with Curd Maestro .csv',\n",
       " 'SAMSUNG 324 L Frost Free Double Door 2 Star Convertible Refrigerator .csv',\n",
       " 'SAMSUNG 336 L Frost Free Double Door 2 Star Refrigerator  with Curd Maestro .csv',\n",
       " 'SAMSUNG 345 L Frost Free Double Door 3 Star Convertible Refrigerator .csv',\n",
       " 'SAMSUNG 394 L Frost Free Double Door 2 Star Refrigerator .csv',\n",
       " 'SAMSUNG 692 L Frost Free Side by Side Refrigerator .csv',\n",
       " 'SAMSUNG 700 L Frost Free Side by Side Refrigerator .csv',\n",
       " 'Voltas 250 L Frost Free Double Door 2 Star Refrigerator .csv',\n",
       " 'Whirlpool 190 L Direct Cool Single Door 2 Star Refrigerator .csv',\n",
       " 'Whirlpool 190 L Direct Cool Single Door 2 Star Refrigerator with Base Drawer .csv',\n",
       " 'Whirlpool 190 L Direct Cool Single Door 3 Star Refrigerator .csv',\n",
       " 'Whirlpool 190 L Direct Cool Single Door 3 Star Refrigerator with Base Drawer .csv',\n",
       " 'Whirlpool 190 L Direct Cool Single Door 4 Star Refrigerator  with Intellisense Inverter Compressor .csv',\n",
       " 'Whirlpool 190 L Direct Cool Single Door 4 Star Refrigerator .csv',\n",
       " 'Whirlpool 190 L Direct Cool Single Door 4 Star Refrigerator with Base Drawer  with Intellisense Inverter Compressor .csv',\n",
       " 'Whirlpool 190 L Frost Free Single Door 3 Star Refrigerator .csv',\n",
       " 'Whirlpool 200 L Direct Cool Single Door 3 Star Refrigerator .csv',\n",
       " 'Whirlpool 200 L Direct Cool Single Door 4 Star Refrigerator with Base Drawer .csv',\n",
       " 'Whirlpool 215 L Direct Cool Single Door 3 Star Refrigerator .csv',\n",
       " 'Whirlpool 215 L Direct Cool Single Door 5 Star Refrigerator .csv',\n",
       " 'Whirlpool 215 L Direct Cool Single Door 5 Star Refrigerator with Base Drawer .csv',\n",
       " 'Whirlpool 240 L Frost Free Triple Door Refrigerator .csv',\n",
       " 'Whirlpool 245 L Frost Free Double Door 2 Star Refrigerator .csv',\n",
       " 'Whirlpool 260 L Frost Free Triple Door Refrigerator .csv',\n",
       " 'Whirlpool 265 L Frost Free Double Door 2 Star Convertible Refrigerator .csv',\n",
       " 'Whirlpool 265 L Frost Free Double Door 2 Star Refrigerator  with Glass Door .csv',\n",
       " 'Whirlpool 265 L Frost Free Double Door 2 Star Refrigerator .csv',\n",
       " 'Whirlpool 265 L Frost Free Double Door 3 Star Convertible Refrigerator .csv',\n",
       " 'Whirlpool 280 L Direct Cool Single Door 3 Star Refrigerator  with Auto Defrost .csv',\n",
       " 'Whirlpool 292 L Frost Free Double Door 2 Star Convertible Refrigerator .csv',\n",
       " 'Whirlpool 292 L Frost Free Double Door 2 Star Refrigerator  with Glass Door .csv',\n",
       " 'Whirlpool 292 L Frost Free Double Door 3 Star Convertible Refrigerator .csv',\n",
       " 'Whirlpool 300 L Frost Free Triple Door Refrigerator .csv',\n",
       " 'Whirlpool 325 L Frost Free Double Door Bottom Mount 2 Star Refrigerator .csv',\n",
       " 'Whirlpool 330 L Frost Free Triple Door Refrigerator .csv',\n",
       " 'Whirlpool 340 L Frost Free Double Door 3 Star Convertible Refrigerator .csv',\n",
       " 'Whirlpool 440 L Frost Free Double Door 3 Star Convertible Refrigerator .csv',\n",
       " 'Whirlpool 570 L Frost Free Side by Side Inverter Technology Star Refrigerator .csv']"
      ]
     },
     "execution_count": 21,
     "metadata": {},
     "output_type": "execute_result"
    }
   ],
   "source": [
    "files = os.listdir(path)\n",
    "files"
   ]
  },
  {
   "cell_type": "code",
   "execution_count": 22,
   "id": "3a338fcb",
   "metadata": {},
   "outputs": [
    {
     "data": {
      "text/plain": [
       "168"
      ]
     },
     "execution_count": 22,
     "metadata": {},
     "output_type": "execute_result"
    }
   ],
   "source": [
    "len(files)"
   ]
  },
  {
   "cell_type": "markdown",
   "id": "f7aa3651",
   "metadata": {},
   "source": [
    "# we got 168 csv files, one csv for each product."
   ]
  },
  {
   "cell_type": "markdown",
   "id": "051f9460",
   "metadata": {},
   "source": [
    "# Lets concat all csv into one dataframe"
   ]
  },
  {
   "cell_type": "code",
   "execution_count": 23,
   "id": "b83338da",
   "metadata": {},
   "outputs": [],
   "source": [
    "full_df = pd.DataFrame()\n",
    "for file in files:\n",
    "    current_df = pd.read_csv(r'{path}\\{file}'.format(path=path, file = file))\n",
    "    full_df = pd.concat([full_df , current_df])"
   ]
  },
  {
   "cell_type": "code",
   "execution_count": 25,
   "id": "3c6a84f4",
   "metadata": {},
   "outputs": [
    {
     "data": {
      "text/html": [
       "<div>\n",
       "<style scoped>\n",
       "    .dataframe tbody tr th:only-of-type {\n",
       "        vertical-align: middle;\n",
       "    }\n",
       "\n",
       "    .dataframe tbody tr th {\n",
       "        vertical-align: top;\n",
       "    }\n",
       "\n",
       "    .dataframe thead th {\n",
       "        text-align: right;\n",
       "    }\n",
       "</style>\n",
       "<table border=\"1\" class=\"dataframe\">\n",
       "  <thead>\n",
       "    <tr style=\"text-align: right;\">\n",
       "      <th></th>\n",
       "      <th>product_name</th>\n",
       "      <th>brand_name</th>\n",
       "      <th>price</th>\n",
       "      <th>sold</th>\n",
       "      <th>prod_url</th>\n",
       "      <th>customer_name</th>\n",
       "      <th>purchase_date</th>\n",
       "      <th>customers_city</th>\n",
       "      <th>rating</th>\n",
       "      <th>comment_head</th>\n",
       "      <th>comment</th>\n",
       "    </tr>\n",
       "  </thead>\n",
       "  <tbody>\n",
       "    <tr>\n",
       "      <th>0</th>\n",
       "      <td>BOSCH 263 L Frost Free Double Door Top Mount 3...</td>\n",
       "      <td>BOSCH</td>\n",
       "      <td>28990</td>\n",
       "      <td>150</td>\n",
       "      <td>https://www.flipkart.com/bosch-263-l-frost-fre...</td>\n",
       "      <td>Flipkart Customer</td>\n",
       "      <td>1 month ago</td>\n",
       "      <td>Bengaluru</td>\n",
       "      <td>5</td>\n",
       "      <td>Fabulous!</td>\n",
       "      <td>Super product</td>\n",
       "    </tr>\n",
       "    <tr>\n",
       "      <th>1</th>\n",
       "      <td>BOSCH 263 L Frost Free Double Door Top Mount 3...</td>\n",
       "      <td>BOSCH</td>\n",
       "      <td>28990</td>\n",
       "      <td>150</td>\n",
       "      <td>https://www.flipkart.com/bosch-263-l-frost-fre...</td>\n",
       "      <td>vikas  araspure</td>\n",
       "      <td>1 month ago</td>\n",
       "      <td>Kamptee</td>\n",
       "      <td>5</td>\n",
       "      <td>Terrific</td>\n",
       "      <td>Excellent</td>\n",
       "    </tr>\n",
       "    <tr>\n",
       "      <th>2</th>\n",
       "      <td>BOSCH 263 L Frost Free Double Door Top Mount 3...</td>\n",
       "      <td>BOSCH</td>\n",
       "      <td>28990</td>\n",
       "      <td>150</td>\n",
       "      <td>https://www.flipkart.com/bosch-263-l-frost-fre...</td>\n",
       "      <td>Jahnavi  Sonti</td>\n",
       "      <td>1 month ago</td>\n",
       "      <td>West Godavari District</td>\n",
       "      <td>5</td>\n",
       "      <td>Mind-blowing purchase</td>\n",
       "      <td>Very good instalation good behaviour all doubt...</td>\n",
       "    </tr>\n",
       "    <tr>\n",
       "      <th>3</th>\n",
       "      <td>BOSCH 263 L Frost Free Double Door Top Mount 3...</td>\n",
       "      <td>BOSCH</td>\n",
       "      <td>28990</td>\n",
       "      <td>150</td>\n",
       "      <td>https://www.flipkart.com/bosch-263-l-frost-fre...</td>\n",
       "      <td>Vineet Kakkar</td>\n",
       "      <td>1 month ago</td>\n",
       "      <td>Gautam Buddha Nagar District</td>\n",
       "      <td>5</td>\n",
       "      <td>Best in the market!</td>\n",
       "      <td>Nice product value for money</td>\n",
       "    </tr>\n",
       "    <tr>\n",
       "      <th>4</th>\n",
       "      <td>BOSCH 263 L Frost Free Double Door Top Mount 3...</td>\n",
       "      <td>BOSCH</td>\n",
       "      <td>28990</td>\n",
       "      <td>150</td>\n",
       "      <td>https://www.flipkart.com/bosch-263-l-frost-fre...</td>\n",
       "      <td>Osmita Das</td>\n",
       "      <td>1 month ago</td>\n",
       "      <td>Kolkata</td>\n",
       "      <td>5</td>\n",
       "      <td>Fabulous!</td>\n",
       "      <td>Just awesome 👌</td>\n",
       "    </tr>\n",
       "  </tbody>\n",
       "</table>\n",
       "</div>"
      ],
      "text/plain": [
       "                                        product_name brand_name  price sold  \\\n",
       "0  BOSCH 263 L Frost Free Double Door Top Mount 3...      BOSCH  28990  150   \n",
       "1  BOSCH 263 L Frost Free Double Door Top Mount 3...      BOSCH  28990  150   \n",
       "2  BOSCH 263 L Frost Free Double Door Top Mount 3...      BOSCH  28990  150   \n",
       "3  BOSCH 263 L Frost Free Double Door Top Mount 3...      BOSCH  28990  150   \n",
       "4  BOSCH 263 L Frost Free Double Door Top Mount 3...      BOSCH  28990  150   \n",
       "\n",
       "                                            prod_url      customer_name  \\\n",
       "0  https://www.flipkart.com/bosch-263-l-frost-fre...  Flipkart Customer   \n",
       "1  https://www.flipkart.com/bosch-263-l-frost-fre...    vikas  araspure   \n",
       "2  https://www.flipkart.com/bosch-263-l-frost-fre...     Jahnavi  Sonti   \n",
       "3  https://www.flipkart.com/bosch-263-l-frost-fre...      Vineet Kakkar   \n",
       "4  https://www.flipkart.com/bosch-263-l-frost-fre...         Osmita Das   \n",
       "\n",
       "  purchase_date                customers_city rating           comment_head  \\\n",
       "0   1 month ago                     Bengaluru      5              Fabulous!   \n",
       "1   1 month ago                       Kamptee      5               Terrific   \n",
       "2   1 month ago        West Godavari District      5  Mind-blowing purchase   \n",
       "3   1 month ago  Gautam Buddha Nagar District      5    Best in the market!   \n",
       "4   1 month ago                       Kolkata      5              Fabulous!   \n",
       "\n",
       "                                             comment  \n",
       "0                                      Super product  \n",
       "1                                          Excellent  \n",
       "2  Very good instalation good behaviour all doubt...  \n",
       "3                       Nice product value for money  \n",
       "4                                     Just awesome 👌  "
      ]
     },
     "execution_count": 25,
     "metadata": {},
     "output_type": "execute_result"
    }
   ],
   "source": [
    "full_df.head()"
   ]
  },
  {
   "cell_type": "code",
   "execution_count": 26,
   "id": "da66a363",
   "metadata": {},
   "outputs": [
    {
     "data": {
      "text/plain": [
       "51235"
      ]
     },
     "execution_count": 26,
     "metadata": {},
     "output_type": "execute_result"
    }
   ],
   "source": [
    "len(full_df)"
   ]
  },
  {
   "cell_type": "code",
   "execution_count": 27,
   "id": "fe677079",
   "metadata": {
    "scrolled": true
   },
   "outputs": [
    {
     "name": "stdout",
     "output_type": "stream",
     "text": [
      "<class 'pandas.core.frame.DataFrame'>\n",
      "Int64Index: 51235 entries, 0 to 44\n",
      "Data columns (total 11 columns):\n",
      " #   Column          Non-Null Count  Dtype \n",
      "---  ------          --------------  ----- \n",
      " 0   product_name    51155 non-null  object\n",
      " 1   brand_name      51155 non-null  object\n",
      " 2   price           51155 non-null  object\n",
      " 3   sold            51155 non-null  object\n",
      " 4   prod_url        51155 non-null  object\n",
      " 5   customer_name   51118 non-null  object\n",
      " 6   purchase_date   51155 non-null  object\n",
      " 7   customers_city  51155 non-null  object\n",
      " 8   rating          51155 non-null  object\n",
      " 9   comment_head    51155 non-null  object\n",
      " 10  comment         51150 non-null  object\n",
      "dtypes: object(11)\n",
      "memory usage: 4.7+ MB\n"
     ]
    }
   ],
   "source": [
    "full_df.info()"
   ]
  },
  {
   "cell_type": "markdown",
   "id": "9e55fb7b",
   "metadata": {},
   "source": [
    "# saving data into csv"
   ]
  },
  {
   "cell_type": "code",
   "execution_count": 28,
   "id": "c6079179",
   "metadata": {},
   "outputs": [
    {
     "data": {
      "text/html": [
       "<div>\n",
       "<style scoped>\n",
       "    .dataframe tbody tr th:only-of-type {\n",
       "        vertical-align: middle;\n",
       "    }\n",
       "\n",
       "    .dataframe tbody tr th {\n",
       "        vertical-align: top;\n",
       "    }\n",
       "\n",
       "    .dataframe thead th {\n",
       "        text-align: right;\n",
       "    }\n",
       "</style>\n",
       "<table border=\"1\" class=\"dataframe\">\n",
       "  <thead>\n",
       "    <tr style=\"text-align: right;\">\n",
       "      <th></th>\n",
       "      <th>product_name</th>\n",
       "      <th>brand_name</th>\n",
       "      <th>price</th>\n",
       "      <th>sold</th>\n",
       "      <th>prod_url</th>\n",
       "      <th>customer_name</th>\n",
       "      <th>purchase_date</th>\n",
       "      <th>customers_city</th>\n",
       "      <th>rating</th>\n",
       "      <th>comment_head</th>\n",
       "      <th>comment</th>\n",
       "    </tr>\n",
       "  </thead>\n",
       "  <tbody>\n",
       "    <tr>\n",
       "      <th>0</th>\n",
       "      <td>BOSCH 263 L Frost Free Double Door Top Mount 3...</td>\n",
       "      <td>BOSCH</td>\n",
       "      <td>28990</td>\n",
       "      <td>150</td>\n",
       "      <td>https://www.flipkart.com/bosch-263-l-frost-fre...</td>\n",
       "      <td>Flipkart Customer</td>\n",
       "      <td>1 month ago</td>\n",
       "      <td>Bengaluru</td>\n",
       "      <td>5</td>\n",
       "      <td>Fabulous!</td>\n",
       "      <td>Super product</td>\n",
       "    </tr>\n",
       "    <tr>\n",
       "      <th>1</th>\n",
       "      <td>BOSCH 263 L Frost Free Double Door Top Mount 3...</td>\n",
       "      <td>BOSCH</td>\n",
       "      <td>28990</td>\n",
       "      <td>150</td>\n",
       "      <td>https://www.flipkart.com/bosch-263-l-frost-fre...</td>\n",
       "      <td>vikas  araspure</td>\n",
       "      <td>1 month ago</td>\n",
       "      <td>Kamptee</td>\n",
       "      <td>5</td>\n",
       "      <td>Terrific</td>\n",
       "      <td>Excellent</td>\n",
       "    </tr>\n",
       "    <tr>\n",
       "      <th>2</th>\n",
       "      <td>BOSCH 263 L Frost Free Double Door Top Mount 3...</td>\n",
       "      <td>BOSCH</td>\n",
       "      <td>28990</td>\n",
       "      <td>150</td>\n",
       "      <td>https://www.flipkart.com/bosch-263-l-frost-fre...</td>\n",
       "      <td>Jahnavi  Sonti</td>\n",
       "      <td>1 month ago</td>\n",
       "      <td>West Godavari District</td>\n",
       "      <td>5</td>\n",
       "      <td>Mind-blowing purchase</td>\n",
       "      <td>Very good instalation good behaviour all doubt...</td>\n",
       "    </tr>\n",
       "    <tr>\n",
       "      <th>3</th>\n",
       "      <td>BOSCH 263 L Frost Free Double Door Top Mount 3...</td>\n",
       "      <td>BOSCH</td>\n",
       "      <td>28990</td>\n",
       "      <td>150</td>\n",
       "      <td>https://www.flipkart.com/bosch-263-l-frost-fre...</td>\n",
       "      <td>Vineet Kakkar</td>\n",
       "      <td>1 month ago</td>\n",
       "      <td>Gautam Buddha Nagar District</td>\n",
       "      <td>5</td>\n",
       "      <td>Best in the market!</td>\n",
       "      <td>Nice product value for money</td>\n",
       "    </tr>\n",
       "    <tr>\n",
       "      <th>4</th>\n",
       "      <td>BOSCH 263 L Frost Free Double Door Top Mount 3...</td>\n",
       "      <td>BOSCH</td>\n",
       "      <td>28990</td>\n",
       "      <td>150</td>\n",
       "      <td>https://www.flipkart.com/bosch-263-l-frost-fre...</td>\n",
       "      <td>Osmita Das</td>\n",
       "      <td>1 month ago</td>\n",
       "      <td>Kolkata</td>\n",
       "      <td>5</td>\n",
       "      <td>Fabulous!</td>\n",
       "      <td>Just awesome 👌</td>\n",
       "    </tr>\n",
       "  </tbody>\n",
       "</table>\n",
       "</div>"
      ],
      "text/plain": [
       "                                        product_name brand_name  price sold  \\\n",
       "0  BOSCH 263 L Frost Free Double Door Top Mount 3...      BOSCH  28990  150   \n",
       "1  BOSCH 263 L Frost Free Double Door Top Mount 3...      BOSCH  28990  150   \n",
       "2  BOSCH 263 L Frost Free Double Door Top Mount 3...      BOSCH  28990  150   \n",
       "3  BOSCH 263 L Frost Free Double Door Top Mount 3...      BOSCH  28990  150   \n",
       "4  BOSCH 263 L Frost Free Double Door Top Mount 3...      BOSCH  28990  150   \n",
       "\n",
       "                                            prod_url      customer_name  \\\n",
       "0  https://www.flipkart.com/bosch-263-l-frost-fre...  Flipkart Customer   \n",
       "1  https://www.flipkart.com/bosch-263-l-frost-fre...    vikas  araspure   \n",
       "2  https://www.flipkart.com/bosch-263-l-frost-fre...     Jahnavi  Sonti   \n",
       "3  https://www.flipkart.com/bosch-263-l-frost-fre...      Vineet Kakkar   \n",
       "4  https://www.flipkart.com/bosch-263-l-frost-fre...         Osmita Das   \n",
       "\n",
       "  purchase_date                customers_city rating           comment_head  \\\n",
       "0   1 month ago                     Bengaluru      5              Fabulous!   \n",
       "1   1 month ago                       Kamptee      5               Terrific   \n",
       "2   1 month ago        West Godavari District      5  Mind-blowing purchase   \n",
       "3   1 month ago  Gautam Buddha Nagar District      5    Best in the market!   \n",
       "4   1 month ago                       Kolkata      5              Fabulous!   \n",
       "\n",
       "                                             comment  \n",
       "0                                      Super product  \n",
       "1                                          Excellent  \n",
       "2  Very good instalation good behaviour all doubt...  \n",
       "3                       Nice product value for money  \n",
       "4                                     Just awesome 👌  "
      ]
     },
     "execution_count": 28,
     "metadata": {},
     "output_type": "execute_result"
    }
   ],
   "source": [
    "full_df.to_csv(r\"D:\\flipkart reviews\\scraped data\\reviews.csv\" , mode=\"w+\", index=False)\n",
    "full_df.head()"
   ]
  },
  {
   "cell_type": "markdown",
   "id": "fa822c29",
   "metadata": {},
   "source": [
    "# Reading data into pandas"
   ]
  },
  {
   "cell_type": "code",
   "execution_count": 29,
   "id": "9bee0c57",
   "metadata": {
    "scrolled": true
   },
   "outputs": [
    {
     "data": {
      "text/html": [
       "<div>\n",
       "<style scoped>\n",
       "    .dataframe tbody tr th:only-of-type {\n",
       "        vertical-align: middle;\n",
       "    }\n",
       "\n",
       "    .dataframe tbody tr th {\n",
       "        vertical-align: top;\n",
       "    }\n",
       "\n",
       "    .dataframe thead th {\n",
       "        text-align: right;\n",
       "    }\n",
       "</style>\n",
       "<table border=\"1\" class=\"dataframe\">\n",
       "  <thead>\n",
       "    <tr style=\"text-align: right;\">\n",
       "      <th></th>\n",
       "      <th>product_name</th>\n",
       "      <th>brand_name</th>\n",
       "      <th>price</th>\n",
       "      <th>sold</th>\n",
       "      <th>prod_url</th>\n",
       "      <th>customer_name</th>\n",
       "      <th>purchase_date</th>\n",
       "      <th>customers_city</th>\n",
       "      <th>rating</th>\n",
       "      <th>comment_head</th>\n",
       "      <th>comment</th>\n",
       "    </tr>\n",
       "  </thead>\n",
       "  <tbody>\n",
       "    <tr>\n",
       "      <th>51225</th>\n",
       "      <td>Whirlpool 570 L Frost Free Side by Side Invert...</td>\n",
       "      <td>Whirlpool</td>\n",
       "      <td>72990.0</td>\n",
       "      <td>903.0</td>\n",
       "      <td>https://www.flipkart.com/whirlpool-570-l-frost...</td>\n",
       "      <td>Flipkart Customer</td>\n",
       "      <td>Jun, 2021</td>\n",
       "      <td>Barasat</td>\n",
       "      <td>5.0</td>\n",
       "      <td>NICE PRODUCT</td>\n",
       "      <td>VERY GOOD ITEM.</td>\n",
       "    </tr>\n",
       "    <tr>\n",
       "      <th>51226</th>\n",
       "      <td>Whirlpool 570 L Frost Free Side by Side Invert...</td>\n",
       "      <td>Whirlpool</td>\n",
       "      <td>72990.0</td>\n",
       "      <td>903.0</td>\n",
       "      <td>https://www.flipkart.com/whirlpool-570-l-frost...</td>\n",
       "      <td>PRATAP  BISWAL</td>\n",
       "      <td>Jun, 2021</td>\n",
       "      <td>Bhubaneswar</td>\n",
       "      <td>5.0</td>\n",
       "      <td>Awesome</td>\n",
       "      <td>Very good product</td>\n",
       "    </tr>\n",
       "    <tr>\n",
       "      <th>51227</th>\n",
       "      <td>Whirlpool 570 L Frost Free Side by Side Invert...</td>\n",
       "      <td>Whirlpool</td>\n",
       "      <td>72990.0</td>\n",
       "      <td>903.0</td>\n",
       "      <td>https://www.flipkart.com/whirlpool-570-l-frost...</td>\n",
       "      <td>Flipkart Customer</td>\n",
       "      <td>Jun, 2021</td>\n",
       "      <td>Elampalloor</td>\n",
       "      <td>4.0</td>\n",
       "      <td>Value-for-money</td>\n",
       "      <td>I realise that some delay in installation is d...</td>\n",
       "    </tr>\n",
       "    <tr>\n",
       "      <th>51228</th>\n",
       "      <td>Whirlpool 570 L Frost Free Side by Side Invert...</td>\n",
       "      <td>Whirlpool</td>\n",
       "      <td>72990.0</td>\n",
       "      <td>903.0</td>\n",
       "      <td>https://www.flipkart.com/whirlpool-570-l-frost...</td>\n",
       "      <td>Flipkart Customer</td>\n",
       "      <td>Jun, 2021</td>\n",
       "      <td>Rewari</td>\n",
       "      <td>5.0</td>\n",
       "      <td>Great product</td>\n",
       "      <td>Overall good</td>\n",
       "    </tr>\n",
       "    <tr>\n",
       "      <th>51229</th>\n",
       "      <td>Whirlpool 570 L Frost Free Side by Side Invert...</td>\n",
       "      <td>Whirlpool</td>\n",
       "      <td>72990.0</td>\n",
       "      <td>903.0</td>\n",
       "      <td>https://www.flipkart.com/whirlpool-570-l-frost...</td>\n",
       "      <td>Flipkart Customer</td>\n",
       "      <td>Jun, 2021</td>\n",
       "      <td>Kolkata</td>\n",
       "      <td>5.0</td>\n",
       "      <td>Brilliant</td>\n",
       "      <td>well working and needed 1 day to work to work ...</td>\n",
       "    </tr>\n",
       "    <tr>\n",
       "      <th>51230</th>\n",
       "      <td>Whirlpool 570 L Frost Free Side by Side Invert...</td>\n",
       "      <td>Whirlpool</td>\n",
       "      <td>72990.0</td>\n",
       "      <td>903.0</td>\n",
       "      <td>https://www.flipkart.com/whirlpool-570-l-frost...</td>\n",
       "      <td>Pruthvi Teja</td>\n",
       "      <td>Mar, 2021</td>\n",
       "      <td>Amalapuram</td>\n",
       "      <td>5.0</td>\n",
       "      <td>Super!</td>\n",
       "      <td>Best in class refrigerator &amp; Thanks to whirlpo...</td>\n",
       "    </tr>\n",
       "    <tr>\n",
       "      <th>51231</th>\n",
       "      <td>Whirlpool 570 L Frost Free Side by Side Invert...</td>\n",
       "      <td>Whirlpool</td>\n",
       "      <td>72990.0</td>\n",
       "      <td>903.0</td>\n",
       "      <td>https://www.flipkart.com/whirlpool-570-l-frost...</td>\n",
       "      <td>Praveen Kumar  Singh</td>\n",
       "      <td>Jan, 2021</td>\n",
       "      <td>Purnia</td>\n",
       "      <td>4.0</td>\n",
       "      <td>Wonderful</td>\n",
       "      <td>A Nice refrigerator delivered without any flaw...</td>\n",
       "    </tr>\n",
       "    <tr>\n",
       "      <th>51232</th>\n",
       "      <td>Whirlpool 570 L Frost Free Side by Side Invert...</td>\n",
       "      <td>Whirlpool</td>\n",
       "      <td>72990.0</td>\n",
       "      <td>903.0</td>\n",
       "      <td>https://www.flipkart.com/whirlpool-570-l-frost...</td>\n",
       "      <td>Samrat Mallick</td>\n",
       "      <td>Dec, 2020</td>\n",
       "      <td>Burdwan</td>\n",
       "      <td>5.0</td>\n",
       "      <td>Perfect product!</td>\n",
       "      <td>Nice product.</td>\n",
       "    </tr>\n",
       "    <tr>\n",
       "      <th>51233</th>\n",
       "      <td>Whirlpool 570 L Frost Free Side by Side Invert...</td>\n",
       "      <td>Whirlpool</td>\n",
       "      <td>72990.0</td>\n",
       "      <td>903.0</td>\n",
       "      <td>https://www.flipkart.com/whirlpool-570-l-frost...</td>\n",
       "      <td>anand kumar</td>\n",
       "      <td>Oct, 2020</td>\n",
       "      <td>Bengaluru</td>\n",
       "      <td>5.0</td>\n",
       "      <td>Great product</td>\n",
       "      <td>Excellent refrigerator</td>\n",
       "    </tr>\n",
       "    <tr>\n",
       "      <th>51234</th>\n",
       "      <td>Whirlpool 570 L Frost Free Side by Side Invert...</td>\n",
       "      <td>Whirlpool</td>\n",
       "      <td>72990.0</td>\n",
       "      <td>903.0</td>\n",
       "      <td>https://www.flipkart.com/whirlpool-570-l-frost...</td>\n",
       "      <td>Ramandeep kaur</td>\n",
       "      <td>Aug, 2020</td>\n",
       "      <td>Patiala</td>\n",
       "      <td>5.0</td>\n",
       "      <td>Highly recommended</td>\n",
       "      <td>Nice product .capacity is good .must buy</td>\n",
       "    </tr>\n",
       "  </tbody>\n",
       "</table>\n",
       "</div>"
      ],
      "text/plain": [
       "                                            product_name brand_name    price  \\\n",
       "51225  Whirlpool 570 L Frost Free Side by Side Invert...  Whirlpool  72990.0   \n",
       "51226  Whirlpool 570 L Frost Free Side by Side Invert...  Whirlpool  72990.0   \n",
       "51227  Whirlpool 570 L Frost Free Side by Side Invert...  Whirlpool  72990.0   \n",
       "51228  Whirlpool 570 L Frost Free Side by Side Invert...  Whirlpool  72990.0   \n",
       "51229  Whirlpool 570 L Frost Free Side by Side Invert...  Whirlpool  72990.0   \n",
       "51230  Whirlpool 570 L Frost Free Side by Side Invert...  Whirlpool  72990.0   \n",
       "51231  Whirlpool 570 L Frost Free Side by Side Invert...  Whirlpool  72990.0   \n",
       "51232  Whirlpool 570 L Frost Free Side by Side Invert...  Whirlpool  72990.0   \n",
       "51233  Whirlpool 570 L Frost Free Side by Side Invert...  Whirlpool  72990.0   \n",
       "51234  Whirlpool 570 L Frost Free Side by Side Invert...  Whirlpool  72990.0   \n",
       "\n",
       "        sold                                           prod_url  \\\n",
       "51225  903.0  https://www.flipkart.com/whirlpool-570-l-frost...   \n",
       "51226  903.0  https://www.flipkart.com/whirlpool-570-l-frost...   \n",
       "51227  903.0  https://www.flipkart.com/whirlpool-570-l-frost...   \n",
       "51228  903.0  https://www.flipkart.com/whirlpool-570-l-frost...   \n",
       "51229  903.0  https://www.flipkart.com/whirlpool-570-l-frost...   \n",
       "51230  903.0  https://www.flipkart.com/whirlpool-570-l-frost...   \n",
       "51231  903.0  https://www.flipkart.com/whirlpool-570-l-frost...   \n",
       "51232  903.0  https://www.flipkart.com/whirlpool-570-l-frost...   \n",
       "51233  903.0  https://www.flipkart.com/whirlpool-570-l-frost...   \n",
       "51234  903.0  https://www.flipkart.com/whirlpool-570-l-frost...   \n",
       "\n",
       "              customer_name purchase_date customers_city  rating  \\\n",
       "51225     Flipkart Customer     Jun, 2021        Barasat     5.0   \n",
       "51226       PRATAP  BISWAL      Jun, 2021    Bhubaneswar     5.0   \n",
       "51227     Flipkart Customer     Jun, 2021    Elampalloor     4.0   \n",
       "51228     Flipkart Customer     Jun, 2021         Rewari     5.0   \n",
       "51229     Flipkart Customer     Jun, 2021        Kolkata     5.0   \n",
       "51230          Pruthvi Teja     Mar, 2021     Amalapuram     5.0   \n",
       "51231  Praveen Kumar  Singh     Jan, 2021         Purnia     4.0   \n",
       "51232        Samrat Mallick     Dec, 2020        Burdwan     5.0   \n",
       "51233           anand kumar     Oct, 2020      Bengaluru     5.0   \n",
       "51234       Ramandeep kaur      Aug, 2020        Patiala     5.0   \n",
       "\n",
       "             comment_head                                            comment  \n",
       "51225        NICE PRODUCT                                    VERY GOOD ITEM.  \n",
       "51226             Awesome                                  Very good product  \n",
       "51227     Value-for-money  I realise that some delay in installation is d...  \n",
       "51228       Great product                                       Overall good  \n",
       "51229           Brilliant  well working and needed 1 day to work to work ...  \n",
       "51230              Super!  Best in class refrigerator & Thanks to whirlpo...  \n",
       "51231           Wonderful  A Nice refrigerator delivered without any flaw...  \n",
       "51232    Perfect product!                                      Nice product.  \n",
       "51233       Great product                             Excellent refrigerator  \n",
       "51234  Highly recommended           Nice product .capacity is good .must buy  "
      ]
     },
     "execution_count": 29,
     "metadata": {},
     "output_type": "execute_result"
    }
   ],
   "source": [
    "full_df = pd.read_csv(r\"D:\\flipkart reviews\\scraped data\\reviews.csv\")\n",
    "full_df.tail(10)"
   ]
  }
 ],
 "metadata": {
  "kernelspec": {
   "display_name": "Python 3 (ipykernel)",
   "language": "python",
   "name": "python3"
  },
  "language_info": {
   "codemirror_mode": {
    "name": "ipython",
    "version": 3
   },
   "file_extension": ".py",
   "mimetype": "text/x-python",
   "name": "python",
   "nbconvert_exporter": "python",
   "pygments_lexer": "ipython3",
   "version": "3.9.7"
  }
 },
 "nbformat": 4,
 "nbformat_minor": 5
}
