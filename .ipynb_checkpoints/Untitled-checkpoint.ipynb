{
 "cells": [
  {
   "cell_type": "code",
   "execution_count": 1,
   "id": "79cba673",
   "metadata": {},
   "outputs": [],
   "source": [
    "import pandas as pd"
   ]
  },
  {
   "cell_type": "code",
   "execution_count": 3,
   "id": "f6b5a67f",
   "metadata": {},
   "outputs": [
    {
     "data": {
      "text/plain": [
       "0"
      ]
     },
     "execution_count": 3,
     "metadata": {},
     "output_type": "execute_result"
    }
   ],
   "source": [
    "url_csv_loc = r\"D:\\flipkart reviews\\product_urls\\air conditioner.csv\"\n",
    "df = pd.read_csv(url_csv_loc)\n",
    "df = df[['prod_links','scraped_status']][df['scraped_status']=='not scraped']\n",
    "url_list = list(df['prod_links'])\n",
    "len(url_list)"
   ]
  },
  {
   "cell_type": "code",
   "execution_count": 5,
   "id": "704eb607",
   "metadata": {},
   "outputs": [
    {
     "data": {
      "text/plain": [
       "0"
      ]
     },
     "execution_count": 5,
     "metadata": {},
     "output_type": "execute_result"
    }
   ],
   "source": [
    "url_csv_loc = r\"D:\\flipkart reviews\\product_urls\\laptop.csv\"\n",
    "df = pd.read_csv(url_csv_loc)\n",
    "df = df[['prod_links','scraped_status']][df['scraped_status']=='not scraped']\n",
    "url_list = list(df['prod_links'])\n",
    "len(url_list)"
   ]
  },
  {
   "cell_type": "code",
   "execution_count": 6,
   "id": "1b980956",
   "metadata": {},
   "outputs": [
    {
     "data": {
      "text/plain": [
       "0"
      ]
     },
     "execution_count": 6,
     "metadata": {},
     "output_type": "execute_result"
    }
   ],
   "source": [
    "url_csv_loc = r\"D:\\flipkart reviews\\product_urls\\refrigerator.csv\"\n",
    "df = pd.read_csv(url_csv_loc)\n",
    "df = df[['prod_links','scraped_status']][df['scraped_status']=='not scraped']\n",
    "url_list = list(df['prod_links'])\n",
    "len(url_list)"
   ]
  },
  {
   "cell_type": "code",
   "execution_count": 15,
   "id": "856971c2",
   "metadata": {},
   "outputs": [
    {
     "data": {
      "text/plain": [
       "0"
      ]
     },
     "execution_count": 15,
     "metadata": {},
     "output_type": "execute_result"
    }
   ],
   "source": [
    "url_csv_loc = r\"D:\\flipkart reviews\\product_urls\\television.csv\"\n",
    "df = pd.read_csv(url_csv_loc)\n",
    "df = df[['prod_links','scraped_status']][df['scraped_status']=='not scraped']\n",
    "url_list = list(df['prod_links'])\n",
    "len(url_list)"
   ]
  },
  {
   "cell_type": "code",
   "execution_count": null,
   "id": "be922fa5",
   "metadata": {},
   "outputs": [],
   "source": []
  },
  {
   "cell_type": "code",
   "execution_count": 16,
   "id": "45efd6ca",
   "metadata": {},
   "outputs": [
    {
     "data": {
      "text/plain": [
       "273"
      ]
     },
     "execution_count": 16,
     "metadata": {},
     "output_type": "execute_result"
    }
   ],
   "source": [
    "url_csv_loc = r\"D:\\flipkart reviews\\product_urls\\washing machine.csv\"\n",
    "df = pd.read_csv(url_csv_loc)\n",
    "df = df[['prod_links','scraped_status']][df['scraped_status']=='not scraped']\n",
    "url_list = list(df['prod_links'])\n",
    "len(url_list)"
   ]
  },
  {
   "cell_type": "code",
   "execution_count": 2,
   "id": "27063a02",
   "metadata": {},
   "outputs": [
    {
     "data": {
      "text/plain": [
       "1"
      ]
     },
     "execution_count": 2,
     "metadata": {},
     "output_type": "execute_result"
    }
   ],
   "source": [
    "url_csv_loc = r\"D:\\flipkart reviews\\product_urls\\smartphone.csv\"\n",
    "df = pd.read_csv(url_csv_loc)\n",
    "df = df[['prod_links','scraped_status']][df['scraped_status']=='not scraped']\n",
    "url_list = list(df['prod_links'])\n",
    "len(url_list)"
   ]
  },
  {
   "cell_type": "code",
   "execution_count": 8,
   "id": "28498fb3",
   "metadata": {},
   "outputs": [],
   "source": [
    "link = list(df['prod_links'])[0]"
   ]
  },
  {
   "cell_type": "code",
   "execution_count": 4,
   "id": "7eaf5ebb",
   "metadata": {},
   "outputs": [
    {
     "data": {
      "text/plain": [
       "'https://www.flipkart.com/poco-x4-pro-5g-yellow-128-gb/p/itmb83ad4770deb1?pid=MOBGCGZZUJYWASGY&lid=LSTMOBGCGZZUJYWASGYQOQWSS&marketplace=FLIPKART&q=smartphone&store=tyy%2F4io&srno=s_16_370&otracker=search&fm=organic&iid=66521b80-e9ab-4da3-bf57-097c38b19e0f.MOBGCGZZUJYWASGY.SEARCH&ppt=None&ppn=None&ssid=sczp7msstc0000001673378187746&qH=1036ba3c4ed2c021'"
      ]
     },
     "execution_count": 4,
     "metadata": {},
     "output_type": "execute_result"
    }
   ],
   "source": [
    "link"
   ]
  },
  {
   "cell_type": "code",
   "execution_count": 5,
   "id": "9d2a2ebc",
   "metadata": {},
   "outputs": [],
   "source": [
    "df['scraped_status'][df['prod_links']==link] = 'scraped'"
   ]
  },
  {
   "cell_type": "code",
   "execution_count": 6,
   "id": "0fa20f61",
   "metadata": {},
   "outputs": [],
   "source": [
    "df.to_csv(url_csv_loc,index=False)"
   ]
  },
  {
   "cell_type": "code",
   "execution_count": 2,
   "id": "f37cc501",
   "metadata": {},
   "outputs": [
    {
     "data": {
      "text/plain": [
       "199"
      ]
     },
     "execution_count": 2,
     "metadata": {},
     "output_type": "execute_result"
    }
   ],
   "source": [
    "url_csv_loc = r\"D:\\flipkart reviews\\product_urls\\water purifier.csv\"\n",
    "df = pd.read_csv(url_csv_loc)\n",
    "df = df[['prod_links','scraped_status']][df['scraped_status']=='not scraped']\n",
    "url_list = list(df['prod_links'])\n",
    "len(url_list)"
   ]
  },
  {
   "cell_type": "code",
   "execution_count": 3,
   "id": "46919c60",
   "metadata": {},
   "outputs": [
    {
     "data": {
      "text/plain": [
       "'https://www.flipkart.com/kent-ace-extra-alkaline-8-l-ro-uv-uf-tds-control-tank-water-purifier/p/itm974abf3626343?pid=WAPFU3S8F3GAQATQ&lid=LSTWAPFU3S8F3GAQATQTHIJJJ&marketplace=FLIPKART&q=water+purifier&store=j9e%2Fabm%2Fi45&srno=s_3_67&otracker=search&fm=organic&iid=en_yJs5t9vwewEvjA3pfHWxK8PXMSF6tQwyao0L9ot%2B3xkjk7t66ze9hpBxfY30pq%2FcvgEJiuolZBWZNhSgcoezXA%3D%3D&ppt=None&ppn=None&ssid=t6uwnlf3io0000001673376736069&qH=57f97975143685a0'"
      ]
     },
     "execution_count": 3,
     "metadata": {},
     "output_type": "execute_result"
    }
   ],
   "source": [
    "link = list(df['prod_links'])[0]\n",
    "link"
   ]
  },
  {
   "cell_type": "code",
   "execution_count": 4,
   "id": "dd750d99",
   "metadata": {},
   "outputs": [],
   "source": [
    "df['scraped_status'][df['prod_links']==link] = 'scraped'"
   ]
  },
  {
   "cell_type": "code",
   "execution_count": 5,
   "id": "a580af49",
   "metadata": {},
   "outputs": [],
   "source": [
    "df.to_csv(url_csv_loc,index=False)"
   ]
  },
  {
   "cell_type": "code",
   "execution_count": null,
   "id": "817f82cb",
   "metadata": {},
   "outputs": [],
   "source": []
  },
  {
   "cell_type": "code",
   "execution_count": 32,
   "id": "22ddadc4",
   "metadata": {
    "scrolled": true
   },
   "outputs": [
    {
     "data": {
      "text/html": [
       "<div>\n",
       "<style scoped>\n",
       "    .dataframe tbody tr th:only-of-type {\n",
       "        vertical-align: middle;\n",
       "    }\n",
       "\n",
       "    .dataframe tbody tr th {\n",
       "        vertical-align: top;\n",
       "    }\n",
       "\n",
       "    .dataframe thead th {\n",
       "        text-align: right;\n",
       "    }\n",
       "</style>\n",
       "<table border=\"1\" class=\"dataframe\">\n",
       "  <thead>\n",
       "    <tr style=\"text-align: right;\">\n",
       "      <th></th>\n",
       "      <th>prod_id</th>\n",
       "      <th>product_name</th>\n",
       "      <th>brand_name</th>\n",
       "      <th>category</th>\n",
       "      <th>price</th>\n",
       "      <th>sold</th>\n",
       "      <th>prod_url</th>\n",
       "      <th>customer_name</th>\n",
       "      <th>purchase_date</th>\n",
       "      <th>customers_city</th>\n",
       "      <th>rating</th>\n",
       "      <th>comment_head</th>\n",
       "      <th>comment</th>\n",
       "    </tr>\n",
       "  </thead>\n",
       "  <tbody>\n",
       "    <tr>\n",
       "      <th>0</th>\n",
       "      <td>lapto6288</td>\n",
       "      <td>acer Aspire 3 Core i5 11th Gen - (8 GB/512 GB ...</td>\n",
       "      <td>acer</td>\n",
       "      <td>laptop</td>\n",
       "      <td>44999.0</td>\n",
       "      <td>1.0</td>\n",
       "      <td>https://www.flipkart.com/acer-aspire-3-core-i5...</td>\n",
       "      <td>Flipkart Customer</td>\n",
       "      <td>4 days ago</td>\n",
       "      <td>Karimpur</td>\n",
       "      <td>5.0</td>\n",
       "      <td>Great product</td>\n",
       "      <td>Very good product 🙂🎈🎈🎈🎈🎈</td>\n",
       "    </tr>\n",
       "    <tr>\n",
       "      <th>1</th>\n",
       "      <td>lapto6288</td>\n",
       "      <td>acer Aspire 3 Core i5 11th Gen - (8 GB/512 GB ...</td>\n",
       "      <td>acer</td>\n",
       "      <td>laptop</td>\n",
       "      <td>44999.0</td>\n",
       "      <td>1.0</td>\n",
       "      <td>https://www.flipkart.com/acer-aspire-3-core-i5...</td>\n",
       "      <td>Flipkart Customer</td>\n",
       "      <td>4 days ago</td>\n",
       "      <td>Ranchi</td>\n",
       "      <td>4.0</td>\n",
       "      <td>Really Nice</td>\n",
       "      <td>nice</td>\n",
       "    </tr>\n",
       "    <tr>\n",
       "      <th>2</th>\n",
       "      <td>lapto6288</td>\n",
       "      <td>acer Aspire 3 Core i5 11th Gen - (8 GB/512 GB ...</td>\n",
       "      <td>acer</td>\n",
       "      <td>laptop</td>\n",
       "      <td>44999.0</td>\n",
       "      <td>1.0</td>\n",
       "      <td>https://www.flipkart.com/acer-aspire-3-core-i5...</td>\n",
       "      <td>Dhiraj Jaiswal</td>\n",
       "      <td>5 days ago</td>\n",
       "      <td>Sidhi</td>\n",
       "      <td>3.0</td>\n",
       "      <td>Does the job</td>\n",
       "      <td>Good</td>\n",
       "    </tr>\n",
       "    <tr>\n",
       "      <th>3</th>\n",
       "      <td>lapto6288</td>\n",
       "      <td>acer Aspire 3 Core i5 11th Gen - (8 GB/512 GB ...</td>\n",
       "      <td>acer</td>\n",
       "      <td>laptop</td>\n",
       "      <td>44999.0</td>\n",
       "      <td>1.0</td>\n",
       "      <td>https://www.flipkart.com/acer-aspire-3-core-i5...</td>\n",
       "      <td>Vasamsetti Durgayya</td>\n",
       "      <td>11 days ago</td>\n",
       "      <td>Hyderabad</td>\n",
       "      <td>5.0</td>\n",
       "      <td>Best in the market!</td>\n",
       "      <td>Good product at this price.i am very happy.per...</td>\n",
       "    </tr>\n",
       "    <tr>\n",
       "      <th>4</th>\n",
       "      <td>lapto6288</td>\n",
       "      <td>acer Aspire 3 Core i5 11th Gen - (8 GB/512 GB ...</td>\n",
       "      <td>acer</td>\n",
       "      <td>laptop</td>\n",
       "      <td>44999.0</td>\n",
       "      <td>1.0</td>\n",
       "      <td>https://www.flipkart.com/acer-aspire-3-core-i5...</td>\n",
       "      <td>Flipkart Customer</td>\n",
       "      <td>14 days ago</td>\n",
       "      <td>Bengaluru</td>\n",
       "      <td>1.0</td>\n",
       "      <td>Did not meet expectations</td>\n",
       "      <td>Worst laptop don't buy this laptop</td>\n",
       "    </tr>\n",
       "  </tbody>\n",
       "</table>\n",
       "</div>"
      ],
      "text/plain": [
       "     prod_id                                       product_name brand_name  \\\n",
       "0  lapto6288  acer Aspire 3 Core i5 11th Gen - (8 GB/512 GB ...       acer   \n",
       "1  lapto6288  acer Aspire 3 Core i5 11th Gen - (8 GB/512 GB ...       acer   \n",
       "2  lapto6288  acer Aspire 3 Core i5 11th Gen - (8 GB/512 GB ...       acer   \n",
       "3  lapto6288  acer Aspire 3 Core i5 11th Gen - (8 GB/512 GB ...       acer   \n",
       "4  lapto6288  acer Aspire 3 Core i5 11th Gen - (8 GB/512 GB ...       acer   \n",
       "\n",
       "  category    price  sold                                           prod_url  \\\n",
       "0   laptop  44999.0   1.0  https://www.flipkart.com/acer-aspire-3-core-i5...   \n",
       "1   laptop  44999.0   1.0  https://www.flipkart.com/acer-aspire-3-core-i5...   \n",
       "2   laptop  44999.0   1.0  https://www.flipkart.com/acer-aspire-3-core-i5...   \n",
       "3   laptop  44999.0   1.0  https://www.flipkart.com/acer-aspire-3-core-i5...   \n",
       "4   laptop  44999.0   1.0  https://www.flipkart.com/acer-aspire-3-core-i5...   \n",
       "\n",
       "         customer_name purchase_date customers_city  rating  \\\n",
       "0    Flipkart Customer    4 days ago       Karimpur     5.0   \n",
       "1    Flipkart Customer    4 days ago         Ranchi     4.0   \n",
       "2       Dhiraj Jaiswal    5 days ago          Sidhi     3.0   \n",
       "3  Vasamsetti Durgayya   11 days ago      Hyderabad     5.0   \n",
       "4    Flipkart Customer   14 days ago      Bengaluru     1.0   \n",
       "\n",
       "                comment_head  \\\n",
       "0              Great product   \n",
       "1                Really Nice   \n",
       "2               Does the job   \n",
       "3        Best in the market!   \n",
       "4  Did not meet expectations   \n",
       "\n",
       "                                             comment  \n",
       "0                           Very good product 🙂🎈🎈🎈🎈🎈  \n",
       "1                                               nice  \n",
       "2                                               Good  \n",
       "3  Good product at this price.i am very happy.per...  \n",
       "4                 Worst laptop don't buy this laptop  "
      ]
     },
     "execution_count": 32,
     "metadata": {},
     "output_type": "execute_result"
    }
   ],
   "source": [
    "df = pd.read_csv(r\"D:\\flipkart reviews\\all csv combine\\raw_reviews.csv\")\n",
    "df.head()"
   ]
  },
  {
   "cell_type": "code",
   "execution_count": 35,
   "id": "30e17750",
   "metadata": {},
   "outputs": [
    {
     "data": {
      "text/plain": [
       "'acer Aspire 3 Core i5 11th Gen '"
      ]
     },
     "execution_count": 35,
     "metadata": {},
     "output_type": "execute_result"
    }
   ],
   "source": [
    "df['product_name'][0][0:31]"
   ]
  },
  {
   "cell_type": "code",
   "execution_count": null,
   "id": "c7aff34b",
   "metadata": {},
   "outputs": [],
   "source": []
  },
  {
   "cell_type": "code",
   "execution_count": null,
   "id": "1d92c8de",
   "metadata": {},
   "outputs": [],
   "source": []
  },
  {
   "cell_type": "code",
   "execution_count": null,
   "id": "1b249f94",
   "metadata": {},
   "outputs": [],
   "source": []
  },
  {
   "cell_type": "code",
   "execution_count": null,
   "id": "b0b5c6b2",
   "metadata": {},
   "outputs": [],
   "source": []
  },
  {
   "cell_type": "code",
   "execution_count": null,
   "id": "19fb96d0",
   "metadata": {},
   "outputs": [],
   "source": []
  },
  {
   "cell_type": "code",
   "execution_count": null,
   "id": "99e5f573",
   "metadata": {},
   "outputs": [],
   "source": []
  },
  {
   "cell_type": "code",
   "execution_count": null,
   "id": "1f9d3368",
   "metadata": {},
   "outputs": [],
   "source": []
  },
  {
   "cell_type": "code",
   "execution_count": null,
   "id": "9cb26b7e",
   "metadata": {},
   "outputs": [],
   "source": []
  },
  {
   "cell_type": "code",
   "execution_count": null,
   "id": "17df05b2",
   "metadata": {},
   "outputs": [],
   "source": []
  },
  {
   "cell_type": "code",
   "execution_count": null,
   "id": "bb5f2f7d",
   "metadata": {},
   "outputs": [],
   "source": []
  },
  {
   "cell_type": "code",
   "execution_count": null,
   "id": "5d1a39d3",
   "metadata": {},
   "outputs": [],
   "source": []
  },
  {
   "cell_type": "code",
   "execution_count": null,
   "id": "e919c87f",
   "metadata": {},
   "outputs": [],
   "source": []
  },
  {
   "cell_type": "code",
   "execution_count": null,
   "id": "254f04d6",
   "metadata": {},
   "outputs": [],
   "source": []
  },
  {
   "cell_type": "code",
   "execution_count": null,
   "id": "f706bcc1",
   "metadata": {},
   "outputs": [],
   "source": []
  },
  {
   "cell_type": "markdown",
   "id": "5edb83df",
   "metadata": {},
   "source": [
    "# https://geokeo.com/"
   ]
  },
  {
   "cell_type": "code",
   "execution_count": 1,
   "id": "b0694d23",
   "metadata": {},
   "outputs": [],
   "source": [
    "import requests"
   ]
  },
  {
   "cell_type": "code",
   "execution_count": 34,
   "id": "4133007e",
   "metadata": {},
   "outputs": [
    {
     "name": "stdout",
     "output_type": "stream",
     "text": [
      "17.27502921741798 81.8964011244954\n"
     ]
    }
   ],
   "source": [
    "import requests\n",
    "\n",
    "url = 'https://geokeo.com/geocode/v1/search.php?q=East Godavari District&api=ca860c37d0eb65b9a0d288575d508871'\n",
    "\n",
    "\n",
    "resp = requests.get(url=url)\n",
    "data = resp.json()\n",
    "if 'status' in data:\n",
    "    if data['status']=='ok':\n",
    "        #address=data['results'][0]['formatted_address']\n",
    "        latitude=data['results'][0]['geometry']['location']['lat']\n",
    "        longitude=data['results'][0]['geometry']['location']['lng']\n",
    "        #do something with the data\n",
    "        \n",
    "        print(f\"{latitude} {longitude}\")"
   ]
  },
  {
   "cell_type": "code",
   "execution_count": 21,
   "id": "6795f0c6",
   "metadata": {},
   "outputs": [],
   "source": [
    "df = pd.read_csv(r\"D:\\fri\\CANDY 258 L Frost Free Double Door 2 Star Convertible Refrigerator .csv\")"
   ]
  },
  {
   "cell_type": "code",
   "execution_count": 22,
   "id": "85a76e41",
   "metadata": {},
   "outputs": [],
   "source": [
    "df = df.iloc[0:5 , 8:9]"
   ]
  },
  {
   "cell_type": "code",
   "execution_count": 23,
   "id": "3bfa6ccb",
   "metadata": {
    "scrolled": true
   },
   "outputs": [
    {
     "data": {
      "text/html": [
       "<div>\n",
       "<style scoped>\n",
       "    .dataframe tbody tr th:only-of-type {\n",
       "        vertical-align: middle;\n",
       "    }\n",
       "\n",
       "    .dataframe tbody tr th {\n",
       "        vertical-align: top;\n",
       "    }\n",
       "\n",
       "    .dataframe thead th {\n",
       "        text-align: right;\n",
       "    }\n",
       "</style>\n",
       "<table border=\"1\" class=\"dataframe\">\n",
       "  <thead>\n",
       "    <tr style=\"text-align: right;\">\n",
       "      <th></th>\n",
       "      <th>customers_city</th>\n",
       "    </tr>\n",
       "  </thead>\n",
       "  <tbody>\n",
       "    <tr>\n",
       "      <th>0</th>\n",
       "      <td>Gulbarga</td>\n",
       "    </tr>\n",
       "    <tr>\n",
       "      <th>1</th>\n",
       "      <td>Bhopal</td>\n",
       "    </tr>\n",
       "    <tr>\n",
       "      <th>2</th>\n",
       "      <td>Peddapalle</td>\n",
       "    </tr>\n",
       "    <tr>\n",
       "      <th>3</th>\n",
       "      <td>East Godavari District</td>\n",
       "    </tr>\n",
       "    <tr>\n",
       "      <th>4</th>\n",
       "      <td>Vissannapet</td>\n",
       "    </tr>\n",
       "  </tbody>\n",
       "</table>\n",
       "</div>"
      ],
      "text/plain": [
       "           customers_city\n",
       "0                Gulbarga\n",
       "1                  Bhopal\n",
       "2              Peddapalle\n",
       "3  East Godavari District\n",
       "4             Vissannapet"
      ]
     },
     "execution_count": 23,
     "metadata": {},
     "output_type": "execute_result"
    }
   ],
   "source": [
    "df.head(10)"
   ]
  },
  {
   "cell_type": "code",
   "execution_count": 26,
   "id": "75f8e7f3",
   "metadata": {},
   "outputs": [],
   "source": [
    "df['lat']=0\n",
    "df['lng']=0"
   ]
  },
  {
   "cell_type": "code",
   "execution_count": 27,
   "id": "ac1bb875",
   "metadata": {},
   "outputs": [
    {
     "data": {
      "text/html": [
       "<div>\n",
       "<style scoped>\n",
       "    .dataframe tbody tr th:only-of-type {\n",
       "        vertical-align: middle;\n",
       "    }\n",
       "\n",
       "    .dataframe tbody tr th {\n",
       "        vertical-align: top;\n",
       "    }\n",
       "\n",
       "    .dataframe thead th {\n",
       "        text-align: right;\n",
       "    }\n",
       "</style>\n",
       "<table border=\"1\" class=\"dataframe\">\n",
       "  <thead>\n",
       "    <tr style=\"text-align: right;\">\n",
       "      <th></th>\n",
       "      <th>customers_city</th>\n",
       "      <th>lat</th>\n",
       "      <th>lng</th>\n",
       "    </tr>\n",
       "  </thead>\n",
       "  <tbody>\n",
       "    <tr>\n",
       "      <th>0</th>\n",
       "      <td>Gulbarga</td>\n",
       "      <td>0</td>\n",
       "      <td>0</td>\n",
       "    </tr>\n",
       "    <tr>\n",
       "      <th>1</th>\n",
       "      <td>Bhopal</td>\n",
       "      <td>0</td>\n",
       "      <td>0</td>\n",
       "    </tr>\n",
       "    <tr>\n",
       "      <th>2</th>\n",
       "      <td>Peddapalle</td>\n",
       "      <td>0</td>\n",
       "      <td>0</td>\n",
       "    </tr>\n",
       "    <tr>\n",
       "      <th>3</th>\n",
       "      <td>East Godavari District</td>\n",
       "      <td>0</td>\n",
       "      <td>0</td>\n",
       "    </tr>\n",
       "    <tr>\n",
       "      <th>4</th>\n",
       "      <td>Vissannapet</td>\n",
       "      <td>0</td>\n",
       "      <td>0</td>\n",
       "    </tr>\n",
       "  </tbody>\n",
       "</table>\n",
       "</div>"
      ],
      "text/plain": [
       "           customers_city  lat  lng\n",
       "0                Gulbarga    0    0\n",
       "1                  Bhopal    0    0\n",
       "2              Peddapalle    0    0\n",
       "3  East Godavari District    0    0\n",
       "4             Vissannapet    0    0"
      ]
     },
     "execution_count": 27,
     "metadata": {},
     "output_type": "execute_result"
    }
   ],
   "source": [
    "df.head()"
   ]
  },
  {
   "cell_type": "code",
   "execution_count": 6,
   "id": "2eaffc82",
   "metadata": {},
   "outputs": [],
   "source": [
    "def find_coordinates(customers_city):\n",
    "    url = f'https://geokeo.com/geocode/v1/search.php?q={customers_city}&api=ca860c37d0eb65b9a0d288575d508871'\n",
    "    resp = requests.get(url=url)\n",
    "    data = resp.json()\n",
    "    if 'status' in data:\n",
    "        if data['status']=='ok':\n",
    "            #address=data['results'][0]['formatted_address']\n",
    "            latitude=data['results'][0]['geometry']['location']['lat']\n",
    "            longitude=data['results'][0]['geometry']['location']['lng']    \n",
    "            return f\"{latitude}-{longitude}\""
   ]
  },
  {
   "cell_type": "code",
   "execution_count": 7,
   "id": "b1083749",
   "metadata": {},
   "outputs": [
    {
     "data": {
      "text/plain": [
       "'19.075989900319694-72.8773928'"
      ]
     },
     "execution_count": 7,
     "metadata": {},
     "output_type": "execute_result"
    }
   ],
   "source": [
    "find_coordinates('mumbai,india')"
   ]
  },
  {
   "cell_type": "code",
   "execution_count": 39,
   "id": "c656ec38",
   "metadata": {},
   "outputs": [],
   "source": [
    "df['lat-lng'] = df['customers_city'].map(find_coordinates)"
   ]
  },
  {
   "cell_type": "code",
   "execution_count": 40,
   "id": "65ab01de",
   "metadata": {},
   "outputs": [
    {
     "data": {
      "text/html": [
       "<div>\n",
       "<style scoped>\n",
       "    .dataframe tbody tr th:only-of-type {\n",
       "        vertical-align: middle;\n",
       "    }\n",
       "\n",
       "    .dataframe tbody tr th {\n",
       "        vertical-align: top;\n",
       "    }\n",
       "\n",
       "    .dataframe thead th {\n",
       "        text-align: right;\n",
       "    }\n",
       "</style>\n",
       "<table border=\"1\" class=\"dataframe\">\n",
       "  <thead>\n",
       "    <tr style=\"text-align: right;\">\n",
       "      <th></th>\n",
       "      <th>customers_city</th>\n",
       "      <th>lat</th>\n",
       "      <th>lng</th>\n",
       "      <th>lat-lng</th>\n",
       "    </tr>\n",
       "  </thead>\n",
       "  <tbody>\n",
       "    <tr>\n",
       "      <th>0</th>\n",
       "      <td>Gulbarga</td>\n",
       "      <td>0</td>\n",
       "      <td>0</td>\n",
       "      <td>17.33100030016967-76.83342279999998</td>\n",
       "    </tr>\n",
       "    <tr>\n",
       "      <th>1</th>\n",
       "      <td>Bhopal</td>\n",
       "      <td>0</td>\n",
       "      <td>0</td>\n",
       "      <td>23.258485700373274-77.401989</td>\n",
       "    </tr>\n",
       "    <tr>\n",
       "      <th>2</th>\n",
       "      <td>Peddapalle</td>\n",
       "      <td>0</td>\n",
       "      <td>0</td>\n",
       "      <td>18.612709000285697-79.37956639999999</td>\n",
       "    </tr>\n",
       "    <tr>\n",
       "      <th>3</th>\n",
       "      <td>East Godavari District</td>\n",
       "      <td>0</td>\n",
       "      <td>0</td>\n",
       "      <td>17.27502921741798-81.8964011244954</td>\n",
       "    </tr>\n",
       "    <tr>\n",
       "      <th>4</th>\n",
       "      <td>Vissannapet</td>\n",
       "      <td>0</td>\n",
       "      <td>0</td>\n",
       "      <td>17.04242735357501-80.80751578073948</td>\n",
       "    </tr>\n",
       "  </tbody>\n",
       "</table>\n",
       "</div>"
      ],
      "text/plain": [
       "           customers_city  lat  lng                               lat-lng\n",
       "0                Gulbarga    0    0   17.33100030016967-76.83342279999998\n",
       "1                  Bhopal    0    0          23.258485700373274-77.401989\n",
       "2              Peddapalle    0    0  18.612709000285697-79.37956639999999\n",
       "3  East Godavari District    0    0    17.27502921741798-81.8964011244954\n",
       "4             Vissannapet    0    0   17.04242735357501-80.80751578073948"
      ]
     },
     "execution_count": 40,
     "metadata": {},
     "output_type": "execute_result"
    }
   ],
   "source": [
    "df.head()"
   ]
  },
  {
   "cell_type": "code",
   "execution_count": 75,
   "id": "0d41f605",
   "metadata": {},
   "outputs": [
    {
     "data": {
      "text/html": [
       "<div>\n",
       "<style scoped>\n",
       "    .dataframe tbody tr th:only-of-type {\n",
       "        vertical-align: middle;\n",
       "    }\n",
       "\n",
       "    .dataframe tbody tr th {\n",
       "        vertical-align: top;\n",
       "    }\n",
       "\n",
       "    .dataframe thead th {\n",
       "        text-align: right;\n",
       "    }\n",
       "</style>\n",
       "<table border=\"1\" class=\"dataframe\">\n",
       "  <thead>\n",
       "    <tr style=\"text-align: right;\">\n",
       "      <th></th>\n",
       "      <th>prod_links</th>\n",
       "      <th>scraped_status</th>\n",
       "    </tr>\n",
       "  </thead>\n",
       "  <tbody>\n",
       "    <tr>\n",
       "      <th>0</th>\n",
       "      <td>https://www.flipkart.com/haier-1-4-ton-3-star-...</td>\n",
       "      <td>not scraped</td>\n",
       "    </tr>\n",
       "    <tr>\n",
       "      <th>1</th>\n",
       "      <td>https://www.flipkart.com/lg-1-5-ton-5-star-spl...</td>\n",
       "      <td>not scraped</td>\n",
       "    </tr>\n",
       "    <tr>\n",
       "      <th>2</th>\n",
       "      <td>https://www.flipkart.com/daikin-1-5-ton-5-star...</td>\n",
       "      <td>not scraped</td>\n",
       "    </tr>\n",
       "    <tr>\n",
       "      <th>3</th>\n",
       "      <td>https://www.flipkart.com/whirlpool-1-5-ton-3-s...</td>\n",
       "      <td>not scraped</td>\n",
       "    </tr>\n",
       "    <tr>\n",
       "      <th>4</th>\n",
       "      <td>https://www.flipkart.com/blue-star-1-5-ton-5-s...</td>\n",
       "      <td>not scraped</td>\n",
       "    </tr>\n",
       "  </tbody>\n",
       "</table>\n",
       "</div>"
      ],
      "text/plain": [
       "                                          prod_links scraped_status\n",
       "0  https://www.flipkart.com/haier-1-4-ton-3-star-...    not scraped\n",
       "1  https://www.flipkart.com/lg-1-5-ton-5-star-spl...    not scraped\n",
       "2  https://www.flipkart.com/daikin-1-5-ton-5-star...    not scraped\n",
       "3  https://www.flipkart.com/whirlpool-1-5-ton-3-s...    not scraped\n",
       "4  https://www.flipkart.com/blue-star-1-5-ton-5-s...    not scraped"
      ]
     },
     "execution_count": 75,
     "metadata": {},
     "output_type": "execute_result"
    }
   ],
   "source": [
    "df = pd.read_csv(r\"D:\\flipkart reviews\\product_urls\\air conditioner.csv\")\n",
    "df.head()"
   ]
  },
  {
   "cell_type": "code",
   "execution_count": 76,
   "id": "0c40f0e3",
   "metadata": {},
   "outputs": [],
   "source": [
    "df['scraped_status']= 'scraped'"
   ]
  },
  {
   "cell_type": "code",
   "execution_count": 77,
   "id": "a1a890b4",
   "metadata": {},
   "outputs": [
    {
     "data": {
      "text/html": [
       "<div>\n",
       "<style scoped>\n",
       "    .dataframe tbody tr th:only-of-type {\n",
       "        vertical-align: middle;\n",
       "    }\n",
       "\n",
       "    .dataframe tbody tr th {\n",
       "        vertical-align: top;\n",
       "    }\n",
       "\n",
       "    .dataframe thead th {\n",
       "        text-align: right;\n",
       "    }\n",
       "</style>\n",
       "<table border=\"1\" class=\"dataframe\">\n",
       "  <thead>\n",
       "    <tr style=\"text-align: right;\">\n",
       "      <th></th>\n",
       "      <th>prod_links</th>\n",
       "      <th>scraped_status</th>\n",
       "    </tr>\n",
       "  </thead>\n",
       "  <tbody>\n",
       "    <tr>\n",
       "      <th>0</th>\n",
       "      <td>https://www.flipkart.com/haier-1-4-ton-3-star-...</td>\n",
       "      <td>scraped</td>\n",
       "    </tr>\n",
       "    <tr>\n",
       "      <th>1</th>\n",
       "      <td>https://www.flipkart.com/lg-1-5-ton-5-star-spl...</td>\n",
       "      <td>scraped</td>\n",
       "    </tr>\n",
       "    <tr>\n",
       "      <th>2</th>\n",
       "      <td>https://www.flipkart.com/daikin-1-5-ton-5-star...</td>\n",
       "      <td>scraped</td>\n",
       "    </tr>\n",
       "    <tr>\n",
       "      <th>3</th>\n",
       "      <td>https://www.flipkart.com/whirlpool-1-5-ton-3-s...</td>\n",
       "      <td>scraped</td>\n",
       "    </tr>\n",
       "    <tr>\n",
       "      <th>4</th>\n",
       "      <td>https://www.flipkart.com/blue-star-1-5-ton-5-s...</td>\n",
       "      <td>scraped</td>\n",
       "    </tr>\n",
       "  </tbody>\n",
       "</table>\n",
       "</div>"
      ],
      "text/plain": [
       "                                          prod_links scraped_status\n",
       "0  https://www.flipkart.com/haier-1-4-ton-3-star-...        scraped\n",
       "1  https://www.flipkart.com/lg-1-5-ton-5-star-spl...        scraped\n",
       "2  https://www.flipkart.com/daikin-1-5-ton-5-star...        scraped\n",
       "3  https://www.flipkart.com/whirlpool-1-5-ton-3-s...        scraped\n",
       "4  https://www.flipkart.com/blue-star-1-5-ton-5-s...        scraped"
      ]
     },
     "execution_count": 77,
     "metadata": {},
     "output_type": "execute_result"
    }
   ],
   "source": [
    "df.head()"
   ]
  },
  {
   "cell_type": "code",
   "execution_count": 78,
   "id": "7d9c9b3c",
   "metadata": {},
   "outputs": [],
   "source": [
    "df.to_csv(r\"D:\\flipkart reviews\\product_urls\\air conditioner.csv\" , index=False)"
   ]
  },
  {
   "cell_type": "code",
   "execution_count": null,
   "id": "770048ed",
   "metadata": {},
   "outputs": [],
   "source": []
  },
  {
   "cell_type": "code",
   "execution_count": null,
   "id": "5a7f9782",
   "metadata": {},
   "outputs": [],
   "source": []
  },
  {
   "cell_type": "code",
   "execution_count": 1,
   "id": "7cf30de4",
   "metadata": {},
   "outputs": [],
   "source": [
    "import pandas as pd"
   ]
  },
  {
   "cell_type": "code",
   "execution_count": 22,
   "id": "33649099",
   "metadata": {},
   "outputs": [],
   "source": [
    "url_csv_loc = r\"D:\\flipkart reviews\\product_urls\\television.csv\"\n",
    "link = \"https://www.flipkart.com/mi-5a-80-cm-32-inch-hd-ready-led-smart-android-tv-dolby-audio-2022-model/p/itm98501ffa297ba?pid=TVSGD5CS2SDUUZGN&lid=LSTTVSGD5CS2SDUUZGNWGZUUA&marketplace=FLIPKART&q=television&store=ckf%2Fczl&srno=s_2_28&otracker=search&fm=organic&iid=en_mAM4fy%2F8L64QdDnLmlCjt36LnEKjEo7bdsZf5lreEmZZglPBhdxwp7VP%2FomBqA6k9RNWXCl0m%2FxlaoRAfjh16Q%3D%3D&ppt=None&ppn=None&ssid=zh4lecwlhc0000001673377574958&qH=79464212afb7fd6c\""
   ]
  },
  {
   "cell_type": "code",
   "execution_count": 23,
   "id": "38545b14",
   "metadata": {},
   "outputs": [
    {
     "data": {
      "text/plain": [
       "401"
      ]
     },
     "execution_count": 23,
     "metadata": {},
     "output_type": "execute_result"
    }
   ],
   "source": [
    "df = pd.read_csv(url_csv_loc)\n",
    "len(df)"
   ]
  },
  {
   "cell_type": "code",
   "execution_count": 24,
   "id": "2c9216d5",
   "metadata": {},
   "outputs": [],
   "source": [
    "string_to_drop = \"mi-5a-80-cm-32-inch\"\n",
    "condition = df['prod_links'].str.contains(string_to_drop)\n",
    "\n",
    "# Drop the rows where the condition is True\n",
    "df.drop(df[condition].index , inplace=True)"
   ]
  },
  {
   "cell_type": "code",
   "execution_count": 25,
   "id": "38b7d017",
   "metadata": {},
   "outputs": [
    {
     "data": {
      "text/plain": [
       "382"
      ]
     },
     "execution_count": 25,
     "metadata": {},
     "output_type": "execute_result"
    }
   ],
   "source": [
    "len(df)"
   ]
  },
  {
   "cell_type": "code",
   "execution_count": 26,
   "id": "7866ae2b",
   "metadata": {},
   "outputs": [],
   "source": [
    "df.to_csv(url_csv_loc, index=False)"
   ]
  },
  {
   "cell_type": "code",
   "execution_count": 27,
   "id": "e6f52200",
   "metadata": {},
   "outputs": [
    {
     "data": {
      "text/html": [
       "<div>\n",
       "<style scoped>\n",
       "    .dataframe tbody tr th:only-of-type {\n",
       "        vertical-align: middle;\n",
       "    }\n",
       "\n",
       "    .dataframe tbody tr th {\n",
       "        vertical-align: top;\n",
       "    }\n",
       "\n",
       "    .dataframe thead th {\n",
       "        text-align: right;\n",
       "    }\n",
       "</style>\n",
       "<table border=\"1\" class=\"dataframe\">\n",
       "  <thead>\n",
       "    <tr style=\"text-align: right;\">\n",
       "      <th></th>\n",
       "      <th>prod_links</th>\n",
       "      <th>scraped_status</th>\n",
       "    </tr>\n",
       "  </thead>\n",
       "  <tbody>\n",
       "    <tr>\n",
       "      <th>1</th>\n",
       "      <td>https://www.flipkart.com/lg-uq7500-139-cm-55-i...</td>\n",
       "      <td>scraped</td>\n",
       "    </tr>\n",
       "    <tr>\n",
       "      <th>2</th>\n",
       "      <td>https://www.flipkart.com/skytron-140-cm-55-inc...</td>\n",
       "      <td>scraped</td>\n",
       "    </tr>\n",
       "    <tr>\n",
       "      <th>3</th>\n",
       "      <td>https://www.flipkart.com/samsung-crystal-4k-12...</td>\n",
       "      <td>scraped</td>\n",
       "    </tr>\n",
       "    <tr>\n",
       "      <th>4</th>\n",
       "      <td>https://www.flipkart.com/sony-164-cm-65-inch-u...</td>\n",
       "      <td>scraped</td>\n",
       "    </tr>\n",
       "    <tr>\n",
       "      <th>5</th>\n",
       "      <td>https://www.flipkart.com/samsung-crystal-4k-13...</td>\n",
       "      <td>scraped</td>\n",
       "    </tr>\n",
       "  </tbody>\n",
       "</table>\n",
       "</div>"
      ],
      "text/plain": [
       "                                          prod_links scraped_status\n",
       "1  https://www.flipkart.com/lg-uq7500-139-cm-55-i...        scraped\n",
       "2  https://www.flipkart.com/skytron-140-cm-55-inc...        scraped\n",
       "3  https://www.flipkart.com/samsung-crystal-4k-12...        scraped\n",
       "4  https://www.flipkart.com/sony-164-cm-65-inch-u...        scraped\n",
       "5  https://www.flipkart.com/samsung-crystal-4k-13...        scraped"
      ]
     },
     "execution_count": 27,
     "metadata": {},
     "output_type": "execute_result"
    }
   ],
   "source": [
    "df.head()"
   ]
  },
  {
   "cell_type": "code",
   "execution_count": null,
   "id": "9615257a",
   "metadata": {},
   "outputs": [],
   "source": []
  }
 ],
 "metadata": {
  "kernelspec": {
   "display_name": "Python 3 (ipykernel)",
   "language": "python",
   "name": "python3"
  },
  "language_info": {
   "codemirror_mode": {
    "name": "ipython",
    "version": 3
   },
   "file_extension": ".py",
   "mimetype": "text/x-python",
   "name": "python",
   "nbconvert_exporter": "python",
   "pygments_lexer": "ipython3",
   "version": "3.9.7"
  }
 },
 "nbformat": 4,
 "nbformat_minor": 5
}
