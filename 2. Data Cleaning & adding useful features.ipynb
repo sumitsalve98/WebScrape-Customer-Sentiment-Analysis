{
 "cells": [
  {
   "cell_type": "code",
   "execution_count": 1,
   "id": "1cec8d04",
   "metadata": {},
   "outputs": [],
   "source": [
    "import os\n",
    "import pandas as pd\n",
    "import datetime\n",
    "from dateutil import relativedelta\n",
    "import calendar\n",
    "import matplotlib.pyplot as plt\n",
    "import seaborn as sns\n",
    "%matplotlib inline"
   ]
  },
  {
   "cell_type": "markdown",
   "id": "af10f3be",
   "metadata": {},
   "source": [
    "# 1. Reading scraped data"
   ]
  },
  {
   "cell_type": "code",
   "execution_count": 2,
   "id": "415fcdc2",
   "metadata": {},
   "outputs": [],
   "source": [
    "df = pd.read_csv(r\"D:\\flipkart reviews\\all csv combine\\raw_reviews.csv\")"
   ]
  },
  {
   "cell_type": "code",
   "execution_count": 3,
   "id": "dd2cb43d",
   "metadata": {},
   "outputs": [
    {
     "data": {
      "text/html": [
       "<div>\n",
       "<style scoped>\n",
       "    .dataframe tbody tr th:only-of-type {\n",
       "        vertical-align: middle;\n",
       "    }\n",
       "\n",
       "    .dataframe tbody tr th {\n",
       "        vertical-align: top;\n",
       "    }\n",
       "\n",
       "    .dataframe thead th {\n",
       "        text-align: right;\n",
       "    }\n",
       "</style>\n",
       "<table border=\"1\" class=\"dataframe\">\n",
       "  <thead>\n",
       "    <tr style=\"text-align: right;\">\n",
       "      <th></th>\n",
       "      <th>prod_id</th>\n",
       "      <th>product_name</th>\n",
       "      <th>brand_name</th>\n",
       "      <th>category</th>\n",
       "      <th>price</th>\n",
       "      <th>sold</th>\n",
       "      <th>prod_url</th>\n",
       "      <th>customer_name</th>\n",
       "      <th>purchase_date</th>\n",
       "      <th>customers_city</th>\n",
       "      <th>rating</th>\n",
       "      <th>comment_head</th>\n",
       "      <th>comment</th>\n",
       "    </tr>\n",
       "  </thead>\n",
       "  <tbody>\n",
       "    <tr>\n",
       "      <th>0</th>\n",
       "      <td>lapto6288</td>\n",
       "      <td>acer Aspire 3 Core i5 11th Gen - (8 GB/512 GB ...</td>\n",
       "      <td>acer</td>\n",
       "      <td>laptop</td>\n",
       "      <td>44999.0</td>\n",
       "      <td>1.0</td>\n",
       "      <td>https://www.flipkart.com/acer-aspire-3-core-i5...</td>\n",
       "      <td>Flipkart Customer</td>\n",
       "      <td>4 days ago</td>\n",
       "      <td>Karimpur</td>\n",
       "      <td>5.0</td>\n",
       "      <td>Great product</td>\n",
       "      <td>Very good product 🙂🎈🎈🎈🎈🎈</td>\n",
       "    </tr>\n",
       "    <tr>\n",
       "      <th>1</th>\n",
       "      <td>lapto6288</td>\n",
       "      <td>acer Aspire 3 Core i5 11th Gen - (8 GB/512 GB ...</td>\n",
       "      <td>acer</td>\n",
       "      <td>laptop</td>\n",
       "      <td>44999.0</td>\n",
       "      <td>1.0</td>\n",
       "      <td>https://www.flipkart.com/acer-aspire-3-core-i5...</td>\n",
       "      <td>Flipkart Customer</td>\n",
       "      <td>4 days ago</td>\n",
       "      <td>Ranchi</td>\n",
       "      <td>4.0</td>\n",
       "      <td>Really Nice</td>\n",
       "      <td>nice</td>\n",
       "    </tr>\n",
       "    <tr>\n",
       "      <th>2</th>\n",
       "      <td>lapto6288</td>\n",
       "      <td>acer Aspire 3 Core i5 11th Gen - (8 GB/512 GB ...</td>\n",
       "      <td>acer</td>\n",
       "      <td>laptop</td>\n",
       "      <td>44999.0</td>\n",
       "      <td>1.0</td>\n",
       "      <td>https://www.flipkart.com/acer-aspire-3-core-i5...</td>\n",
       "      <td>Dhiraj Jaiswal</td>\n",
       "      <td>5 days ago</td>\n",
       "      <td>Sidhi</td>\n",
       "      <td>3.0</td>\n",
       "      <td>Does the job</td>\n",
       "      <td>Good</td>\n",
       "    </tr>\n",
       "    <tr>\n",
       "      <th>3</th>\n",
       "      <td>lapto6288</td>\n",
       "      <td>acer Aspire 3 Core i5 11th Gen - (8 GB/512 GB ...</td>\n",
       "      <td>acer</td>\n",
       "      <td>laptop</td>\n",
       "      <td>44999.0</td>\n",
       "      <td>1.0</td>\n",
       "      <td>https://www.flipkart.com/acer-aspire-3-core-i5...</td>\n",
       "      <td>Vasamsetti Durgayya</td>\n",
       "      <td>11 days ago</td>\n",
       "      <td>Hyderabad</td>\n",
       "      <td>5.0</td>\n",
       "      <td>Best in the market!</td>\n",
       "      <td>Good product at this price.i am very happy.per...</td>\n",
       "    </tr>\n",
       "    <tr>\n",
       "      <th>4</th>\n",
       "      <td>lapto6288</td>\n",
       "      <td>acer Aspire 3 Core i5 11th Gen - (8 GB/512 GB ...</td>\n",
       "      <td>acer</td>\n",
       "      <td>laptop</td>\n",
       "      <td>44999.0</td>\n",
       "      <td>1.0</td>\n",
       "      <td>https://www.flipkart.com/acer-aspire-3-core-i5...</td>\n",
       "      <td>Flipkart Customer</td>\n",
       "      <td>14 days ago</td>\n",
       "      <td>Bengaluru</td>\n",
       "      <td>1.0</td>\n",
       "      <td>Did not meet expectations</td>\n",
       "      <td>Worst laptop don't buy this laptop</td>\n",
       "    </tr>\n",
       "  </tbody>\n",
       "</table>\n",
       "</div>"
      ],
      "text/plain": [
       "     prod_id                                       product_name brand_name  \\\n",
       "0  lapto6288  acer Aspire 3 Core i5 11th Gen - (8 GB/512 GB ...       acer   \n",
       "1  lapto6288  acer Aspire 3 Core i5 11th Gen - (8 GB/512 GB ...       acer   \n",
       "2  lapto6288  acer Aspire 3 Core i5 11th Gen - (8 GB/512 GB ...       acer   \n",
       "3  lapto6288  acer Aspire 3 Core i5 11th Gen - (8 GB/512 GB ...       acer   \n",
       "4  lapto6288  acer Aspire 3 Core i5 11th Gen - (8 GB/512 GB ...       acer   \n",
       "\n",
       "  category    price  sold                                           prod_url  \\\n",
       "0   laptop  44999.0   1.0  https://www.flipkart.com/acer-aspire-3-core-i5...   \n",
       "1   laptop  44999.0   1.0  https://www.flipkart.com/acer-aspire-3-core-i5...   \n",
       "2   laptop  44999.0   1.0  https://www.flipkart.com/acer-aspire-3-core-i5...   \n",
       "3   laptop  44999.0   1.0  https://www.flipkart.com/acer-aspire-3-core-i5...   \n",
       "4   laptop  44999.0   1.0  https://www.flipkart.com/acer-aspire-3-core-i5...   \n",
       "\n",
       "         customer_name purchase_date customers_city  rating  \\\n",
       "0    Flipkart Customer    4 days ago       Karimpur     5.0   \n",
       "1    Flipkart Customer    4 days ago         Ranchi     4.0   \n",
       "2       Dhiraj Jaiswal    5 days ago          Sidhi     3.0   \n",
       "3  Vasamsetti Durgayya   11 days ago      Hyderabad     5.0   \n",
       "4    Flipkart Customer   14 days ago      Bengaluru     1.0   \n",
       "\n",
       "                comment_head  \\\n",
       "0              Great product   \n",
       "1                Really Nice   \n",
       "2               Does the job   \n",
       "3        Best in the market!   \n",
       "4  Did not meet expectations   \n",
       "\n",
       "                                             comment  \n",
       "0                           Very good product 🙂🎈🎈🎈🎈🎈  \n",
       "1                                               nice  \n",
       "2                                               Good  \n",
       "3  Good product at this price.i am very happy.per...  \n",
       "4                 Worst laptop don't buy this laptop  "
      ]
     },
     "execution_count": 3,
     "metadata": {},
     "output_type": "execute_result"
    }
   ],
   "source": [
    "df.head()"
   ]
  },
  {
   "cell_type": "code",
   "execution_count": 4,
   "id": "ba4cd689",
   "metadata": {},
   "outputs": [
    {
     "data": {
      "text/html": [
       "<div>\n",
       "<style scoped>\n",
       "    .dataframe tbody tr th:only-of-type {\n",
       "        vertical-align: middle;\n",
       "    }\n",
       "\n",
       "    .dataframe tbody tr th {\n",
       "        vertical-align: top;\n",
       "    }\n",
       "\n",
       "    .dataframe thead th {\n",
       "        text-align: right;\n",
       "    }\n",
       "</style>\n",
       "<table border=\"1\" class=\"dataframe\">\n",
       "  <thead>\n",
       "    <tr style=\"text-align: right;\">\n",
       "      <th></th>\n",
       "      <th>prod_id</th>\n",
       "      <th>product_name</th>\n",
       "      <th>brand_name</th>\n",
       "      <th>category</th>\n",
       "      <th>price</th>\n",
       "      <th>sold</th>\n",
       "      <th>prod_url</th>\n",
       "      <th>customer_name</th>\n",
       "      <th>purchase_date</th>\n",
       "      <th>customers_city</th>\n",
       "      <th>rating</th>\n",
       "      <th>comment_head</th>\n",
       "      <th>comment</th>\n",
       "    </tr>\n",
       "  </thead>\n",
       "  <tbody>\n",
       "    <tr>\n",
       "      <th>939338</th>\n",
       "      <td>telev8034</td>\n",
       "      <td>Xiaomi OLED Vision 138.8 cm (55 inches) 4K Ult...</td>\n",
       "      <td>Xiaomi</td>\n",
       "      <td>television</td>\n",
       "      <td>99999.0</td>\n",
       "      <td>1.0</td>\n",
       "      <td>https://www.flipkart.com/xiaomi-oled-vision-13...</td>\n",
       "      <td>P R Gurubramha</td>\n",
       "      <td>3 months ago</td>\n",
       "      <td>Pileru</td>\n",
       "      <td>5.0</td>\n",
       "      <td>Simply awesome</td>\n",
       "      <td>Very Nice TV, I recommend you all this TV. Sim...</td>\n",
       "    </tr>\n",
       "    <tr>\n",
       "      <th>939339</th>\n",
       "      <td>telev8034</td>\n",
       "      <td>Xiaomi OLED Vision 138.8 cm (55 inches) 4K Ult...</td>\n",
       "      <td>Xiaomi</td>\n",
       "      <td>television</td>\n",
       "      <td>99999.0</td>\n",
       "      <td>1.0</td>\n",
       "      <td>https://www.flipkart.com/xiaomi-oled-vision-13...</td>\n",
       "      <td>Dewin Albert</td>\n",
       "      <td>3 months ago</td>\n",
       "      <td>Hosur</td>\n",
       "      <td>5.0</td>\n",
       "      <td>Classy product</td>\n",
       "      <td>Worth a penny, excellent tv, punchy colours. P...</td>\n",
       "    </tr>\n",
       "    <tr>\n",
       "      <th>939340</th>\n",
       "      <td>telev8034</td>\n",
       "      <td>Xiaomi OLED Vision 138.8 cm (55 inches) 4K Ult...</td>\n",
       "      <td>Xiaomi</td>\n",
       "      <td>television</td>\n",
       "      <td>99999.0</td>\n",
       "      <td>1.0</td>\n",
       "      <td>https://www.flipkart.com/xiaomi-oled-vision-13...</td>\n",
       "      <td>Sunil V</td>\n",
       "      <td>6 months ago</td>\n",
       "      <td>Ernakulam</td>\n",
       "      <td>5.0</td>\n",
       "      <td>Awesome</td>\n",
       "      <td>Very satisfied with the product so far.  It's ...</td>\n",
       "    </tr>\n",
       "    <tr>\n",
       "      <th>939341</th>\n",
       "      <td>telev8034</td>\n",
       "      <td>Xiaomi OLED Vision 138.8 cm (55 inches) 4K Ult...</td>\n",
       "      <td>Xiaomi</td>\n",
       "      <td>television</td>\n",
       "      <td>99999.0</td>\n",
       "      <td>1.0</td>\n",
       "      <td>https://www.flipkart.com/xiaomi-oled-vision-13...</td>\n",
       "      <td>hitesh ohri</td>\n",
       "      <td>7 months ago</td>\n",
       "      <td>Hoshiarpur</td>\n",
       "      <td>4.0</td>\n",
       "      <td>Good quality product</td>\n",
       "      <td>Good product</td>\n",
       "    </tr>\n",
       "    <tr>\n",
       "      <th>939342</th>\n",
       "      <td>telev8034</td>\n",
       "      <td>Xiaomi OLED Vision 138.8 cm (55 inches) 4K Ult...</td>\n",
       "      <td>Xiaomi</td>\n",
       "      <td>television</td>\n",
       "      <td>99999.0</td>\n",
       "      <td>1.0</td>\n",
       "      <td>https://www.flipkart.com/xiaomi-oled-vision-13...</td>\n",
       "      <td>Fayeem Shaikh</td>\n",
       "      <td>7 months ago</td>\n",
       "      <td>Pune</td>\n",
       "      <td>5.0</td>\n",
       "      <td>Great product</td>\n",
       "      <td>Good OLED in less price very slim and Super pi...</td>\n",
       "    </tr>\n",
       "  </tbody>\n",
       "</table>\n",
       "</div>"
      ],
      "text/plain": [
       "          prod_id                                       product_name  \\\n",
       "939338  telev8034  Xiaomi OLED Vision 138.8 cm (55 inches) 4K Ult...   \n",
       "939339  telev8034  Xiaomi OLED Vision 138.8 cm (55 inches) 4K Ult...   \n",
       "939340  telev8034  Xiaomi OLED Vision 138.8 cm (55 inches) 4K Ult...   \n",
       "939341  telev8034  Xiaomi OLED Vision 138.8 cm (55 inches) 4K Ult...   \n",
       "939342  telev8034  Xiaomi OLED Vision 138.8 cm (55 inches) 4K Ult...   \n",
       "\n",
       "       brand_name    category    price  sold  \\\n",
       "939338     Xiaomi  television  99999.0   1.0   \n",
       "939339     Xiaomi  television  99999.0   1.0   \n",
       "939340     Xiaomi  television  99999.0   1.0   \n",
       "939341     Xiaomi  television  99999.0   1.0   \n",
       "939342     Xiaomi  television  99999.0   1.0   \n",
       "\n",
       "                                                 prod_url    customer_name  \\\n",
       "939338  https://www.flipkart.com/xiaomi-oled-vision-13...  P R Gurubramha    \n",
       "939339  https://www.flipkart.com/xiaomi-oled-vision-13...     Dewin Albert   \n",
       "939340  https://www.flipkart.com/xiaomi-oled-vision-13...          Sunil V   \n",
       "939341  https://www.flipkart.com/xiaomi-oled-vision-13...      hitesh ohri   \n",
       "939342  https://www.flipkart.com/xiaomi-oled-vision-13...    Fayeem Shaikh   \n",
       "\n",
       "       purchase_date customers_city  rating          comment_head  \\\n",
       "939338  3 months ago         Pileru     5.0        Simply awesome   \n",
       "939339  3 months ago          Hosur     5.0        Classy product   \n",
       "939340  6 months ago      Ernakulam     5.0               Awesome   \n",
       "939341  7 months ago     Hoshiarpur     4.0  Good quality product   \n",
       "939342  7 months ago           Pune     5.0         Great product   \n",
       "\n",
       "                                                  comment  \n",
       "939338  Very Nice TV, I recommend you all this TV. Sim...  \n",
       "939339  Worth a penny, excellent tv, punchy colours. P...  \n",
       "939340  Very satisfied with the product so far.  It's ...  \n",
       "939341                                       Good product  \n",
       "939342  Good OLED in less price very slim and Super pi...  "
      ]
     },
     "execution_count": 4,
     "metadata": {},
     "output_type": "execute_result"
    }
   ],
   "source": [
    "df.tail()"
   ]
  },
  {
   "cell_type": "code",
   "execution_count": 5,
   "id": "15bc60d4",
   "metadata": {},
   "outputs": [
    {
     "data": {
      "text/plain": [
       "array(['laptop', 'television', 'water purifier', 'smartphone',\n",
       "       'air conditioner', nan, 'refrigerator', 'washing machine'],\n",
       "      dtype=object)"
      ]
     },
     "execution_count": 5,
     "metadata": {},
     "output_type": "execute_result"
    }
   ],
   "source": [
    "df['category'].unique()"
   ]
  },
  {
   "cell_type": "code",
   "execution_count": 6,
   "id": "6f47fb90",
   "metadata": {},
   "outputs": [
    {
     "name": "stdout",
     "output_type": "stream",
     "text": [
      "<class 'pandas.core.frame.DataFrame'>\n",
      "RangeIndex: 939343 entries, 0 to 939342\n",
      "Data columns (total 13 columns):\n",
      " #   Column          Non-Null Count   Dtype  \n",
      "---  ------          --------------   -----  \n",
      " 0   prod_id         918343 non-null  object \n",
      " 1   product_name    918343 non-null  object \n",
      " 2   brand_name      918343 non-null  object \n",
      " 3   category        937432 non-null  object \n",
      " 4   price           918343 non-null  float64\n",
      " 5   sold            937432 non-null  float64\n",
      " 6   prod_url        937432 non-null  object \n",
      " 7   customer_name   936666 non-null  object \n",
      " 8   purchase_date   937432 non-null  object \n",
      " 9   customers_city  937432 non-null  object \n",
      " 10  rating          937432 non-null  float64\n",
      " 11  comment_head    937432 non-null  object \n",
      " 12  comment         937179 non-null  object \n",
      "dtypes: float64(3), object(10)\n",
      "memory usage: 93.2+ MB\n"
     ]
    }
   ],
   "source": [
    "df.info()"
   ]
  },
  {
   "cell_type": "code",
   "execution_count": 7,
   "id": "6696017d",
   "metadata": {},
   "outputs": [
    {
     "data": {
      "text/plain": [
       "939343"
      ]
     },
     "execution_count": 7,
     "metadata": {},
     "output_type": "execute_result"
    }
   ],
   "source": [
    "len(df)"
   ]
  },
  {
   "cell_type": "markdown",
   "id": "2d7c7eb6",
   "metadata": {},
   "source": [
    "# 2. Find % of missing values in data"
   ]
  },
  {
   "cell_type": "code",
   "execution_count": 8,
   "id": "42676548",
   "metadata": {
    "scrolled": true
   },
   "outputs": [
    {
     "data": {
      "text/plain": [
       "prod_id           21000\n",
       "product_name      21000\n",
       "brand_name        21000\n",
       "category           1911\n",
       "price             21000\n",
       "sold               1911\n",
       "prod_url           1911\n",
       "customer_name      2677\n",
       "purchase_date      1911\n",
       "customers_city     1911\n",
       "rating             1911\n",
       "comment_head       1911\n",
       "comment            2164\n",
       "dtype: int64"
      ]
     },
     "execution_count": 8,
     "metadata": {},
     "output_type": "execute_result"
    }
   ],
   "source": [
    "df.isna().sum()"
   ]
  },
  {
   "cell_type": "code",
   "execution_count": 9,
   "id": "2eb3b318",
   "metadata": {},
   "outputs": [
    {
     "name": "stdout",
     "output_type": "stream",
     "text": [
      "['prod_id', 'product_name', 'brand_name', 'category', 'price', 'sold', 'prod_url', 'customer_name', 'purchase_date', 'customers_city', 'rating', 'comment_head', 'comment']\n"
     ]
    }
   ],
   "source": [
    "na_features = [feature for feature in df.columns if df[feature].isnull().sum()>0]\n",
    "print(na_features)"
   ]
  },
  {
   "cell_type": "code",
   "execution_count": 10,
   "id": "107610f5",
   "metadata": {},
   "outputs": [
    {
     "name": "stdout",
     "output_type": "stream",
     "text": [
      "prod_id has 2.2356% missing values\n",
      "product_name has 2.2356% missing values\n",
      "brand_name has 2.2356% missing values\n",
      "category has 0.2034% missing values\n",
      "price has 2.2356% missing values\n",
      "sold has 0.2034% missing values\n",
      "prod_url has 0.2034% missing values\n",
      "customer_name has 0.285% missing values\n",
      "purchase_date has 0.2034% missing values\n",
      "customers_city has 0.2034% missing values\n",
      "rating has 0.2034% missing values\n",
      "comment_head has 0.2034% missing values\n",
      "comment has 0.2304% missing values\n"
     ]
    }
   ],
   "source": [
    "for feature in na_features:\n",
    "    print(f\"{feature} has {(df[feature].isnull().sum()/len(df)*100).round(4)}% missing values\")"
   ]
  },
  {
   "cell_type": "markdown",
   "id": "03815586",
   "metadata": {},
   "source": [
    "### 2.1. removing missing values from \"customer_name\" and \"product_name\"feature"
   ]
  },
  {
   "cell_type": "code",
   "execution_count": 11,
   "id": "d68805de",
   "metadata": {},
   "outputs": [],
   "source": [
    "df.dropna(axis= 'index', subset=['customer_name'], inplace=True)"
   ]
  },
  {
   "cell_type": "code",
   "execution_count": 12,
   "id": "9d8a8c16",
   "metadata": {},
   "outputs": [],
   "source": [
    "df.dropna(axis= 'index', subset=['product_name'], inplace=True)"
   ]
  },
  {
   "cell_type": "code",
   "execution_count": 13,
   "id": "cd214601",
   "metadata": {},
   "outputs": [
    {
     "data": {
      "text/plain": [
       "prod_id             0\n",
       "product_name        0\n",
       "brand_name          0\n",
       "category            0\n",
       "price               0\n",
       "sold                0\n",
       "prod_url            0\n",
       "customer_name       0\n",
       "purchase_date       0\n",
       "customers_city      0\n",
       "rating              0\n",
       "comment_head        0\n",
       "comment           252\n",
       "dtype: int64"
      ]
     },
     "execution_count": 13,
     "metadata": {},
     "output_type": "execute_result"
    }
   ],
   "source": [
    "df.isna().sum()"
   ]
  },
  {
   "cell_type": "code",
   "execution_count": 14,
   "id": "f622e7f8",
   "metadata": {},
   "outputs": [
    {
     "data": {
      "text/plain": [
       "917577"
      ]
     },
     "execution_count": 14,
     "metadata": {},
     "output_type": "execute_result"
    }
   ],
   "source": [
    "len(df)"
   ]
  },
  {
   "cell_type": "markdown",
   "id": "062028cf",
   "metadata": {},
   "source": [
    "# 3. Duplicated rows"
   ]
  },
  {
   "cell_type": "code",
   "execution_count": 15,
   "id": "05d74ccf",
   "metadata": {},
   "outputs": [
    {
     "data": {
      "text/html": [
       "<div>\n",
       "<style scoped>\n",
       "    .dataframe tbody tr th:only-of-type {\n",
       "        vertical-align: middle;\n",
       "    }\n",
       "\n",
       "    .dataframe tbody tr th {\n",
       "        vertical-align: top;\n",
       "    }\n",
       "\n",
       "    .dataframe thead th {\n",
       "        text-align: right;\n",
       "    }\n",
       "</style>\n",
       "<table border=\"1\" class=\"dataframe\">\n",
       "  <thead>\n",
       "    <tr style=\"text-align: right;\">\n",
       "      <th></th>\n",
       "      <th>prod_id</th>\n",
       "      <th>product_name</th>\n",
       "      <th>brand_name</th>\n",
       "      <th>category</th>\n",
       "      <th>price</th>\n",
       "      <th>sold</th>\n",
       "      <th>prod_url</th>\n",
       "      <th>customer_name</th>\n",
       "      <th>purchase_date</th>\n",
       "      <th>customers_city</th>\n",
       "      <th>rating</th>\n",
       "      <th>comment_head</th>\n",
       "      <th>comment</th>\n",
       "    </tr>\n",
       "  </thead>\n",
       "  <tbody>\n",
       "    <tr>\n",
       "      <th>2769</th>\n",
       "      <td>telev6269</td>\n",
       "      <td>acer Frameless 80 cm (32 inch) HD Ready LED Sm...</td>\n",
       "      <td>acer</td>\n",
       "      <td>television</td>\n",
       "      <td>13999.0</td>\n",
       "      <td>1.0</td>\n",
       "      <td>https://www.flipkart.com/acer-frameless-80-cm-...</td>\n",
       "      <td>Jitendra Agrawal</td>\n",
       "      <td>3 months ago</td>\n",
       "      <td>Tendukheda Narsimhapur District</td>\n",
       "      <td>1.0</td>\n",
       "      <td>Useless product</td>\n",
       "      <td>Waste product. TV screen gets black automatica...</td>\n",
       "    </tr>\n",
       "    <tr>\n",
       "      <th>2771</th>\n",
       "      <td>telev6269</td>\n",
       "      <td>acer Frameless 80 cm (32 inch) HD Ready LED Sm...</td>\n",
       "      <td>acer</td>\n",
       "      <td>television</td>\n",
       "      <td>13999.0</td>\n",
       "      <td>1.0</td>\n",
       "      <td>https://www.flipkart.com/acer-frameless-80-cm-...</td>\n",
       "      <td>Chiranjeev Sugandh</td>\n",
       "      <td>4 months ago</td>\n",
       "      <td>Certified Buyer</td>\n",
       "      <td>1.0</td>\n",
       "      <td>Worthless</td>\n",
       "      <td>Cheaters</td>\n",
       "    </tr>\n",
       "    <tr>\n",
       "      <th>2819</th>\n",
       "      <td>telev6269</td>\n",
       "      <td>acer Frameless 80 cm (32 inch) HD Ready LED Sm...</td>\n",
       "      <td>acer</td>\n",
       "      <td>television</td>\n",
       "      <td>13999.0</td>\n",
       "      <td>1.0</td>\n",
       "      <td>https://www.flipkart.com/acer-frameless-80-cm-...</td>\n",
       "      <td>SATYA BEHERA</td>\n",
       "      <td>7 months ago</td>\n",
       "      <td>Bhawanipatna</td>\n",
       "      <td>5.0</td>\n",
       "      <td>Highly recommended</td>\n",
       "      <td>Exelent</td>\n",
       "    </tr>\n",
       "    <tr>\n",
       "      <th>2827</th>\n",
       "      <td>telev6269</td>\n",
       "      <td>acer Frameless 80 cm (32 inch) HD Ready LED Sm...</td>\n",
       "      <td>acer</td>\n",
       "      <td>television</td>\n",
       "      <td>13999.0</td>\n",
       "      <td>1.0</td>\n",
       "      <td>https://www.flipkart.com/acer-frameless-80-cm-...</td>\n",
       "      <td>Flipkart Customer</td>\n",
       "      <td>7 months ago</td>\n",
       "      <td>Coimbatore</td>\n",
       "      <td>5.0</td>\n",
       "      <td>Mind-blowing purchase</td>\n",
       "      <td>Super product</td>\n",
       "    </tr>\n",
       "    <tr>\n",
       "      <th>2834</th>\n",
       "      <td>telev6269</td>\n",
       "      <td>acer Frameless 80 cm (32 inch) HD Ready LED Sm...</td>\n",
       "      <td>acer</td>\n",
       "      <td>television</td>\n",
       "      <td>13999.0</td>\n",
       "      <td>1.0</td>\n",
       "      <td>https://www.flipkart.com/acer-frameless-80-cm-...</td>\n",
       "      <td>Abhishek Sharma</td>\n",
       "      <td>7 months ago</td>\n",
       "      <td>Kanpur Nagar</td>\n",
       "      <td>5.0</td>\n",
       "      <td>Terrific</td>\n",
       "      <td>I have been using the TV for last 1 monthPros ...</td>\n",
       "    </tr>\n",
       "  </tbody>\n",
       "</table>\n",
       "</div>"
      ],
      "text/plain": [
       "        prod_id                                       product_name brand_name  \\\n",
       "2769  telev6269  acer Frameless 80 cm (32 inch) HD Ready LED Sm...       acer   \n",
       "2771  telev6269  acer Frameless 80 cm (32 inch) HD Ready LED Sm...       acer   \n",
       "2819  telev6269  acer Frameless 80 cm (32 inch) HD Ready LED Sm...       acer   \n",
       "2827  telev6269  acer Frameless 80 cm (32 inch) HD Ready LED Sm...       acer   \n",
       "2834  telev6269  acer Frameless 80 cm (32 inch) HD Ready LED Sm...       acer   \n",
       "\n",
       "        category    price  sold  \\\n",
       "2769  television  13999.0   1.0   \n",
       "2771  television  13999.0   1.0   \n",
       "2819  television  13999.0   1.0   \n",
       "2827  television  13999.0   1.0   \n",
       "2834  television  13999.0   1.0   \n",
       "\n",
       "                                               prod_url       customer_name  \\\n",
       "2769  https://www.flipkart.com/acer-frameless-80-cm-...    Jitendra Agrawal   \n",
       "2771  https://www.flipkart.com/acer-frameless-80-cm-...  Chiranjeev Sugandh   \n",
       "2819  https://www.flipkart.com/acer-frameless-80-cm-...        SATYA BEHERA   \n",
       "2827  https://www.flipkart.com/acer-frameless-80-cm-...   Flipkart Customer   \n",
       "2834  https://www.flipkart.com/acer-frameless-80-cm-...     Abhishek Sharma   \n",
       "\n",
       "     purchase_date                   customers_city  rating  \\\n",
       "2769  3 months ago  Tendukheda Narsimhapur District     1.0   \n",
       "2771  4 months ago                  Certified Buyer     1.0   \n",
       "2819  7 months ago                     Bhawanipatna     5.0   \n",
       "2827  7 months ago                       Coimbatore     5.0   \n",
       "2834  7 months ago                     Kanpur Nagar     5.0   \n",
       "\n",
       "               comment_head                                            comment  \n",
       "2769        Useless product  Waste product. TV screen gets black automatica...  \n",
       "2771              Worthless                                           Cheaters  \n",
       "2819     Highly recommended                                            Exelent  \n",
       "2827  Mind-blowing purchase                                      Super product  \n",
       "2834               Terrific  I have been using the TV for last 1 monthPros ...  "
      ]
     },
     "execution_count": 15,
     "metadata": {},
     "output_type": "execute_result"
    }
   ],
   "source": [
    "duplicate_rows = df[df.duplicated()]\n",
    "duplicate_rows.head()"
   ]
  },
  {
   "cell_type": "markdown",
   "id": "e34de00a",
   "metadata": {},
   "source": [
    "### This are not actually duplicated rows."
   ]
  },
  {
   "cell_type": "markdown",
   "id": "c3655a89",
   "metadata": {},
   "source": [
    "# 4. correcting data types"
   ]
  },
  {
   "cell_type": "code",
   "execution_count": 16,
   "id": "162f569e",
   "metadata": {},
   "outputs": [
    {
     "data": {
      "text/plain": [
       "prod_id            object\n",
       "product_name       object\n",
       "brand_name         object\n",
       "category           object\n",
       "price             float64\n",
       "sold              float64\n",
       "prod_url           object\n",
       "customer_name      object\n",
       "purchase_date      object\n",
       "customers_city     object\n",
       "rating            float64\n",
       "comment_head       object\n",
       "comment            object\n",
       "dtype: object"
      ]
     },
     "execution_count": 16,
     "metadata": {},
     "output_type": "execute_result"
    }
   ],
   "source": [
    "df.dtypes"
   ]
  },
  {
   "cell_type": "code",
   "execution_count": 17,
   "id": "47abd88a",
   "metadata": {},
   "outputs": [
    {
     "data": {
      "text/plain": [
       "array([5., 4., 3., 1., 2.])"
      ]
     },
     "execution_count": 17,
     "metadata": {},
     "output_type": "execute_result"
    }
   ],
   "source": [
    "df['rating'].unique()"
   ]
  },
  {
   "cell_type": "code",
   "execution_count": 18,
   "id": "2ced11a2",
   "metadata": {},
   "outputs": [],
   "source": [
    "convert= {'sold':int, 'rating':int}\n",
    "df = df.astype(convert)"
   ]
  },
  {
   "cell_type": "code",
   "execution_count": 19,
   "id": "f49abe5a",
   "metadata": {},
   "outputs": [
    {
     "data": {
      "text/plain": [
       "array([5, 4, 3, 1, 2])"
      ]
     },
     "execution_count": 19,
     "metadata": {},
     "output_type": "execute_result"
    }
   ],
   "source": [
    "df['rating'].unique()"
   ]
  },
  {
   "cell_type": "code",
   "execution_count": 20,
   "id": "35b89bba",
   "metadata": {},
   "outputs": [
    {
     "data": {
      "text/plain": [
       "prod_id            object\n",
       "product_name       object\n",
       "brand_name         object\n",
       "category           object\n",
       "price             float64\n",
       "sold                int32\n",
       "prod_url           object\n",
       "customer_name      object\n",
       "purchase_date      object\n",
       "customers_city     object\n",
       "rating              int32\n",
       "comment_head       object\n",
       "comment            object\n",
       "dtype: object"
      ]
     },
     "execution_count": 20,
     "metadata": {},
     "output_type": "execute_result"
    }
   ],
   "source": [
    "df.dtypes"
   ]
  },
  {
   "cell_type": "markdown",
   "id": "c69aa2d7",
   "metadata": {},
   "source": [
    "# 5. Correcting date format"
   ]
  },
  {
   "cell_type": "code",
   "execution_count": 21,
   "id": "12517223",
   "metadata": {},
   "outputs": [
    {
     "data": {
      "text/plain": [
       "array(['4 days ago', '5 days ago', '11 days ago', '14 days ago',\n",
       "       '20 days ago', '27 days ago', '29 days ago', '1 month ago',\n",
       "       '3 months ago', '4 months ago', '2 months ago', '5 months ago',\n",
       "       '6 months ago', '7 months ago', '8 months ago', '2 days ago',\n",
       "       '3 days ago', '6 days ago', '17 days ago', '9 months ago',\n",
       "       '10 months ago', '7 days ago', '8 days ago', '9 days ago',\n",
       "       '10 days ago', '12 days ago', '13 days ago', '15 days ago',\n",
       "       '16 days ago', '18 days ago', '19 days ago', '23 days ago',\n",
       "       '24 days ago', '28 days ago', '21 days ago', '22 days ago',\n",
       "       '30 days ago', '26 days ago', '11 months ago', 'Jan, 2022',\n",
       "       'Dec, 2021', 'Nov, 2021', 'Oct, 2021', 'Sep, 2021', 'Aug, 2021',\n",
       "       'Jul, 2021', 'Jun, 2021', 'May, 2021', 'Apr, 2021', 'Mar, 2021',\n",
       "       'Feb, 2021', 'Jan, 2021', '25 days ago', '1 day ago', 'Today',\n",
       "       'Nov, 2020', 'Oct, 2020', 'Aug, 2020', 'Jul, 2020', 'May, 2020',\n",
       "       'Mar, 2020', 'Feb, 2020', 'Aug, 2019', 'Jul, 2019', 'May, 2019',\n",
       "       'Apr, 2019', 'Mar, 2019', 'Feb, 2019', 'Dec, 2018', 'Nov, 2018',\n",
       "       'Oct, 2018', 'Sep, 2018', 'Aug, 2018', 'Jul, 2018', 'Jun, 2018',\n",
       "       'May, 2018', 'Apr, 2018', 'Mar, 2018', 'Feb, 2018', 'Jan, 2018',\n",
       "       'Dec, 2017', 'Nov, 2017', 'Oct, 2017', 'Sep, 2017', 'Dec, 2020',\n",
       "       'Sep, 2020', 'Jun, 2020', 'Nov, 2019', 'Oct, 2019', 'Sep, 2019',\n",
       "       'Jun, 2019', 'Jan, 2019', 'Jan, 2020', 'Dec, 2019', 'Apr, 2020',\n",
       "       'Aug, 2017', 'Jul, 2017', 'Jun, 2017', 'May, 2017', 'Apr, 2017',\n",
       "       'Jan, 2017', 'Dec, 2016', 'Oct, 2016', 'Mar, 2017', 'Feb, 2017',\n",
       "       'Jan, 2016', 'Dec, 2015', 'Nov, 2016', 'Mar, 2016', 'Sep, 2015',\n",
       "       'Jul, 2015', 'Apr, 2015', 'Sep, 2016', 'Feb, 2016', 'Aug, 2016',\n",
       "       'Jul, 2016', 'Jun, 2016', 'May, 2016', 'Oct, 2015', 'Aug, 2015',\n",
       "       'Jun, 2015', 'Apr, 2016', 'Nov, 2015', 'May, 2015', 'Mar, 2015',\n",
       "       'Feb, 2015', 'Jan, 2015', 'Dec, 2014'], dtype=object)"
      ]
     },
     "execution_count": 21,
     "metadata": {},
     "output_type": "execute_result"
    }
   ],
   "source": [
    "df['purchase_date'].unique()"
   ]
  },
  {
   "cell_type": "markdown",
   "id": "b3aa7797",
   "metadata": {},
   "source": [
    "### 5.1. Get_prev_date() function will take values like '1 day ago', '2 days ago' and will return actual month name with year"
   ]
  },
  {
   "cell_type": "code",
   "execution_count": 22,
   "id": "4599ba54",
   "metadata": {},
   "outputs": [
    {
     "name": "stdout",
     "output_type": "stream",
     "text": [
      "Jan, 2023\n"
     ]
    }
   ],
   "source": [
    "# Using datetime module to find current month and year\n",
    "now = datetime.datetime.now()\n",
    "month = now.strftime(\"%b\")\n",
    "year = now.strftime(\"%Y\")\n",
    "print(f\"{month}, {year}\")"
   ]
  },
  {
   "cell_type": "code",
   "execution_count": 23,
   "id": "be0c7fc9",
   "metadata": {},
   "outputs": [],
   "source": [
    "def get_prev_date(value):\n",
    "    if (\"days\" in value or \"day\" in value):\n",
    "        return f\"{month}, {year}\"\n",
    "    else:\n",
    "        return value"
   ]
  },
  {
   "cell_type": "markdown",
   "id": "6a7a3e28",
   "metadata": {},
   "source": [
    "#### eg:-"
   ]
  },
  {
   "cell_type": "code",
   "execution_count": 24,
   "id": "9e13e7c3",
   "metadata": {},
   "outputs": [
    {
     "data": {
      "text/plain": [
       "'Jan, 2023'"
      ]
     },
     "execution_count": 24,
     "metadata": {},
     "output_type": "execute_result"
    }
   ],
   "source": [
    "get_prev_date('1 day ago')"
   ]
  },
  {
   "cell_type": "code",
   "execution_count": 25,
   "id": "57c8f0db",
   "metadata": {
    "scrolled": false
   },
   "outputs": [
    {
     "data": {
      "text/plain": [
       "'Jan, 2023'"
      ]
     },
     "execution_count": 25,
     "metadata": {},
     "output_type": "execute_result"
    }
   ],
   "source": [
    "get_prev_date('30 days ago')"
   ]
  },
  {
   "cell_type": "markdown",
   "id": "416e57a2",
   "metadata": {},
   "source": [
    "#### Lets apply get_prev_date() to 'purchase_date' column"
   ]
  },
  {
   "cell_type": "code",
   "execution_count": 26,
   "id": "b64dfcab",
   "metadata": {},
   "outputs": [],
   "source": [
    "df['purchase_date'] = df['purchase_date'].map(get_prev_date)"
   ]
  },
  {
   "cell_type": "code",
   "execution_count": 27,
   "id": "ca6b8667",
   "metadata": {},
   "outputs": [
    {
     "data": {
      "text/plain": [
       "array(['Jan, 2023', '1 month ago', '3 months ago', '4 months ago',\n",
       "       '2 months ago', '5 months ago', '6 months ago', '7 months ago',\n",
       "       '8 months ago', '9 months ago', '10 months ago', '11 months ago',\n",
       "       'Jan, 2022', 'Dec, 2021', 'Nov, 2021', 'Oct, 2021', 'Sep, 2021',\n",
       "       'Aug, 2021', 'Jul, 2021', 'Jun, 2021', 'May, 2021', 'Apr, 2021',\n",
       "       'Mar, 2021', 'Feb, 2021', 'Jan, 2021', 'Nov, 2020', 'Oct, 2020',\n",
       "       'Aug, 2020', 'Jul, 2020', 'May, 2020', 'Mar, 2020', 'Feb, 2020',\n",
       "       'Aug, 2019', 'Jul, 2019', 'May, 2019', 'Apr, 2019', 'Mar, 2019',\n",
       "       'Feb, 2019', 'Dec, 2018', 'Nov, 2018', 'Oct, 2018', 'Sep, 2018',\n",
       "       'Aug, 2018', 'Jul, 2018', 'Jun, 2018', 'May, 2018', 'Apr, 2018',\n",
       "       'Mar, 2018', 'Feb, 2018', 'Jan, 2018', 'Dec, 2017', 'Nov, 2017',\n",
       "       'Oct, 2017', 'Sep, 2017', 'Dec, 2020', 'Sep, 2020', 'Jun, 2020',\n",
       "       'Nov, 2019', 'Oct, 2019', 'Sep, 2019', 'Jun, 2019', 'Jan, 2019',\n",
       "       'Jan, 2020', 'Dec, 2019', 'Apr, 2020', 'Aug, 2017', 'Jul, 2017',\n",
       "       'Jun, 2017', 'May, 2017', 'Apr, 2017', 'Jan, 2017', 'Dec, 2016',\n",
       "       'Oct, 2016', 'Mar, 2017', 'Feb, 2017', 'Jan, 2016', 'Dec, 2015',\n",
       "       'Nov, 2016', 'Mar, 2016', 'Sep, 2015', 'Jul, 2015', 'Apr, 2015',\n",
       "       'Sep, 2016', 'Feb, 2016', 'Aug, 2016', 'Jul, 2016', 'Jun, 2016',\n",
       "       'May, 2016', 'Oct, 2015', 'Aug, 2015', 'Jun, 2015', 'Apr, 2016',\n",
       "       'Nov, 2015', 'May, 2015', 'Mar, 2015', 'Feb, 2015', 'Jan, 2015',\n",
       "       'Dec, 2014'], dtype=object)"
      ]
     },
     "execution_count": 27,
     "metadata": {},
     "output_type": "execute_result"
    }
   ],
   "source": [
    "df['purchase_date'].unique()"
   ]
  },
  {
   "cell_type": "markdown",
   "id": "f95ff0cc",
   "metadata": {},
   "source": [
    "#### As we can see here, we have converted '1 day ago', '2 days ago' to 'Jan, 2023'."
   ]
  },
  {
   "cell_type": "markdown",
   "id": "a9d677df",
   "metadata": {},
   "source": [
    "### 5.2 Get_prev_month() function will take values like '1 month ago', '2 months ago' and will return actual month name with year"
   ]
  },
  {
   "cell_type": "code",
   "execution_count": 28,
   "id": "67e2586c",
   "metadata": {},
   "outputs": [],
   "source": [
    "def get_prev_month(value):\n",
    "    if (\"month\" in value or \"months\" in value):\n",
    "        n = int(value[0])\n",
    "        # Get the current date and extract the year and month\n",
    "        now = datetime.datetime.now()\n",
    "        month = now.month\n",
    "        year = now.year\n",
    "        # Decrement the month by n and handle the case where it becomes zero or negative\n",
    "        month -= n\n",
    "        while month <= 0:\n",
    "            year -= 1\n",
    "            month += 12\n",
    "        # Return the name of the month and the year\n",
    "        return f\"{datetime.date(year, month, 1).strftime('%b')}, {year}\"\n",
    "    else:\n",
    "        return value"
   ]
  },
  {
   "cell_type": "markdown",
   "id": "1c965037",
   "metadata": {},
   "source": [
    "#### Lets apply get_prev_month() to 'purchase_date' column"
   ]
  },
  {
   "cell_type": "code",
   "execution_count": 29,
   "id": "524e9537",
   "metadata": {},
   "outputs": [],
   "source": [
    "df['purchase_date'] = df['purchase_date'].map(get_prev_month)"
   ]
  },
  {
   "cell_type": "code",
   "execution_count": 30,
   "id": "e23448c8",
   "metadata": {
    "scrolled": true
   },
   "outputs": [
    {
     "data": {
      "text/plain": [
       "array(['Jan, 2023', 'Dec, 2022', 'Oct, 2022', 'Sep, 2022', 'Nov, 2022',\n",
       "       'Aug, 2022', 'Jul, 2022', 'Jun, 2022', 'May, 2022', 'Apr, 2022',\n",
       "       'Jan, 2022', 'Dec, 2021', 'Nov, 2021', 'Oct, 2021', 'Sep, 2021',\n",
       "       'Aug, 2021', 'Jul, 2021', 'Jun, 2021', 'May, 2021', 'Apr, 2021',\n",
       "       'Mar, 2021', 'Feb, 2021', 'Jan, 2021', 'Nov, 2020', 'Oct, 2020',\n",
       "       'Aug, 2020', 'Jul, 2020', 'May, 2020', 'Mar, 2020', 'Feb, 2020',\n",
       "       'Aug, 2019', 'Jul, 2019', 'May, 2019', 'Apr, 2019', 'Mar, 2019',\n",
       "       'Feb, 2019', 'Dec, 2018', 'Nov, 2018', 'Oct, 2018', 'Sep, 2018',\n",
       "       'Aug, 2018', 'Jul, 2018', 'Jun, 2018', 'May, 2018', 'Apr, 2018',\n",
       "       'Mar, 2018', 'Feb, 2018', 'Jan, 2018', 'Dec, 2017', 'Nov, 2017',\n",
       "       'Oct, 2017', 'Sep, 2017', 'Dec, 2020', 'Sep, 2020', 'Jun, 2020',\n",
       "       'Nov, 2019', 'Oct, 2019', 'Sep, 2019', 'Jun, 2019', 'Jan, 2019',\n",
       "       'Jan, 2020', 'Dec, 2019', 'Apr, 2020', 'Aug, 2017', 'Jul, 2017',\n",
       "       'Jun, 2017', 'May, 2017', 'Apr, 2017', 'Jan, 2017', 'Dec, 2016',\n",
       "       'Oct, 2016', 'Mar, 2017', 'Feb, 2017', 'Jan, 2016', 'Dec, 2015',\n",
       "       'Nov, 2016', 'Mar, 2016', 'Sep, 2015', 'Jul, 2015', 'Apr, 2015',\n",
       "       'Sep, 2016', 'Feb, 2016', 'Aug, 2016', 'Jul, 2016', 'Jun, 2016',\n",
       "       'May, 2016', 'Oct, 2015', 'Aug, 2015', 'Jun, 2015', 'Apr, 2016',\n",
       "       'Nov, 2015', 'May, 2015', 'Mar, 2015', 'Feb, 2015', 'Jan, 2015',\n",
       "       'Dec, 2014'], dtype=object)"
      ]
     },
     "execution_count": 30,
     "metadata": {},
     "output_type": "execute_result"
    }
   ],
   "source": [
    "df['purchase_date'].unique()"
   ]
  },
  {
   "cell_type": "markdown",
   "id": "16bf5b9f",
   "metadata": {},
   "source": [
    "#### As we can see our 'purchase_date' column is cleaned and it only have month, year"
   ]
  },
  {
   "cell_type": "markdown",
   "id": "365360ec",
   "metadata": {},
   "source": [
    "### 5.3. Replacing ', ' with '-'"
   ]
  },
  {
   "cell_type": "code",
   "execution_count": 31,
   "id": "dd466bc0",
   "metadata": {},
   "outputs": [],
   "source": [
    "def remove_comma(value):\n",
    "    value = value.replace(', ' , \"-\")\n",
    "    return value"
   ]
  },
  {
   "cell_type": "code",
   "execution_count": 32,
   "id": "277d0792",
   "metadata": {},
   "outputs": [],
   "source": [
    "df['purchase_date'] = df['purchase_date'].map(remove_comma)"
   ]
  },
  {
   "cell_type": "code",
   "execution_count": 33,
   "id": "e116205b",
   "metadata": {},
   "outputs": [
    {
     "data": {
      "text/plain": [
       "array(['Jan-2023', 'Dec-2022', 'Oct-2022', 'Sep-2022', 'Nov-2022',\n",
       "       'Aug-2022', 'Jul-2022', 'Jun-2022', 'May-2022', 'Apr-2022',\n",
       "       'Jan-2022', 'Dec-2021', 'Nov-2021', 'Oct-2021', 'Sep-2021',\n",
       "       'Aug-2021', 'Jul-2021', 'Jun-2021', 'May-2021', 'Apr-2021',\n",
       "       'Mar-2021', 'Feb-2021', 'Jan-2021', 'Nov-2020', 'Oct-2020',\n",
       "       'Aug-2020', 'Jul-2020', 'May-2020', 'Mar-2020', 'Feb-2020',\n",
       "       'Aug-2019', 'Jul-2019', 'May-2019', 'Apr-2019', 'Mar-2019',\n",
       "       'Feb-2019', 'Dec-2018', 'Nov-2018', 'Oct-2018', 'Sep-2018',\n",
       "       'Aug-2018', 'Jul-2018', 'Jun-2018', 'May-2018', 'Apr-2018',\n",
       "       'Mar-2018', 'Feb-2018', 'Jan-2018', 'Dec-2017', 'Nov-2017',\n",
       "       'Oct-2017', 'Sep-2017', 'Dec-2020', 'Sep-2020', 'Jun-2020',\n",
       "       'Nov-2019', 'Oct-2019', 'Sep-2019', 'Jun-2019', 'Jan-2019',\n",
       "       'Jan-2020', 'Dec-2019', 'Apr-2020', 'Aug-2017', 'Jul-2017',\n",
       "       'Jun-2017', 'May-2017', 'Apr-2017', 'Jan-2017', 'Dec-2016',\n",
       "       'Oct-2016', 'Mar-2017', 'Feb-2017', 'Jan-2016', 'Dec-2015',\n",
       "       'Nov-2016', 'Mar-2016', 'Sep-2015', 'Jul-2015', 'Apr-2015',\n",
       "       'Sep-2016', 'Feb-2016', 'Aug-2016', 'Jul-2016', 'Jun-2016',\n",
       "       'May-2016', 'Oct-2015', 'Aug-2015', 'Jun-2015', 'Apr-2016',\n",
       "       'Nov-2015', 'May-2015', 'Mar-2015', 'Feb-2015', 'Jan-2015',\n",
       "       'Dec-2014'], dtype=object)"
      ]
     },
     "execution_count": 33,
     "metadata": {},
     "output_type": "execute_result"
    }
   ],
   "source": [
    "df['purchase_date'].unique()"
   ]
  },
  {
   "cell_type": "markdown",
   "id": "adc0b7c0",
   "metadata": {},
   "source": [
    "### 5.4. lets convert data type of 'purchase_date' which is object, into 'datetime'"
   ]
  },
  {
   "cell_type": "code",
   "execution_count": 34,
   "id": "06d2eb86",
   "metadata": {},
   "outputs": [
    {
     "data": {
      "text/plain": [
       "prod_id            object\n",
       "product_name       object\n",
       "brand_name         object\n",
       "category           object\n",
       "price             float64\n",
       "sold                int32\n",
       "prod_url           object\n",
       "customer_name      object\n",
       "purchase_date      object\n",
       "customers_city     object\n",
       "rating              int32\n",
       "comment_head       object\n",
       "comment            object\n",
       "dtype: object"
      ]
     },
     "execution_count": 34,
     "metadata": {},
     "output_type": "execute_result"
    }
   ],
   "source": [
    "df.dtypes"
   ]
  },
  {
   "cell_type": "code",
   "execution_count": 35,
   "id": "3a02efb2",
   "metadata": {},
   "outputs": [],
   "source": [
    "df['purchase_date'] = pd.to_datetime(df['purchase_date'])"
   ]
  },
  {
   "cell_type": "code",
   "execution_count": 36,
   "id": "bfce6954",
   "metadata": {},
   "outputs": [
    {
     "data": {
      "text/plain": [
       "prod_id                   object\n",
       "product_name              object\n",
       "brand_name                object\n",
       "category                  object\n",
       "price                    float64\n",
       "sold                       int32\n",
       "prod_url                  object\n",
       "customer_name             object\n",
       "purchase_date     datetime64[ns]\n",
       "customers_city            object\n",
       "rating                     int32\n",
       "comment_head              object\n",
       "comment                   object\n",
       "dtype: object"
      ]
     },
     "execution_count": 36,
     "metadata": {},
     "output_type": "execute_result"
    }
   ],
   "source": [
    "df.dtypes"
   ]
  },
  {
   "cell_type": "code",
   "execution_count": 37,
   "id": "e81dfc16",
   "metadata": {},
   "outputs": [
    {
     "data": {
      "text/plain": [
       "0        2023-01-01\n",
       "1        2023-01-01\n",
       "2        2023-01-01\n",
       "3        2023-01-01\n",
       "4        2023-01-01\n",
       "            ...    \n",
       "939338   2022-10-01\n",
       "939339   2022-10-01\n",
       "939340   2022-07-01\n",
       "939341   2022-06-01\n",
       "939342   2022-06-01\n",
       "Name: purchase_date, Length: 917577, dtype: datetime64[ns]"
      ]
     },
     "execution_count": 37,
     "metadata": {},
     "output_type": "execute_result"
    }
   ],
   "source": [
    "df['purchase_date']"
   ]
  },
  {
   "cell_type": "markdown",
   "id": "d8335f6b",
   "metadata": {},
   "source": [
    "### 5.5. Extracting month and year from 'purchase_date' and adding them to new columns"
   ]
  },
  {
   "cell_type": "code",
   "execution_count": 38,
   "id": "6b2d4861",
   "metadata": {},
   "outputs": [],
   "source": [
    "df['purchase_month'] = df['purchase_date'].dt.month"
   ]
  },
  {
   "cell_type": "code",
   "execution_count": 39,
   "id": "4ea52a95",
   "metadata": {},
   "outputs": [],
   "source": [
    "df['purchase_year'] = df['purchase_date'].dt.year"
   ]
  },
  {
   "cell_type": "code",
   "execution_count": 40,
   "id": "205389c0",
   "metadata": {
    "scrolled": true
   },
   "outputs": [
    {
     "data": {
      "text/html": [
       "<div>\n",
       "<style scoped>\n",
       "    .dataframe tbody tr th:only-of-type {\n",
       "        vertical-align: middle;\n",
       "    }\n",
       "\n",
       "    .dataframe tbody tr th {\n",
       "        vertical-align: top;\n",
       "    }\n",
       "\n",
       "    .dataframe thead th {\n",
       "        text-align: right;\n",
       "    }\n",
       "</style>\n",
       "<table border=\"1\" class=\"dataframe\">\n",
       "  <thead>\n",
       "    <tr style=\"text-align: right;\">\n",
       "      <th></th>\n",
       "      <th>prod_id</th>\n",
       "      <th>product_name</th>\n",
       "      <th>brand_name</th>\n",
       "      <th>category</th>\n",
       "      <th>price</th>\n",
       "      <th>sold</th>\n",
       "      <th>prod_url</th>\n",
       "      <th>customer_name</th>\n",
       "      <th>purchase_date</th>\n",
       "      <th>customers_city</th>\n",
       "      <th>rating</th>\n",
       "      <th>comment_head</th>\n",
       "      <th>comment</th>\n",
       "      <th>purchase_month</th>\n",
       "      <th>purchase_year</th>\n",
       "    </tr>\n",
       "  </thead>\n",
       "  <tbody>\n",
       "    <tr>\n",
       "      <th>0</th>\n",
       "      <td>lapto6288</td>\n",
       "      <td>acer Aspire 3 Core i5 11th Gen - (8 GB/512 GB ...</td>\n",
       "      <td>acer</td>\n",
       "      <td>laptop</td>\n",
       "      <td>44999.0</td>\n",
       "      <td>1</td>\n",
       "      <td>https://www.flipkart.com/acer-aspire-3-core-i5...</td>\n",
       "      <td>Flipkart Customer</td>\n",
       "      <td>2023-01-01</td>\n",
       "      <td>Karimpur</td>\n",
       "      <td>5</td>\n",
       "      <td>Great product</td>\n",
       "      <td>Very good product 🙂🎈🎈🎈🎈🎈</td>\n",
       "      <td>1</td>\n",
       "      <td>2023</td>\n",
       "    </tr>\n",
       "    <tr>\n",
       "      <th>1</th>\n",
       "      <td>lapto6288</td>\n",
       "      <td>acer Aspire 3 Core i5 11th Gen - (8 GB/512 GB ...</td>\n",
       "      <td>acer</td>\n",
       "      <td>laptop</td>\n",
       "      <td>44999.0</td>\n",
       "      <td>1</td>\n",
       "      <td>https://www.flipkart.com/acer-aspire-3-core-i5...</td>\n",
       "      <td>Flipkart Customer</td>\n",
       "      <td>2023-01-01</td>\n",
       "      <td>Ranchi</td>\n",
       "      <td>4</td>\n",
       "      <td>Really Nice</td>\n",
       "      <td>nice</td>\n",
       "      <td>1</td>\n",
       "      <td>2023</td>\n",
       "    </tr>\n",
       "    <tr>\n",
       "      <th>2</th>\n",
       "      <td>lapto6288</td>\n",
       "      <td>acer Aspire 3 Core i5 11th Gen - (8 GB/512 GB ...</td>\n",
       "      <td>acer</td>\n",
       "      <td>laptop</td>\n",
       "      <td>44999.0</td>\n",
       "      <td>1</td>\n",
       "      <td>https://www.flipkart.com/acer-aspire-3-core-i5...</td>\n",
       "      <td>Dhiraj Jaiswal</td>\n",
       "      <td>2023-01-01</td>\n",
       "      <td>Sidhi</td>\n",
       "      <td>3</td>\n",
       "      <td>Does the job</td>\n",
       "      <td>Good</td>\n",
       "      <td>1</td>\n",
       "      <td>2023</td>\n",
       "    </tr>\n",
       "    <tr>\n",
       "      <th>3</th>\n",
       "      <td>lapto6288</td>\n",
       "      <td>acer Aspire 3 Core i5 11th Gen - (8 GB/512 GB ...</td>\n",
       "      <td>acer</td>\n",
       "      <td>laptop</td>\n",
       "      <td>44999.0</td>\n",
       "      <td>1</td>\n",
       "      <td>https://www.flipkart.com/acer-aspire-3-core-i5...</td>\n",
       "      <td>Vasamsetti Durgayya</td>\n",
       "      <td>2023-01-01</td>\n",
       "      <td>Hyderabad</td>\n",
       "      <td>5</td>\n",
       "      <td>Best in the market!</td>\n",
       "      <td>Good product at this price.i am very happy.per...</td>\n",
       "      <td>1</td>\n",
       "      <td>2023</td>\n",
       "    </tr>\n",
       "    <tr>\n",
       "      <th>4</th>\n",
       "      <td>lapto6288</td>\n",
       "      <td>acer Aspire 3 Core i5 11th Gen - (8 GB/512 GB ...</td>\n",
       "      <td>acer</td>\n",
       "      <td>laptop</td>\n",
       "      <td>44999.0</td>\n",
       "      <td>1</td>\n",
       "      <td>https://www.flipkart.com/acer-aspire-3-core-i5...</td>\n",
       "      <td>Flipkart Customer</td>\n",
       "      <td>2023-01-01</td>\n",
       "      <td>Bengaluru</td>\n",
       "      <td>1</td>\n",
       "      <td>Did not meet expectations</td>\n",
       "      <td>Worst laptop don't buy this laptop</td>\n",
       "      <td>1</td>\n",
       "      <td>2023</td>\n",
       "    </tr>\n",
       "  </tbody>\n",
       "</table>\n",
       "</div>"
      ],
      "text/plain": [
       "     prod_id                                       product_name brand_name  \\\n",
       "0  lapto6288  acer Aspire 3 Core i5 11th Gen - (8 GB/512 GB ...       acer   \n",
       "1  lapto6288  acer Aspire 3 Core i5 11th Gen - (8 GB/512 GB ...       acer   \n",
       "2  lapto6288  acer Aspire 3 Core i5 11th Gen - (8 GB/512 GB ...       acer   \n",
       "3  lapto6288  acer Aspire 3 Core i5 11th Gen - (8 GB/512 GB ...       acer   \n",
       "4  lapto6288  acer Aspire 3 Core i5 11th Gen - (8 GB/512 GB ...       acer   \n",
       "\n",
       "  category    price  sold                                           prod_url  \\\n",
       "0   laptop  44999.0     1  https://www.flipkart.com/acer-aspire-3-core-i5...   \n",
       "1   laptop  44999.0     1  https://www.flipkart.com/acer-aspire-3-core-i5...   \n",
       "2   laptop  44999.0     1  https://www.flipkart.com/acer-aspire-3-core-i5...   \n",
       "3   laptop  44999.0     1  https://www.flipkart.com/acer-aspire-3-core-i5...   \n",
       "4   laptop  44999.0     1  https://www.flipkart.com/acer-aspire-3-core-i5...   \n",
       "\n",
       "         customer_name purchase_date customers_city  rating  \\\n",
       "0    Flipkart Customer    2023-01-01       Karimpur       5   \n",
       "1    Flipkart Customer    2023-01-01         Ranchi       4   \n",
       "2       Dhiraj Jaiswal    2023-01-01          Sidhi       3   \n",
       "3  Vasamsetti Durgayya    2023-01-01      Hyderabad       5   \n",
       "4    Flipkart Customer    2023-01-01      Bengaluru       1   \n",
       "\n",
       "                comment_head  \\\n",
       "0              Great product   \n",
       "1                Really Nice   \n",
       "2               Does the job   \n",
       "3        Best in the market!   \n",
       "4  Did not meet expectations   \n",
       "\n",
       "                                             comment  purchase_month  \\\n",
       "0                           Very good product 🙂🎈🎈🎈🎈🎈               1   \n",
       "1                                               nice               1   \n",
       "2                                               Good               1   \n",
       "3  Good product at this price.i am very happy.per...               1   \n",
       "4                 Worst laptop don't buy this laptop               1   \n",
       "\n",
       "   purchase_year  \n",
       "0           2023  \n",
       "1           2023  \n",
       "2           2023  \n",
       "3           2023  \n",
       "4           2023  "
      ]
     },
     "execution_count": 40,
     "metadata": {},
     "output_type": "execute_result"
    }
   ],
   "source": [
    "df.head()"
   ]
  },
  {
   "cell_type": "markdown",
   "id": "e0e5325c",
   "metadata": {},
   "source": [
    "# 6. Identifying outliers"
   ]
  },
  {
   "cell_type": "code",
   "execution_count": 41,
   "id": "c042f5bc",
   "metadata": {},
   "outputs": [
    {
     "data": {
      "text/plain": [
       "[]"
      ]
     },
     "execution_count": 41,
     "metadata": {},
     "output_type": "execute_result"
    },
    {
     "data": {
      "image/png": "[encoded data removed]",
      "text/plain": [
       "<Figure size 1000x800 with 1 Axes>"
      ]
     },
     "metadata": {
      "needs_background": "light"
     },
     "output_type": "display_data"
    }
   ],
   "source": [
    "df_unique = df.drop_duplicates(subset=['product_name'])\n",
    "plt.figure(figsize=(10,8),dpi=100)\n",
    "sns.boxplot(x='category', y='price',data=df_unique,\n",
    "            whis=1.5, showmeans=True, showfliers=True,\n",
    "            showbox=True, medianprops={\"linewidth\": 2, \"color\": \"red\"},)\n",
    "\n",
    "plt.ylabel('Distribution of price')\n",
    "plt.plot()"
   ]
  },
  {
   "cell_type": "markdown",
   "id": "3e7b1d02",
   "metadata": {},
   "source": [
    "#### NO treatment is needed to outlier because some high end laptops are very expensive"
   ]
  },
  {
   "cell_type": "markdown",
   "id": "ca5b9c1f",
   "metadata": {},
   "source": [
    "# 7. Adding a feature \"short_name\" because names of products are too lenghty"
   ]
  },
  {
   "cell_type": "code",
   "execution_count": 42,
   "id": "f3f6528f",
   "metadata": {},
   "outputs": [],
   "source": [
    "def short_name(full_name):\n",
    "    name_list = full_name.split()\n",
    "    short_name = ''\n",
    "    for i in name_list[0:10]:\n",
    "        short_name += i + ' '\n",
    "    short_name=short_name.strip()+'...'\n",
    "    return short_name"
   ]
  },
  {
   "cell_type": "code",
   "execution_count": 43,
   "id": "0256fae4",
   "metadata": {},
   "outputs": [],
   "source": [
    "df['short_name'] = df['product_name'].map(short_name)"
   ]
  },
  {
   "cell_type": "code",
   "execution_count": 44,
   "id": "95a5e9f1",
   "metadata": {},
   "outputs": [
    {
     "data": {
      "text/html": [
       "<div>\n",
       "<style scoped>\n",
       "    .dataframe tbody tr th:only-of-type {\n",
       "        vertical-align: middle;\n",
       "    }\n",
       "\n",
       "    .dataframe tbody tr th {\n",
       "        vertical-align: top;\n",
       "    }\n",
       "\n",
       "    .dataframe thead th {\n",
       "        text-align: right;\n",
       "    }\n",
       "</style>\n",
       "<table border=\"1\" class=\"dataframe\">\n",
       "  <thead>\n",
       "    <tr style=\"text-align: right;\">\n",
       "      <th></th>\n",
       "      <th>prod_id</th>\n",
       "      <th>product_name</th>\n",
       "      <th>brand_name</th>\n",
       "      <th>category</th>\n",
       "      <th>price</th>\n",
       "      <th>sold</th>\n",
       "      <th>prod_url</th>\n",
       "      <th>customer_name</th>\n",
       "      <th>purchase_date</th>\n",
       "      <th>customers_city</th>\n",
       "      <th>rating</th>\n",
       "      <th>comment_head</th>\n",
       "      <th>comment</th>\n",
       "      <th>purchase_month</th>\n",
       "      <th>purchase_year</th>\n",
       "      <th>short_name</th>\n",
       "    </tr>\n",
       "  </thead>\n",
       "  <tbody>\n",
       "    <tr>\n",
       "      <th>0</th>\n",
       "      <td>lapto6288</td>\n",
       "      <td>acer Aspire 3 Core i5 11th Gen - (8 GB/512 GB ...</td>\n",
       "      <td>acer</td>\n",
       "      <td>laptop</td>\n",
       "      <td>44999.0</td>\n",
       "      <td>1</td>\n",
       "      <td>https://www.flipkart.com/acer-aspire-3-core-i5...</td>\n",
       "      <td>Flipkart Customer</td>\n",
       "      <td>2023-01-01</td>\n",
       "      <td>Karimpur</td>\n",
       "      <td>5</td>\n",
       "      <td>Great product</td>\n",
       "      <td>Very good product 🙂🎈🎈🎈🎈🎈</td>\n",
       "      <td>1</td>\n",
       "      <td>2023</td>\n",
       "      <td>acer Aspire 3 Core i5 11th Gen - (8 GB/512...</td>\n",
       "    </tr>\n",
       "    <tr>\n",
       "      <th>1</th>\n",
       "      <td>lapto6288</td>\n",
       "      <td>acer Aspire 3 Core i5 11th Gen - (8 GB/512 GB ...</td>\n",
       "      <td>acer</td>\n",
       "      <td>laptop</td>\n",
       "      <td>44999.0</td>\n",
       "      <td>1</td>\n",
       "      <td>https://www.flipkart.com/acer-aspire-3-core-i5...</td>\n",
       "      <td>Flipkart Customer</td>\n",
       "      <td>2023-01-01</td>\n",
       "      <td>Ranchi</td>\n",
       "      <td>4</td>\n",
       "      <td>Really Nice</td>\n",
       "      <td>nice</td>\n",
       "      <td>1</td>\n",
       "      <td>2023</td>\n",
       "      <td>acer Aspire 3 Core i5 11th Gen - (8 GB/512...</td>\n",
       "    </tr>\n",
       "    <tr>\n",
       "      <th>2</th>\n",
       "      <td>lapto6288</td>\n",
       "      <td>acer Aspire 3 Core i5 11th Gen - (8 GB/512 GB ...</td>\n",
       "      <td>acer</td>\n",
       "      <td>laptop</td>\n",
       "      <td>44999.0</td>\n",
       "      <td>1</td>\n",
       "      <td>https://www.flipkart.com/acer-aspire-3-core-i5...</td>\n",
       "      <td>Dhiraj Jaiswal</td>\n",
       "      <td>2023-01-01</td>\n",
       "      <td>Sidhi</td>\n",
       "      <td>3</td>\n",
       "      <td>Does the job</td>\n",
       "      <td>Good</td>\n",
       "      <td>1</td>\n",
       "      <td>2023</td>\n",
       "      <td>acer Aspire 3 Core i5 11th Gen - (8 GB/512...</td>\n",
       "    </tr>\n",
       "    <tr>\n",
       "      <th>3</th>\n",
       "      <td>lapto6288</td>\n",
       "      <td>acer Aspire 3 Core i5 11th Gen - (8 GB/512 GB ...</td>\n",
       "      <td>acer</td>\n",
       "      <td>laptop</td>\n",
       "      <td>44999.0</td>\n",
       "      <td>1</td>\n",
       "      <td>https://www.flipkart.com/acer-aspire-3-core-i5...</td>\n",
       "      <td>Vasamsetti Durgayya</td>\n",
       "      <td>2023-01-01</td>\n",
       "      <td>Hyderabad</td>\n",
       "      <td>5</td>\n",
       "      <td>Best in the market!</td>\n",
       "      <td>Good product at this price.i am very happy.per...</td>\n",
       "      <td>1</td>\n",
       "      <td>2023</td>\n",
       "      <td>acer Aspire 3 Core i5 11th Gen - (8 GB/512...</td>\n",
       "    </tr>\n",
       "    <tr>\n",
       "      <th>4</th>\n",
       "      <td>lapto6288</td>\n",
       "      <td>acer Aspire 3 Core i5 11th Gen - (8 GB/512 GB ...</td>\n",
       "      <td>acer</td>\n",
       "      <td>laptop</td>\n",
       "      <td>44999.0</td>\n",
       "      <td>1</td>\n",
       "      <td>https://www.flipkart.com/acer-aspire-3-core-i5...</td>\n",
       "      <td>Flipkart Customer</td>\n",
       "      <td>2023-01-01</td>\n",
       "      <td>Bengaluru</td>\n",
       "      <td>1</td>\n",
       "      <td>Did not meet expectations</td>\n",
       "      <td>Worst laptop don't buy this laptop</td>\n",
       "      <td>1</td>\n",
       "      <td>2023</td>\n",
       "      <td>acer Aspire 3 Core i5 11th Gen - (8 GB/512...</td>\n",
       "    </tr>\n",
       "  </tbody>\n",
       "</table>\n",
       "</div>"
      ],
      "text/plain": [
       "     prod_id                                       product_name brand_name  \\\n",
       "0  lapto6288  acer Aspire 3 Core i5 11th Gen - (8 GB/512 GB ...       acer   \n",
       "1  lapto6288  acer Aspire 3 Core i5 11th Gen - (8 GB/512 GB ...       acer   \n",
       "2  lapto6288  acer Aspire 3 Core i5 11th Gen - (8 GB/512 GB ...       acer   \n",
       "3  lapto6288  acer Aspire 3 Core i5 11th Gen - (8 GB/512 GB ...       acer   \n",
       "4  lapto6288  acer Aspire 3 Core i5 11th Gen - (8 GB/512 GB ...       acer   \n",
       "\n",
       "  category    price  sold                                           prod_url  \\\n",
       "0   laptop  44999.0     1  https://www.flipkart.com/acer-aspire-3-core-i5...   \n",
       "1   laptop  44999.0     1  https://www.flipkart.com/acer-aspire-3-core-i5...   \n",
       "2   laptop  44999.0     1  https://www.flipkart.com/acer-aspire-3-core-i5...   \n",
       "3   laptop  44999.0     1  https://www.flipkart.com/acer-aspire-3-core-i5...   \n",
       "4   laptop  44999.0     1  https://www.flipkart.com/acer-aspire-3-core-i5...   \n",
       "\n",
       "         customer_name purchase_date customers_city  rating  \\\n",
       "0    Flipkart Customer    2023-01-01       Karimpur       5   \n",
       "1    Flipkart Customer    2023-01-01         Ranchi       4   \n",
       "2       Dhiraj Jaiswal    2023-01-01          Sidhi       3   \n",
       "3  Vasamsetti Durgayya    2023-01-01      Hyderabad       5   \n",
       "4    Flipkart Customer    2023-01-01      Bengaluru       1   \n",
       "\n",
       "                comment_head  \\\n",
       "0              Great product   \n",
       "1                Really Nice   \n",
       "2               Does the job   \n",
       "3        Best in the market!   \n",
       "4  Did not meet expectations   \n",
       "\n",
       "                                             comment  purchase_month  \\\n",
       "0                           Very good product 🙂🎈🎈🎈🎈🎈               1   \n",
       "1                                               nice               1   \n",
       "2                                               Good               1   \n",
       "3  Good product at this price.i am very happy.per...               1   \n",
       "4                 Worst laptop don't buy this laptop               1   \n",
       "\n",
       "   purchase_year                                     short_name  \n",
       "0           2023  acer Aspire 3 Core i5 11th Gen - (8 GB/512...  \n",
       "1           2023  acer Aspire 3 Core i5 11th Gen - (8 GB/512...  \n",
       "2           2023  acer Aspire 3 Core i5 11th Gen - (8 GB/512...  \n",
       "3           2023  acer Aspire 3 Core i5 11th Gen - (8 GB/512...  \n",
       "4           2023  acer Aspire 3 Core i5 11th Gen - (8 GB/512...  "
      ]
     },
     "execution_count": 44,
     "metadata": {},
     "output_type": "execute_result"
    }
   ],
   "source": [
    "df.head()"
   ]
  },
  {
   "cell_type": "markdown",
   "id": "a5d1eafd",
   "metadata": {},
   "source": [
    "# 8. saving changes into new file."
   ]
  },
  {
   "cell_type": "code",
   "execution_count": 45,
   "id": "3fad1dfa",
   "metadata": {},
   "outputs": [],
   "source": [
    "df.to_csv(r\"D:\\flipkart reviews\\all csv combine\\processed_reviews.csv\" , index=False)"
   ]
  },
  {
   "cell_type": "code",
   "execution_count": null,
   "id": "4da20fef",
   "metadata": {},
   "outputs": [],
   "source": []
  }
 ],
 "metadata": {
  "kernelspec": {
   "display_name": "Python 3 (ipykernel)",
   "language": "python",
   "name": "python3"
  },
  "language_info": {
   "codemirror_mode": {
    "name": "ipython",
    "version": 3
   },
   "file_extension": ".py",
   "mimetype": "text/x-python",
   "name": "python",
   "nbconvert_exporter": "python",
   "pygments_lexer": "ipython3",
   "version": "3.9.7"
  }
 },
 "nbformat": 4,
 "nbformat_minor": 5
}
